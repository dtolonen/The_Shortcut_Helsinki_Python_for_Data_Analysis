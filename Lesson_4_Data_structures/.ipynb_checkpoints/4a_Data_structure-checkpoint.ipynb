{
 "cells": [
  {
   "cell_type": "markdown",
   "metadata": {},
   "source": [
    "### 4a Data Structure -  lecture"
   ]
  },
  {
   "cell_type": "code",
   "execution_count": null,
   "metadata": {},
   "outputs": [],
   "source": []
  },
  {
   "cell_type": "markdown",
   "metadata": {},
   "source": [
    "Son Huynh 13.02.2020"
   ]
  },
  {
   "cell_type": "markdown",
   "metadata": {},
   "source": [
    "## Table of content:\n",
    "* [1. Data Structure](#1.-Data-Structure)\n",
    "* [2. String & List Slicing](#2.-String-and-List-slicing)\n",
    "* [3. String Methods](#3.-String-methods)\n",
    "* [4. List Methods](#4.-List-methods)\n",
    "* [5. Iterating list and dictionary](#5.-Iterating-list-and-dictionary)\n",
    "* [6. List Comprehension](#6.-List-comprehension)"
   ]
  },
  {
   "cell_type": "markdown",
   "metadata": {},
   "source": [
    "## <p style=\"color:blue;\">1. Data Structure</p>"
   ]
  },
  {
   "cell_type": "markdown",
   "metadata": {},
   "source": [
    "#### 1.1 Recap: primitive data types"
   ]
  },
  {
   "cell_type": "code",
   "execution_count": 1,
   "metadata": {
    "scrolled": true
   },
   "outputs": [
    {
     "name": "stdout",
     "output_type": "stream",
     "text": [
      "3\n",
      "3.0\n",
      "23 years old\n",
      "False\n",
      "None\n"
     ]
    }
   ],
   "source": [
    "print(int(3.9))\n",
    "\n",
    "print(float(3))\n",
    "\n",
    "print(str(23) + ' years old')\n",
    "\n",
    "print(bool(0))\n",
    "\n",
    "print(None)"
   ]
  },
  {
   "cell_type": "markdown",
   "metadata": {},
   "source": [
    "#### 1.2 List\n",
    "- Is mutable (can be modified)\n",
    "- Defined by square bracket [ ]\n",
    "- Each item in list has an index, starting from 0"
   ]
  },
  {
   "cell_type": "code",
   "execution_count": 2,
   "metadata": {},
   "outputs": [
    {
     "data": {
      "text/plain": [
       "1"
      ]
     },
     "execution_count": 2,
     "metadata": {},
     "output_type": "execute_result"
    }
   ],
   "source": [
    "myList = [1, 'a', True]\n",
    "\n",
    "myList[0] #Accessing first element\n",
    "\n",
    "# you can basically put anything in a list"
   ]
  },
  {
   "cell_type": "code",
   "execution_count": 3,
   "metadata": {},
   "outputs": [
    {
     "data": {
      "text/plain": [
       "3"
      ]
     },
     "execution_count": 3,
     "metadata": {},
     "output_type": "execute_result"
    }
   ],
   "source": [
    "len(myList)"
   ]
  },
  {
   "cell_type": "markdown",
   "metadata": {},
   "source": [
    "#### 1.3 Tuple\n",
    "- Is immutable (can't be modified)\n",
    "- Defined by parenthesis ( )\n",
    "- Items are indexed similar to list\n",
    "- Used when you don't want your data to be accidentally modified"
   ]
  },
  {
   "cell_type": "code",
   "execution_count": 4,
   "metadata": {},
   "outputs": [
    {
     "data": {
      "text/plain": [
       "[1, 2, 3]"
      ]
     },
     "execution_count": 4,
     "metadata": {},
     "output_type": "execute_result"
    }
   ],
   "source": [
    "myTuple = (10, 'Dinosaur', [1,2,3]) #List and tuple can contains any data type (for example: another list)\n",
    "\n",
    "myTuple[2]\n",
    "#[2] eg if you want to get thihs index pos 2 item. ut to get 2 - 'chain indexing' use myTuple[2][2]]"
   ]
  },
  {
   "cell_type": "code",
   "execution_count": 5,
   "metadata": {},
   "outputs": [
    {
     "ename": "TypeError",
     "evalue": "'tuple' object does not support item assignment",
     "output_type": "error",
     "traceback": [
      "\u001b[0;31m---------------------------------------------------------------------------\u001b[0m",
      "\u001b[0;31mTypeError\u001b[0m                                 Traceback (most recent call last)",
      "\u001b[0;32m<ipython-input-5-ac206c65cd4c>\u001b[0m in \u001b[0;36m<module>\u001b[0;34m\u001b[0m\n\u001b[0;32m----> 1\u001b[0;31m \u001b[0mmyTuple\u001b[0m\u001b[0;34m[\u001b[0m\u001b[0;36m0\u001b[0m\u001b[0;34m]\u001b[0m \u001b[0;34m=\u001b[0m \u001b[0;36m20\u001b[0m\u001b[0;34m\u001b[0m\u001b[0;34m\u001b[0m\u001b[0m\n\u001b[0m",
      "\u001b[0;31mTypeError\u001b[0m: 'tuple' object does not support item assignment"
     ]
    }
   ],
   "source": [
    "myTuple[0] = 20"
   ]
  },
  {
   "cell_type": "code",
   "execution_count": null,
   "metadata": {},
   "outputs": [],
   "source": [
    "# Packing\n",
    "basket = ('apple','pear','mango')"
   ]
  },
  {
   "cell_type": "code",
   "execution_count": null,
   "metadata": {},
   "outputs": [],
   "source": [
    "# Unpacking\n",
    "fruit1, fruit2, fruit3 = basket\n",
    "print(fruit1)\n",
    "print(fruit2)\n",
    "print(fruit3)"
   ]
  },
  {
   "cell_type": "markdown",
   "metadata": {},
   "source": [
    "#### 1.4 Dictionary\n",
    "- Is a collection of key:value pairs\n",
    "- Defined by curly bracket { }\n",
    "- A pair of key:value is separated by a colon :\n",
    "- **Key must be unique within a dictionary, but the value may not, can't have two siilarlym named keys**\n",
    "- Items in dictionary are unorganized (not index) (unlike list, \n",
    "where each element has an ordered position?) so when you create a dict, the order will be randomised, so you must call an element by the key."
   ]
  },
  {
   "cell_type": "code",
   "execution_count": null,
   "metadata": {},
   "outputs": [],
   "source": [
    "myDict = {'name': 'Jane Doe', 'age': 23, 'grades': [5, 4, 5]}\n",
    "\n",
    "myDict['name'] #Syntax to access the value of a key in myDict"
   ]
  },
  {
   "cell_type": "code",
   "execution_count": null,
   "metadata": {
    "scrolled": true
   },
   "outputs": [],
   "source": [
    "#Modifying value of a key\n",
    "myDict['age'] = 30\n",
    "\n",
    "myDict['age']"
   ]
  },
  {
   "cell_type": "code",
   "execution_count": null,
   "metadata": {},
   "outputs": [],
   "source": [
    "# Fabio question: \n",
    "\n",
    "a = [1,2]\n",
    "print(id(a))\n",
    "\n",
    "b = [2,3]\n",
    "myTuple = (a,b)\n",
    "\n",
    "a += [1]\n",
    "print(id(a))\n",
    "\n",
    "print(a)\n",
    "myTuple\n",
    "\n",
    "# not sure if I got all that above\n",
    "# the tuple is still pointing to the orig loc, so that's why dit doesn't change"
   ]
  },
  {
   "cell_type": "markdown",
   "metadata": {},
   "source": [
    "## <p style=\"color:blue;\">2. String and List slicing</p>"
   ]
  },
  {
   "cell_type": "markdown",
   "metadata": {},
   "source": [
    "__Basic slicing syntax:__\n",
    "- __someList[startpoint : endpoint : step]__\n",
    "- Same syntax for slicing tuple and string\n",
    "\n",
    "\n",
    "- If startpoint is omitted, python will start from beginning of the string or list\n",
    "- If endpoint is omitted, python will end at the last list item or last string character"
   ]
  },
  {
   "cell_type": "code",
   "execution_count": null,
   "metadata": {},
   "outputs": [],
   "source": [
    "myList = [1, 2, 3, 4, 5, 6, 7, 8]"
   ]
  },
  {
   "cell_type": "code",
   "execution_count": null,
   "metadata": {},
   "outputs": [],
   "source": [
    "# Get the number at index 0\n",
    "\n",
    "myList[0]"
   ]
  },
  {
   "cell_type": "code",
   "execution_count": null,
   "metadata": {},
   "outputs": [],
   "source": [
    "# Get the first 3 numbers\n",
    "\n",
    "myList[0:3] #or myList[:3]\n",
    "\n",
    "# in python will count from 1, so START POINT - inclusive - must be 0, \n",
    "# and the END POINT is not inclusive\n",
    "\n"
   ]
  },
  {
   "cell_type": "code",
   "execution_count": null,
   "metadata": {},
   "outputs": [],
   "source": [
    "# Get all numbers starting from the second element to the end\n",
    "\n",
    "myList[1:]"
   ]
  },
  {
   "cell_type": "code",
   "execution_count": null,
   "metadata": {},
   "outputs": [],
   "source": [
    "# Get the last 2 numbers\n",
    "#myList[6:]\n",
    "myList[-2:] # want to start from the second last elementa and slice until the end"
   ]
  },
  {
   "cell_type": "code",
   "execution_count": null,
   "metadata": {},
   "outputs": [],
   "source": [
    "# Get odd numbers\n",
    "\n",
    "myList[::2] \n",
    "# leave start and end point blank, start from beg and go through \n",
    "# and skip numbers to get only the odd numbers"
   ]
  },
  {
   "cell_type": "code",
   "execution_count": null,
   "metadata": {},
   "outputs": [],
   "source": [
    "# A string can be considered a list of characters and has similar slicing methods, \n",
    "# so it has similar slicing methods\n",
    "\n",
    "myString = 'Hello'\n",
    "\n",
    "myString[1:]\n",
    "\n"
   ]
  },
  {
   "cell_type": "markdown",
   "metadata": {},
   "source": [
    "## <p style=\"color:blue;\">3. String methods</p>"
   ]
  },
  {
   "cell_type": "markdown",
   "metadata": {},
   "source": [
    "#### 3.1 capitalize(), lower() and upper()"
   ]
  },
  {
   "cell_type": "code",
   "execution_count": null,
   "metadata": {},
   "outputs": [],
   "source": [
    "myString = 'valentine'"
   ]
  },
  {
   "cell_type": "code",
   "execution_count": null,
   "metadata": {},
   "outputs": [],
   "source": [
    "#You can capitalize the first word of a string, so you can use the 'capitalize' method\n",
    "# NOTE! the difference between method and function is that \n",
    "# a method attached to an object, and a function is not\n",
    "# but the functionaLITY is the same, they both calculate something for you. \n",
    "\n",
    "myString = myString.capitalize()\n",
    "\n",
    "myString"
   ]
  },
  {
   "cell_type": "code",
   "execution_count": null,
   "metadata": {},
   "outputs": [],
   "source": [
    "#You can convert every letter to uppercase\n",
    "myString = myString.upper()\n",
    "\n",
    "myString"
   ]
  },
  {
   "cell_type": "code",
   "execution_count": null,
   "metadata": {},
   "outputs": [],
   "source": [
    "#You can convert every letter to lowercase\n",
    "myString = myString.lower()\n",
    "\n",
    "myString"
   ]
  },
  {
   "cell_type": "markdown",
   "metadata": {},
   "source": [
    "#### 3.2 startswith() and endswith()"
   ]
  },
  {
   "cell_type": "code",
   "execution_count": null,
   "metadata": {},
   "outputs": [],
   "source": [
    "myString = 'Valentine'\n",
    "\n",
    "myString.startswith('V') # Check if myString startswith 'V'"
   ]
  },
  {
   "cell_type": "code",
   "execution_count": null,
   "metadata": {},
   "outputs": [],
   "source": [
    "myString.endswith('E') #remember Python is case-sensitive"
   ]
  },
  {
   "cell_type": "markdown",
   "metadata": {},
   "source": [
    "#### 3.3 strip(), lstrip() and rstrip()"
   ]
  },
  {
   "cell_type": "code",
   "execution_count": null,
   "metadata": {},
   "outputs": [],
   "source": [
    "myString = '    Valentine      '\n",
    "\n",
    "myString.strip(' ') #Removing leading and trailing characters. \n",
    "# Insert the removable letters inside (' ') eg. ('__')\n",
    "# Rami: can you combine eg an underscore and a space? Yes eg ('_ ')\n",
    "\n"
   ]
  },
  {
   "cell_type": "code",
   "execution_count": null,
   "metadata": {},
   "outputs": [],
   "source": [
    "myString.lstrip(' ') #Removing leading characters only. L for Left, R for Right"
   ]
  },
  {
   "cell_type": "code",
   "execution_count": null,
   "metadata": {},
   "outputs": [],
   "source": [
    "myString.rstrip(' ') #Removing trailing characters only"
   ]
  },
  {
   "cell_type": "markdown",
   "metadata": {},
   "source": [
    "#### 3.4 replace()"
   ]
  },
  {
   "cell_type": "code",
   "execution_count": null,
   "metadata": {},
   "outputs": [],
   "source": [
    "myString = 'Valentino'\n",
    "\n",
    "myString.replace('o', 'e') \n",
    "# and if you want to remove 'o', just leave it empty myString.replace('o', '')"
   ]
  },
  {
   "cell_type": "markdown",
   "metadata": {},
   "source": [
    "#### 3.5 split()"
   ]
  },
  {
   "cell_type": "code",
   "execution_count": null,
   "metadata": {},
   "outputs": [],
   "source": [
    "myString = 'Valentine is today!'\n",
    "\n",
    "word_list = myString.split(' ') \n",
    "# return a list of splitted substrings. 'Split by space' is very common, \n",
    "# so often you don't have to explicity name it so just word_list = myString.split() \n",
    "word_list"
   ]
  },
  {
   "cell_type": "markdown",
   "metadata": {},
   "source": [
    "#### 3.6 join()"
   ]
  },
  {
   "cell_type": "code",
   "execution_count": null,
   "metadata": {},
   "outputs": [],
   "source": [
    "word_list"
   ]
  },
  {
   "cell_type": "code",
   "execution_count": null,
   "metadata": {},
   "outputs": [],
   "source": [
    "'_'.join(word_list) # Join substrings in a list together, separated by an underscore"
   ]
  },
  {
   "cell_type": "markdown",
   "metadata": {},
   "source": [
    "## <p style=\"color:blue;\">4. List methods</p>"
   ]
  },
  {
   "cell_type": "markdown",
   "metadata": {},
   "source": [
    "#### 4.1 index()\n",
    "Return the index position of an item"
   ]
  },
  {
   "cell_type": "code",
   "execution_count": null,
   "metadata": {},
   "outputs": [],
   "source": [
    "myList = ['chocolate', 'wine', 'candle']"
   ]
  },
  {
   "cell_type": "code",
   "execution_count": null,
   "metadata": {},
   "outputs": [],
   "source": [
    "myList.index('candle') \n",
    "# so, again, .index is a function not a method?"
   ]
  },
  {
   "cell_type": "markdown",
   "metadata": {},
   "source": [
    "#### 4.2 append()\n",
    "\n",
    "You can use append to add a new item to the end of the list"
   ]
  },
  {
   "cell_type": "code",
   "execution_count": null,
   "metadata": {},
   "outputs": [],
   "source": [
    "# Sonja question about adding lists, how does this differ from append?\n",
    "\n",
    "# myList = [1,2]\n",
    "# myList2 = [3,4]\n",
    "# \n",
    "# myList + myList2\n",
    "# print (myList + myList2)\n",
    "# \n",
    "# myList.append(myList2)\n",
    "# print(myList)\n",
    "# # when you use append, it adds as a single element, it's not adding the list?\n",
    "# # So the second is append a list inside a list?"
   ]
  },
  {
   "cell_type": "code",
   "execution_count": null,
   "metadata": {},
   "outputs": [],
   "source": [
    "myList.append('girlfriend')\n",
    "\n",
    "myList # The append method modifies the list directly"
   ]
  },
  {
   "cell_type": "markdown",
   "metadata": {},
   "source": [
    "#### 4.3 sort() and sorted()"
   ]
  },
  {
   "cell_type": "code",
   "execution_count": null,
   "metadata": {},
   "outputs": [],
   "source": [
    "myList.sort() # you could use reverse=True or False here, as well\n",
    "\n",
    "myList # The sort method modifies the list directly"
   ]
  },
  {
   "cell_type": "code",
   "execution_count": null,
   "metadata": {},
   "outputs": [],
   "source": [
    "# If we want to sort our list but don't want to modify it, \n",
    "# use the built-in function sorted() instead\n",
    "\n",
    "\n",
    "newList = sorted(myList, reverse=True) \n",
    "# You can use the reverse keyword in both sort() method and sorted() function\n",
    "# False is possible as well\n",
    "\n",
    "newList"
   ]
  },
  {
   "cell_type": "markdown",
   "metadata": {},
   "source": [
    "#### 4.4 Delete an item\n",
    "\n",
    "You can use del, pop() or remove() to delete an item"
   ]
  },
  {
   "cell_type": "code",
   "execution_count": null,
   "metadata": {},
   "outputs": [],
   "source": [
    "myList = ['chocolate', 'wine', 'candle', 'girlfriend']\n",
    "myList"
   ]
  },
  {
   "cell_type": "code",
   "execution_count": null,
   "metadata": {},
   "outputs": [],
   "source": [
    "del myList[2] # You can also delete a range of items. Try also del myList[0:2] \n",
    "\n",
    "myList"
   ]
  },
  {
   "cell_type": "code",
   "execution_count": null,
   "metadata": {},
   "outputs": [],
   "source": [
    "myList.pop(0) # pop() will delete and return the deleted item"
   ]
  },
  {
   "cell_type": "code",
   "execution_count": null,
   "metadata": {},
   "outputs": [],
   "source": [
    "myList # so the list has been modified"
   ]
  },
  {
   "cell_type": "code",
   "execution_count": null,
   "metadata": {},
   "outputs": [],
   "source": [
    "myList.remove('girlfriend')\n",
    "\n",
    "myList\n",
    "\n",
    "# you actually have to give the actual value, not the index position"
   ]
  },
  {
   "cell_type": "markdown",
   "metadata": {},
   "source": [
    "## <p style=\"color:blue;\">5. Iterating list and dictionary</p>"
   ]
  },
  {
   "cell_type": "code",
   "execution_count": null,
   "metadata": {},
   "outputs": [],
   "source": [
    "dishes = ['sushi', 'pizza', 'taco']\n",
    "\n",
    "for dish in dishes:\n",
    "    print(dish)\n",
    "    \n",
    "# in creating a tuple, usually it's bec. you want \n",
    "# to look through the dictionary, so iterating is important.\n"
   ]
  },
  {
   "cell_type": "markdown",
   "metadata": {},
   "source": [
    "#### 5.1 Iterating list with index position\n",
    "enumerate() returns a list of tuples (index position, value) that can be unpacked"
   ]
  },
  {
   "cell_type": "code",
   "execution_count": null,
   "metadata": {},
   "outputs": [],
   "source": [
    "for idx, dish in enumerate(dishes):\n",
    "    print(idx, dish)\n",
    "    \n",
    "# What if while you're looping through the loop, you also want the index position?\n",
    "# remember: a Tuple can be used to be unpacked into two separate variables: \n",
    "# the index and the actual value\n",
    "\n",
    "# Now, If you wanted to store te results, you'd have to declare a new variable, do this -- \n",
    "\n",
    "# a = []\n",
    "# for idx, dish in enumerate(dishes):\n",
    "#     a.append(idx, dish)\n",
    "# a\n",
    "\n",
    "#    -- So, now your result would be stored in a."
   ]
  },
  {
   "cell_type": "markdown",
   "metadata": {},
   "source": [
    "#### 5.2 Iterating 2 lists simultaneously\n",
    "zip() returns a list of tuples of elements at the same index position"
   ]
  },
  {
   "cell_type": "code",
   "execution_count": null,
   "metadata": {},
   "outputs": [],
   "source": [
    "prices = ['19€', '15€', '13€']"
   ]
  },
  {
   "cell_type": "code",
   "execution_count": null,
   "metadata": {},
   "outputs": [],
   "source": [
    "for dish, price in zip(dishes, prices):\n",
    "    print(dish, price)\n",
    "    \n",
    "# Now two variables dish and price"
   ]
  },
  {
   "cell_type": "markdown",
   "metadata": {},
   "source": [
    "zip() is useful for creating dictionary"
   ]
  },
  {
   "cell_type": "code",
   "execution_count": null,
   "metadata": {},
   "outputs": [],
   "source": [
    "menu = {}\n",
    "for dish, price in zip(dishes, prices): \n",
    "# you could also put another list, bue you'd nnormally want them to have the same length. \n",
    "# If you reversed the dishes, pries, dish, price - it'll always consider the shorter one.\n",
    "    menu[dish] = price\n",
    "\n",
    "menu"
   ]
  },
  {
   "cell_type": "markdown",
   "metadata": {},
   "source": [
    "#### 5.3 Iterating dictionary\n",
    "dict.items() returns a list of tuples (key, value)"
   ]
  },
  {
   "cell_type": "code",
   "execution_count": null,
   "metadata": {
    "scrolled": true
   },
   "outputs": [],
   "source": [
    "for dish, price in menu.items(): # using the items method\n",
    "    print(f'The price of {dish} is {price}.')\n",
    "    \n",
    "# this is how you iterate through a dictionary"
   ]
  },
  {
   "cell_type": "markdown",
   "metadata": {},
   "source": [
    "## <p style=\"color:blue;\">6. List comprehension</p>\n",
    "\n",
    "- when you want to create a list in one line\n",
    "- A nice replacement for writing traditional for-loop and map(lambda...) \n",
    "- Does the same as map(lambda), but recommended bec it's shorter and more Pythonic, \n",
    "but there are times when map(lambda) is more appropriate. \n",
    "- Not all for-loop can be written as list comprehension"
   ]
  },
  {
   "cell_type": "code",
   "execution_count": null,
   "metadata": {},
   "outputs": [],
   "source": [
    "aList = [x*10 for x in range(1,10)] # remember, means 1 to 9 bec is not inclusive\n",
    "aList"
   ]
  },
  {
   "cell_type": "code",
   "execution_count": null,
   "metadata": {},
   "outputs": [],
   "source": [
    "list1 = [1, 2, 3]\n",
    "list2 = [x*2 for x in list1]\n",
    "list2\n",
    "\n",
    "# iterating through another list, instead of writing 'in range'"
   ]
  }
 ],
 "metadata": {
  "kernelspec": {
   "display_name": "Python 3",
   "language": "python",
   "name": "python3"
  },
  "language_info": {
   "codemirror_mode": {
    "name": "ipython",
    "version": 3
   },
   "file_extension": ".py",
   "mimetype": "text/x-python",
   "name": "python",
   "nbconvert_exporter": "python",
   "pygments_lexer": "ipython3",
   "version": "3.7.3"
  }
 },
 "nbformat": 4,
 "nbformat_minor": 4
}
