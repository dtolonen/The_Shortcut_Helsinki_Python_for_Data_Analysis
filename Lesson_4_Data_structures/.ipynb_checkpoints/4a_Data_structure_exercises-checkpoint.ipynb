{
 "cells": [
  {
   "cell_type": "markdown",
   "metadata": {},
   "source": [
    "### 4a Data Structure - exercises and solutions"
   ]
  },
  {
   "cell_type": "code",
   "execution_count": null,
   "metadata": {},
   "outputs": [],
   "source": []
  },
  {
   "cell_type": "markdown",
   "metadata": {},
   "source": [
    "## Part 1: Small practice problems"
   ]
  },
  {
   "cell_type": "markdown",
   "metadata": {},
   "source": [
    "1a- Given this nested list, use slicing to grab the last 3 elements"
   ]
  },
  {
   "cell_type": "code",
   "execution_count": null,
   "metadata": {},
   "outputs": [],
   "source": [
    "lst = [1,2,[3,4],[5,[100,200,['john doe']],23,11],6,1,7]"
   ]
  },
  {
   "cell_type": "code",
   "execution_count": null,
   "metadata": {},
   "outputs": [],
   "source": [
    "# Son's solution: \n",
    "# lst[-3:]\n",
    "#------------\n",
    "\n",
    "\n",
    "# Your solution here\n",
    "\n",
    "# 'reversed method'\n",
    "new_lst = lst[-3:]\n",
    "# the next is more complicated, as you have to count elements\n",
    "# new_lst = lst[:4]\n",
    "new_lst"
   ]
  },
  {
   "cell_type": "markdown",
   "metadata": {},
   "source": [
    "1b- Now use list indexing to grab the name 'john doe' and store it in a variable called __name__"
   ]
  },
  {
   "cell_type": "code",
   "execution_count": null,
   "metadata": {},
   "outputs": [],
   "source": [
    "# Son's solution\n",
    "# name = lst[3][1][2][0]\n",
    "# \n",
    "# name\n",
    "# #------------\n",
    "\n",
    "\n",
    "# Your solution here\n",
    "\n",
    "# name = lst[3][1][2] # this level was not enough, \n",
    "# this is only the 'OBJECT containing a single string' \n",
    "# but not the string itself (note it shows  square brackets and inv commas)\n",
    "# so to get rid of the square brackets, do one more level \n",
    "name = lst[3][1][2][0]\n",
    "name"
   ]
  },
  {
   "cell_type": "markdown",
   "metadata": {},
   "source": [
    "1c- Capitalize the first initials in name"
   ]
  },
  {
   "cell_type": "code",
   "execution_count": null,
   "metadata": {},
   "outputs": [],
   "source": [
    "# Son's solution\n",
    "# ''' Some students came up with different creative solutions using the knowledge in the lecture. \n",
    "# That is good for practicing forming logic.\n",
    "# There is also a function designed specifically for this question.\n",
    "# '''\n",
    "# \n",
    "# name.title()\n",
    "#-----------\n",
    "\n",
    "\n",
    "\n",
    "# Your solution here\n",
    "\n",
    "name = name.capitalize() # try commenting this out, why is J still a capital letter?\n",
    "name = name.replace('d', 'D')\n",
    "\n",
    "name"
   ]
  },
  {
   "cell_type": "code",
   "execution_count": null,
   "metadata": {},
   "outputs": [],
   "source": []
  },
  {
   "cell_type": "markdown",
   "metadata": {},
   "source": [
    "2 - Given the string s\n",
    "\n",
    "Write a function that prints the number of times the string __bob__ or __Bob__ occurs in `s`. For example, if `s = 'azcBobobeg'`, then your program should print\n",
    "\n",
    "Number of times bob occurs is: 2"
   ]
  },
  {
   "cell_type": "code",
   "execution_count": null,
   "metadata": {},
   "outputs": [],
   "source": [
    "# Son's solution\n",
    "# s = 'azcbobobegBobBOB'\n",
    "# \n",
    "# def countBob(s):\n",
    "#     bobCount = 0\n",
    "#     for i in range(len(s)):\n",
    "#         # check to see if the substring accessed is equal to 'bob'\n",
    "#         if (s[i:i+3] == 'bob' or s[i:i+3] == 'Bob'):\n",
    "#             bobCount += 1\n",
    "#             \n",
    "#     print(\"Number of times bob occurs is: \" + str(bobCount))\n",
    "# countBob(s)\n",
    "# \n",
    "# ''' Note: using s.count() would not work if the string contains overlapping string e.g. 'bobob',\n",
    "# because it will count only one bob.\n",
    "# '''\n",
    "#-------------\n",
    "\n",
    "\n",
    "\n",
    "\n",
    "# Son: Good to keep everything in a function\n",
    "# everything should be calculated locally (local var)\n",
    "# you can use slicing as you have below\n",
    "# \n",
    "# s[2:4]\n",
    "    \n",
    "# there are at least two ways to do this: \n",
    "# you could convert the string into lowercase and \n",
    "# count the bobs, regardless of case. Or you can do\n",
    "# two logics, for the two bobs separately.\n",
    "\n",
    "# Your solution here\n",
    "\n",
    "\n",
    "s = 'azcBobobeg'\n",
    "\n",
    "def tester():\n",
    "    if 'bob' in s:\n",
    "        b = 0\n",
    "        b += 1\n",
    "        \n",
    "    if 'Bob' in s:\n",
    "        b += 1\n",
    "    \n",
    "    print(b)\n",
    "    \n",
    "tester()\n",
    "\n"
   ]
  },
  {
   "cell_type": "code",
   "execution_count": null,
   "metadata": {},
   "outputs": [],
   "source": []
  },
  {
   "cell_type": "markdown",
   "metadata": {},
   "source": [
    "3- Create a function that grabs the email website domain from a string in the form:\n",
    "\n",
    "user@domain.com\n",
    "\n",
    "So for example, passing __\"user@domain.com\"__ would return: __domain.com__\n"
   ]
  },
  {
   "cell_type": "code",
   "execution_count": null,
   "metadata": {},
   "outputs": [],
   "source": [
    "# Son's solution\n",
    "\n",
    "# email = \"user@domain.com\"\n",
    "# \n",
    "# def grabEmail(email):\n",
    "#     splitted_list = email.split('@')\n",
    "#     \n",
    "#     return splitted_list[-1]\n",
    "# \n",
    "# grabEmail(email)\n",
    "#-------------\n",
    "\n",
    "\n",
    "\n",
    "# Your solution here\n",
    "\n",
    "email = input(\"put your email here: \")\n",
    "\n",
    "def emailer(email):\n",
    "    x = email.find('@')\n",
    "    email = email[x+1:] # [x+1:] ainoa kohta, jossa ongelma ymmärtää\n",
    "    print(email)\n",
    "    \n",
    "emailer(email)"
   ]
  },
  {
   "cell_type": "code",
   "execution_count": null,
   "metadata": {},
   "outputs": [],
   "source": []
  },
  {
   "cell_type": "markdown",
   "metadata": {},
   "source": [
    "4a- First, let's make a list of grocery, consisting of __\"banana\",\"orange\", and \"apple\"__, and name the list __grocery__."
   ]
  },
  {
   "cell_type": "code",
   "execution_count": null,
   "metadata": {},
   "outputs": [],
   "source": [
    "# Son's solution\n",
    "#grocery = [\"banana\",\"orange\", \"apple\"]\n",
    "#--------------\n",
    "\n",
    "# Your solution goes here\n",
    "\n",
    "grocery = ['banana', 'orange', 'apple']\n"
   ]
  },
  {
   "cell_type": "markdown",
   "metadata": {},
   "source": [
    "Now you are given two dictionaries, showing the inventory stock and price of each item in the store."
   ]
  },
  {
   "cell_type": "code",
   "execution_count": null,
   "metadata": {},
   "outputs": [],
   "source": [
    "stock = {\n",
    "    \"banana\": 6,\n",
    "    \"apple\": 0,\n",
    "    \"orange\": 32,\n",
    "    \"pear\": 15\n",
    "}\n",
    "\n",
    "prices = {\n",
    "    \"banana\": 4,\n",
    "    \"apple\": 2,\n",
    "    \"orange\": 1.5,\n",
    "    \"pear\": 3\n",
    "}"
   ]
  },
  {
   "cell_type": "markdown",
   "metadata": {},
   "source": [
    "4b- Define a function __compute_bill__ that takes one argument __grocery__ as input. In the function, create a variable __total__ with an initial value of zero.For each item in the __grocery__ list, add the price of that item to total. Finally, return the __total__. Ignore whether or not the item you're billing for is in stock.Note that your function should work for any grocery list."
   ]
  },
  {
   "cell_type": "code",
   "execution_count": null,
   "metadata": {},
   "outputs": [],
   "source": [
    "# Son's solution\n",
    "\n",
    "# def compute_bill(grocery):\n",
    "#     total = 0\n",
    "#     for item in grocery:\n",
    "#         total = total + prices[item]\n",
    "#         \n",
    "#     return total\n",
    "# \n",
    "# #Running compute_bill(grocery) should return 7.5\n",
    "# compute_bill(grocery)\n",
    "#---------------\n",
    "\n",
    "\n",
    "# Write your code below!\n",
    "\n",
    "\n",
    "# With help from the web, this works: \n",
    "\n",
    "def compute_bill(food): # takes a list as a parameter, any var name will do\n",
    "  total = 0\n",
    "  for item in food:\n",
    "    total += prices[item]\n",
    "  return total # this returns the calculation, but lives inside the function. \n",
    "\n",
    "\n",
    "#Running compute_bill(grocery) should return 7.5\n",
    "compute_bill(grocery) \n",
    "\n",
    "# 1. This calls the above function, givig grocery as arg to the fn\n",
    "# from now on, INTERNALLY!, it'll use 'food', not 'grocery'\n",
    "\n",
    "#print (compute_bill(grocery)) # this also works\n",
    "\n",
    "\n",
    "\n",
    "\n",
    "\n"
   ]
  },
  {
   "cell_type": "markdown",
   "metadata": {},
   "source": [
    "4c- Make the following changes to your __compute_bill__ function:\n",
    "\n",
    "- While you loop through each item of grocery, only add the price of the item to total if the item's stock count is greater than zero.\n",
    "- If the item is in stock and after you add the price to the total, subtract one from the item's stock count.\n",
    "\n"
   ]
  },
  {
   "cell_type": "code",
   "execution_count": null,
   "metadata": {},
   "outputs": [],
   "source": [
    "# Son's solution\n",
    "# def compute_bill(grocery):\n",
    "#     total = 0\n",
    "#     for item in grocery:\n",
    "#         if stock[item] > 0:\n",
    "#             total = total + prices[item]\n",
    "#             stock[item] = stock[item] - 1\n",
    "#             \n",
    "#     return total\n",
    "# \n",
    "# compute_bill(grocery)\n",
    "#---------\n",
    "\n",
    "\n",
    "\n",
    "\n",
    "# def compute_bill(grocery):\n",
    "#     total = 0\n",
    "#     # Your solution goes here\n",
    "#     return total\n",
    "# \n",
    "# compute_bill(grocery)\n",
    "\n",
    "def compute_bill(fruits):\n",
    "\n",
    "    total = 0\n",
    "    for item in fruits: \n",
    "        if (stock[item]>0):\n",
    "            total = total + prices[item]\n",
    "            stock[item] -= 1\n",
    "#         print(stock)\n",
    "#         print(total)\n",
    "    return total \n",
    "\n",
    "compute_bill(grocery)\n",
    "\n",
    "# Note! when I ran the cell many times, it started to show a number lower than 5.5, \n",
    "# bec I was continuing to subtract!"
   ]
  },
  {
   "cell_type": "code",
   "execution_count": null,
   "metadata": {},
   "outputs": [],
   "source": [
    "# Son's added line: \n",
    "stock"
   ]
  },
  {
   "cell_type": "markdown",
   "metadata": {},
   "source": [
    "Running compute_bill(grocery) should now return 5.5, and the stock dictionary should become\n",
    "\n",
    "stock = {\n",
    "    \"banana\": 5,\n",
    "    \"apple\": 0,\n",
    "    \"orange\": 31,\n",
    "    \"pear\": 15\n",
    "}"
   ]
  },
  {
   "cell_type": "markdown",
   "metadata": {},
   "source": [
    "## Part 2: Letter count for a haiku\n",
    "\n",
    "The aim of this exercise is to count the number of occurences for each unique letter in a haiku"
   ]
  },
  {
   "cell_type": "markdown",
   "metadata": {},
   "source": [
    "### Practicing with Strings\n",
    "Below is a simple \"haiku\" poem split into its individual lines. The code below prints each line for the haiku to be presentable."
   ]
  },
  {
   "cell_type": "code",
   "execution_count": null,
   "metadata": {
    "scrolled": true
   },
   "outputs": [],
   "source": [
    "list_of_strings = [\"Green and speckled legs,\", \"Hop on logs and lily pads\", \"Splash in cool water.\"]\n",
    "\n",
    "for line in list_of_strings:\n",
    "    print(line)"
   ]
  },
  {
   "cell_type": "markdown",
   "metadata": {},
   "source": [
    "Now **join all of the lines into a string** and then print the string. The lines should be printed on separate lines. As a reminder: new lines are represented in coding using the new line character \"**\\n**\"."
   ]
  },
  {
   "cell_type": "code",
   "execution_count": null,
   "metadata": {},
   "outputs": [],
   "source": [
    "# Note! Didn't get to this exercise.\n",
    "\n",
    "\n",
    "# Define an empty string \"haiku\"\n",
    "haiku = ''\n",
    "\n",
    "\n",
    "# Join the lines in list_of_strings into haiku\n",
    "# Your code here\n",
    "haiku = '\\n'.join(list_of_strings) # Son's suggested solution\n",
    "\n",
    "\n",
    "\n",
    "#print\n",
    "print(haiku)"
   ]
  },
  {
   "cell_type": "markdown",
   "metadata": {},
   "source": [
    "### Using Lists\n",
    "\n",
    "From here, a **list** needs to be constructed for the individual characters that could be present in the string **haiku** defined in Part 1. For this purpose, a string of the *alphabet* can be used as below."
   ]
  },
  {
   "cell_type": "code",
   "execution_count": null,
   "metadata": {},
   "outputs": [],
   "source": [
    "# Define a string of all the characters in the English alphabet\n",
    "alphabet = \"abcdefghijklmnopqrstuvwxyz\"\n",
    "\n",
    "\n",
    "# Define a list for each character in the English alphabet\n",
    "items = []\n",
    "\n",
    "\n",
    "# Use list append to add each letter to items\n",
    "for letter in alphabet:\n",
    "    # Your code here\n",
    "    items.append(letter) # Son's suggested solution\n",
    "\n",
    "print(items)"
   ]
  },
  {
   "cell_type": "markdown",
   "metadata": {},
   "source": [
    "Now we need a list containing the *count* of each character. Using a technique of your choice, **create a list of 26 0's** representing the count of the 26 characters in the alphabet."
   ]
  },
  {
   "cell_type": "code",
   "execution_count": null,
   "metadata": {},
   "outputs": [],
   "source": [
    "# Define a list for the count of each character in the English alphabet\n",
    "#count = # Your code here\n",
    "count = [0]*26 # Son's suggested solution\n",
    "\n",
    "count"
   ]
  },
  {
   "cell_type": "raw",
   "metadata": {},
   "source": [
    "Calling count should show\n",
    "[0, 0, 0, 0, 0, 0, 0, 0, 0, 0, 0, 0, 0, 0, 0, 0, 0, 0, 0, 0, 0, 0, 0, 0, 0, 0]"
   ]
  },
  {
   "cell_type": "markdown",
   "metadata": {},
   "source": [
    "From here, the main code of the program can be written. As an example, the code below has a good structure, but it's not the only good structure. _Coding is an art and thus many different painters will use different strokes_. Also, there are some logical errors to the example code. Try fixing it or implement your own structure."
   ]
  },
  {
   "cell_type": "markdown",
   "metadata": {},
   "source": [
    "Your hint is that there are only lower case letters in the list **items** defined above. Also note that everytime you run your code, it will be cumulatively adding to the list **count**. Thus, you will need to re-run the code above to reset each element in the list **count** to 0 every time you run the code below."
   ]
  },
  {
   "cell_type": "code",
   "execution_count": null,
   "metadata": {},
   "outputs": [],
   "source": [
    "def countLetter(haiku, items, count):\n",
    "    for character in haiku:\n",
    "        count[items.index(character)] += 1\n",
    "    \n",
    "    i = 0\n",
    "    while i < len(items):\n",
    "        print(items[i] + \":\" + count[i])\n",
    "        i += 1\n",
    "\n",
    "countLetter(haiku, items, count)"
   ]
  },
  {
   "cell_type": "code",
   "execution_count": null,
   "metadata": {
    "scrolled": true
   },
   "outputs": [],
   "source": [
    "# Son's suggested solution\n",
    "# def countLetter(haiku, items, count):\n",
    "#     for character in haiku:\n",
    "#         if character.lower() in items:\n",
    "#             count[items.index(character.lower())] += 1\n",
    "# \n",
    "#     i = 0\n",
    "#     while i < len(items):\n",
    "#         print(items[i] + \":\" + str(count[i]))\n",
    "#         i += 1\n",
    "# \n",
    "# countLetter(haiku, items, count)\n",
    "#------------\n",
    "\n",
    "\n",
    "\n",
    "def countLetter(haiku, items, count):\n",
    "    # Your code here\n",
    "\n",
    "countLetter(haiku, items, count)"
   ]
  },
  {
   "cell_type": "raw",
   "metadata": {},
   "source": [
    "Knowledge check:\n",
    "\n",
    "- Can you write def countLetter(a, b, c): and change haiku to a, items to b, count to c inside the countLetter function instead?\n",
    "- count is outside of function countLetter, therefore it's a global variable. But why you can modify it inside the function? And do you think this is a robust design? If not, how can you improve it?"
   ]
  },
  {
   "cell_type": "raw",
   "metadata": {},
   "source": [
    "- Yes you can. Take haiku for example. Even when they have the same name, the haiku outside and inside countLetter() are different variables. When you call haiku inside the function, it refers to the local haiku and not the global one. So you can give it a different name.\n",
    "\n",
    "The same thing also applies to for/while-loop. Take the code below for example. In the statement 'for x in x', the first x is a temporary iteration variable, and it takes precedence before the second x, which is a list. Therefore when you write 'print(x)', it will print the iteration variable, not the 'more global' x list."
   ]
  },
  {
   "cell_type": "code",
   "execution_count": null,
   "metadata": {},
   "outputs": [],
   "source": [
    "def func(x): # We will pass a list here\n",
    "    for x in x: # change the line to 'for i in x' to see the difference\n",
    "        print(x)\n",
    "\n",
    "func([1, 2])"
   ]
  },
  {
   "cell_type": "raw",
   "metadata": {},
   "source": [
    "- You can modify count because it is mutable and has mutable methods, such as count[] = ... or count.append().\n",
    "\n",
    "This is usually not a good design, since you don't want your variable to be passed around and can be editted by some function. Later on it will be hard to keep track of the bugs and you might see unexpected behaviours. Ideally, you want to create count inside the function, contain the modifications within it and return the wanted result.\n",
    "\n",
    "In data analysis, people usually don't create function for everything, because it allows them to work faster with global variables while exploring the data. However, later on when you put your model into production, it's a good idea to utilize some functional/OOP programming to make the design more robust for deployment."
   ]
  },
  {
   "cell_type": "markdown",
   "metadata": {},
   "source": [
    "### Upgrading to a Dictionary\n",
    "\n",
    "As a few would have realised by now, the **dictionary** data type would be suitable for the operations attempting to be conducted in this \"haiku\" program. Thus, an upgrade is needed. Note that your **key** will be the character, and the **value** will be the count of each character."
   ]
  },
  {
   "cell_type": "code",
   "execution_count": null,
   "metadata": {},
   "outputs": [],
   "source": [
    "# Son's suggested solution\n",
    "# def countDict(items, count):\n",
    "#     # Create an empty dictionary\n",
    "#     dictionary = {}\n",
    "# \n",
    "# \n",
    "#     # Zip the two lists items and count together, and add each item:count pair to dictionary\n",
    "#     for letter, count in zip(items, count):\n",
    "#         dictionary[letter] = count\n",
    "#     \n",
    "#     return dictionary\n",
    "# \n",
    "# # Print the dictionary\n",
    "# for k, v in countDict(items, count).items():\n",
    "#     print(k + \":\" + str(v))   \n",
    "#------------\n",
    "\n",
    "\n",
    "\n",
    "\n",
    "def countDict(items, count):\n",
    "    # Create an empty dictionary\n",
    "    dictionary = {}\n",
    "\n",
    "\n",
    "    # Zip the two lists items and count together, and add each item:count pair to dictionary\n",
    "    # Your code here\n",
    "    \n",
    "    return dictionary\n",
    "\n",
    "# Print the dictionary in the format: There are <count> <letter>\n",
    "# Your code here   "
   ]
  },
  {
   "cell_type": "code",
   "execution_count": null,
   "metadata": {},
   "outputs": [],
   "source": []
  }
 ],
 "metadata": {
  "kernelspec": {
   "display_name": "Python 3",
   "language": "python",
   "name": "python3"
  },
  "language_info": {
   "codemirror_mode": {
    "name": "ipython",
    "version": 3
   },
   "file_extension": ".py",
   "mimetype": "text/x-python",
   "name": "python",
   "nbconvert_exporter": "python",
   "pygments_lexer": "ipython3",
   "version": "3.7.3"
  }
 },
 "nbformat": 4,
 "nbformat_minor": 4
}
