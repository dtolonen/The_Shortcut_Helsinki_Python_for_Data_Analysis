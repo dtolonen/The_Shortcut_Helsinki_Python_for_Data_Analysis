{
 "cells": [
  {
   "cell_type": "markdown",
   "metadata": {},
   "source": [
    "## Introduction to Deep Learning\n",
    "\n",
    "Ali Saghi & Vinh Nguyen"
   ]
  },
  {
   "cell_type": "markdown",
   "metadata": {},
   "source": [
    "We will build a network that takes two numbers as `input`, passes them through a `hidden layer` of 10 neurons, and finally `outputs` a single non-constrained number."
   ]
  },
  {
   "cell_type": "code",
   "execution_count": 11,
   "metadata": {},
   "outputs": [],
   "source": [
    "# # Import the Sequential model and Dense layer\n",
    "# from keras.models import Sequential\n",
    "# from keras.layers import Dense"
   ]
  },
  {
   "cell_type": "code",
   "execution_count": 12,
   "metadata": {},
   "outputs": [],
   "source": [
    "# Create a Sequential\n",
    "# model = Sequential()"
   ]
  },
  {
   "cell_type": "code",
   "execution_count": 13,
   "metadata": {},
   "outputs": [],
   "source": [
    "# model"
   ]
  },
  {
   "cell_type": "code",
   "execution_count": 14,
   "metadata": {},
   "outputs": [],
   "source": [
    "# # Add an layer of 2 as input and a hidden layer of 10\n",
    "# model.add(Dense(10,input_shape=(2,),activation=\"relu\"))\n",
    "\n",
    "# # Add an output layer of 1\n",
    "# model.add(Dense(1))"
   ]
  },
  {
   "cell_type": "code",
   "execution_count": 15,
   "metadata": {},
   "outputs": [],
   "source": [
    "# # Look at our model\n",
    "# model.summary()"
   ]
  },
  {
   "cell_type": "code",
   "execution_count": 16,
   "metadata": {
    "colab": {},
    "colab_type": "code",
    "id": "IBRYoK5J-H8p"
   },
   "outputs": [],
   "source": [
    "# \"Importing the basic libraries you can use in all of your scripts\"\n",
    "\n",
    "# import matplotlib.pyplot as plt\n",
    "# import seaborn as sns\n",
    "\n",
    "# import requests"
   ]
  },
  {
   "cell_type": "markdown",
   "metadata": {},
   "source": [
    "## Impact Region"
   ]
  },
  {
   "cell_type": "markdown",
   "metadata": {},
   "source": [
    "The training data consist of measurements taken at time steps from -10 minutes before the impact region to +10 minutes after. Each time step can be viewed as an X coordinate in our graph, which has an associated position Y for the meteor at that time step.\n",
    "\n",
    "<center><img src=\"Capture.PNG\"></center>"
   ]
  },
  {
   "cell_type": "code",
   "execution_count": 17,
   "metadata": {
    "colab": {
     "base_uri": "https://localhost:8080/",
     "height": 54
    },
    "colab_type": "code",
    "id": "EIrK-esz9zAo",
    "outputId": "fd12b98d-a277-49d6-d5a7-5241ed36fa08"
   },
   "outputs": [],
   "source": [
    "!pip list -v | grep keras\n",
    "# just to check if Keras was installed in Google Colab, which I was using"
   ]
  },
  {
   "cell_type": "code",
   "execution_count": 18,
   "metadata": {
    "colab": {},
    "colab_type": "code",
    "id": "XS7HC6TG9zzw"
   },
   "outputs": [
    {
     "name": "stderr",
     "output_type": "stream",
     "text": [
      "Using TensorFlow backend.\n"
     ]
    }
   ],
   "source": [
    "import keras\n",
    "# ...and to import Keras into my Google Colab"
   ]
  },
  {
   "cell_type": "code",
   "execution_count": 19,
   "metadata": {
    "colab": {
     "base_uri": "https://localhost:8080/",
     "height": 54
    },
    "colab_type": "code",
    "id": "YZ1YIcOw92wv",
    "outputId": "1e8a5b12-6a95-4aa1-a6b8-84b6c0216abb"
   },
   "outputs": [],
   "source": [
    "# I was using Google Colab during the exercises, better if files are local!\n",
    "#from google.colab import drive \n",
    "#drive.mount('/content/gdrive')"
   ]
  },
  {
   "cell_type": "code",
   "execution_count": 20,
   "metadata": {
    "colab": {},
    "colab_type": "code",
    "id": "rg8c3CkLBXwx"
   },
   "outputs": [],
   "source": [
    "# deep learning is a part of ML area - inside AI . It's a very new\n",
    "# method that can work with a lot of datasets, and structured and \n",
    "# unstructured (meaning like video etc.). Reading articles, most of the \n",
    "# jobs are mostly about deep learning, bec most of the companies have \n",
    "# too much data and when you want to get the best results, \n",
    "# you use deep learning methods. \n",
    "\n",
    "# Layers and nodes inside layers (see image in first screengrabs). \n",
    "# They got the idea from the brain. These inputs are connected \n",
    "# to each others - nodes - and at the end, is an output layers. We\n",
    "# can't get deep into the mathematics, but will just intro the subject.\n",
    "\n",
    "# Back/propagation deep learning - this is the mathematics behind it\n",
    "\n",
    "# Terms: Network, which is composed of Input layers, hidden layers, output layers. \n",
    "# Other terms:  Edge(s), Nodes, Neurons, \n",
    "\n",
    "\n",
    "# (showing backpropagation wikipedia page) and Andrew NG \n",
    "# (from Stanford, deeplearning.ai on Youtube (see playlists), has two courses - his\n",
    "# machine learning and deep learning courses) . He starts with the mathematics\n",
    "# behind it and also does some coding at the same time.\n",
    "# This is the best place to start and also to empower your learning \n",
    "# about Machine Learning and Deep Learning. \n",
    "\n",
    "# Keras : this library is the best library to learn Deep Learning for \n",
    "# beginners, in his opinion. So, for the maths, start with the Backpropagation wiki page,\n",
    "# then the Andres NG courses, and then this Keras documentation site, \n",
    "# to get into Deep Learning for beginners. "
   ]
  },
  {
   "cell_type": "code",
   "execution_count": 21,
   "metadata": {
    "colab": {},
    "colab_type": "code",
    "id": "saVWJgedDhHw"
   },
   "outputs": [],
   "source": [
    "# First, we just want to know how to create the structure of a network:\n",
    "\n",
    "# We will build a network that takes two numbers as 'input', passes them\n",
    "# through a 'hidden layer' of 10 neurons and finally \n",
    "# output a single non-constrained number."
   ]
  },
  {
   "cell_type": "code",
   "execution_count": 22,
   "metadata": {
    "colab": {},
    "colab_type": "code",
    "id": "XIMCloDUEBvT"
   },
   "outputs": [],
   "source": [
    "# Import the Sequential model and Dense Layer\n",
    "\n",
    "# Note: in the file Ali sent to us after the lecture, these were imported \n",
    "# after the normal imports of numpy etc. and the read_csv lines too.\n",
    "\n",
    "# Like in any Machine Learning problem, first off you must create a model\n",
    "# So:\n",
    "\n",
    "from keras.models import Sequential\n",
    "from keras.layers import Dense\n",
    "# so. see, we have keras.models and keras.layers (see the Keras documentation)\n",
    "\n",
    "# Note Ali also got the 'Using TensorFlow backend' message, so it must work."
   ]
  },
  {
   "cell_type": "code",
   "execution_count": 23,
   "metadata": {
    "colab": {},
    "colab_type": "code",
    "id": "d6nUmyhbEWSi"
   },
   "outputs": [],
   "source": [
    "# So, now we want to create our model\n",
    "# ALI LATER COMMENTED THESE LINES OUT: model = Sequential()"
   ]
  },
  {
   "cell_type": "code",
   "execution_count": 24,
   "metadata": {
    "colab": {},
    "colab_type": "code",
    "id": "xLy8Fb9BFON_"
   },
   "outputs": [],
   "source": [
    "# ALI LATER COMMENTED THESE LINES OUT:  model"
   ]
  },
  {
   "cell_type": "code",
   "execution_count": 25,
   "metadata": {
    "colab": {},
    "colab_type": "code",
    "id": "HqGwVofbFTNN"
   },
   "outputs": [],
   "source": [
    "# Add a layer of 2 as input and a hidden layer of 10.\n",
    "# model.add() inside this we imported this Dense and \n",
    "# everything will do inside Dense layer - the number of hidden naurons 10\n",
    "# and then shape of input layer 2 (means two by one)\n",
    "# model.add(Dense(10,input_shape=(2,),activation=\"relu\"))\n",
    "\n",
    "# Add an output layer of 1\n",
    "# ALI LATER COMMENTED THESE LINES OUT: model.add(Dense(1))"
   ]
  },
  {
   "cell_type": "code",
   "execution_count": 26,
   "metadata": {
    "colab": {},
    "colab_type": "code",
    "id": "m92S7NsNGeGq"
   },
   "outputs": [],
   "source": [
    "# Look at our model\n",
    "# ALI LATER COMMENTED THESE LINES OUT:  model.summary()"
   ]
  },
  {
   "cell_type": "code",
   "execution_count": 27,
   "metadata": {
    "colab": {},
    "colab_type": "code",
    "id": "d4YuWRMbGiUr"
   },
   "outputs": [],
   "source": [
    "# People are having installation problems: \n",
    "# Perhaps, those will just follow along, and use \n",
    "# the afternoon slot to help each other.The idea of this is just\n",
    "# to see how everything works inside Deep Learning.\n"
   ]
  },
  {
   "cell_type": "code",
   "execution_count": 28,
   "metadata": {
    "colab": {},
    "colab_type": "code",
    "id": "LX2vemuaIVDJ"
   },
   "outputs": [],
   "source": [
    "# Impact Region\n",
    "# The training data consists of measurements taken \n",
    "# at the time steps from -10 before the impact region \n",
    "# to +10 minutes after. Each tie step can be viewed as an\n",
    "# x coordinate in our graph, which has an associated position y\n",
    "# for the meteor at that time step.\n",
    "\n",
    "# ali linked this image, but of course I don't have it: <center><img src=\"Capture_source.png\"></center>\n"
   ]
  },
  {
   "cell_type": "code",
   "execution_count": 29,
   "metadata": {
    "colab": {
     "base_uri": "https://localhost:8080/",
     "height": 206
    },
    "colab_type": "code",
    "id": "PqLHzjQPIv1e",
    "outputId": "28ce38b0-d90a-4035-b6bf-653d5d95d5fd"
   },
   "outputs": [
    {
     "data": {
      "text/html": [
       "<div>\n",
       "<style scoped>\n",
       "    .dataframe tbody tr th:only-of-type {\n",
       "        vertical-align: middle;\n",
       "    }\n",
       "\n",
       "    .dataframe tbody tr th {\n",
       "        vertical-align: top;\n",
       "    }\n",
       "\n",
       "    .dataframe thead th {\n",
       "        text-align: right;\n",
       "    }\n",
       "</style>\n",
       "<table border=\"1\" class=\"dataframe\">\n",
       "  <thead>\n",
       "    <tr style=\"text-align: right;\">\n",
       "      <th></th>\n",
       "      <th>time_steps</th>\n",
       "      <th>y_positions</th>\n",
       "    </tr>\n",
       "  </thead>\n",
       "  <tbody>\n",
       "    <tr>\n",
       "      <th>0</th>\n",
       "      <td>-10.000000</td>\n",
       "      <td>100.000000</td>\n",
       "    </tr>\n",
       "    <tr>\n",
       "      <th>1</th>\n",
       "      <td>-9.989995</td>\n",
       "      <td>99.800000</td>\n",
       "    </tr>\n",
       "    <tr>\n",
       "      <th>2</th>\n",
       "      <td>-9.979990</td>\n",
       "      <td>99.600200</td>\n",
       "    </tr>\n",
       "    <tr>\n",
       "      <th>3</th>\n",
       "      <td>-9.969985</td>\n",
       "      <td>99.400601</td>\n",
       "    </tr>\n",
       "    <tr>\n",
       "      <th>4</th>\n",
       "      <td>-9.959980</td>\n",
       "      <td>99.201201</td>\n",
       "    </tr>\n",
       "  </tbody>\n",
       "</table>\n",
       "</div>"
      ],
      "text/plain": [
       "   time_steps  y_positions\n",
       "0  -10.000000   100.000000\n",
       "1   -9.989995    99.800000\n",
       "2   -9.979990    99.600200\n",
       "3   -9.969985    99.400601\n",
       "4   -9.959980    99.201201"
      ]
     },
     "execution_count": 29,
     "metadata": {},
     "output_type": "execute_result"
    }
   ],
   "source": [
    "# Reading the data\n",
    "\n",
    "import numpy as np\n",
    "import pandas as pd\n",
    "\n",
    "# I was using Google Colab during the exercises, better if files are local!\n",
    "# Colab link: time_steps = pd.read_csv(\"/content/gdrive/My Drive/Colab Notebooks/time_steps.csv\", header=None, names=[\"time_steps\"])\n",
    "# Colab link: y_positions = pd.read_csv(\"/content/gdrive/My Drive/Colab Notebooks/y_positions.csv\", header=None, names=[\"y_positions\"])\n",
    "\n",
    "\n",
    "\n",
    "\n",
    "## Reading the csv file into dataframe\n",
    "#This one still not used: irrigation_machine = pd.read_csv(\"/content/gdrive/My Drive/Colab Notebooks/irrigation_machine.csv\")\n",
    "# Usual thing to test: data_frame_name.head()\n",
    "# Usual thing to test: data_frame_name.info()\n",
    "\n",
    "time_steps = pd.read_csv(\"time_steps.csv\", header=None, names=[\"time_steps\"])\n",
    "y_positions = pd.read_csv(\"y_positions.csv\", header=None, names=[\"y_positions\"])\n",
    "time_positions = pd.concat([time_steps , y_positions], axis=1)\n",
    "time_positions.head()\n",
    "\n"
   ]
  },
  {
   "cell_type": "code",
   "execution_count": 30,
   "metadata": {
    "colab": {},
    "colab_type": "code",
    "id": "OKATlO-SJs_l"
   },
   "outputs": [],
   "source": [
    "# Shows us an image () Ali imported into the notebook about a meteor's\n",
    "# orbital (curve) towards Earth on a graph between 'pos' and 'time'.\n",
    "# So, we have the y_positions and time_steps above - this is the data we \n",
    "# have and we want our algorith to predict from the range of data we have,\n",
    "# what is the shape of the orbit. \n",
    "# This is the idea and the problem we want to go through here."
   ]
  },
  {
   "cell_type": "code",
   "execution_count": 31,
   "metadata": {
    "colab": {},
    "colab_type": "code",
    "id": "GPsWnZpRUWvm"
   },
   "outputs": [],
   "source": [
    "# So, now we want to create out model. We'll use an easy model. \n",
    "# Later you can create model 2 , 3 etc (by playing of the no of neurons, \n",
    "# of hidden layers etc.)\n",
    "\n",
    "# Create np arrays of time and positions\n",
    "time_steps = np.array(time_positions[\"time_steps\"])\n",
    "y_positions = np.array(time_positions[\"y_positions\"])\n"
   ]
  },
  {
   "cell_type": "code",
   "execution_count": 32,
   "metadata": {
    "colab": {},
    "colab_type": "code",
    "id": "g1boX4lOLDhV"
   },
   "outputs": [],
   "source": [
    "\n",
    "# Create a model\n",
    "from keras.models import Sequential\n",
    "from keras.layers import Dense\n",
    "\n",
    "model_1 = Sequential()\n",
    "model_1.add(Dense(50, input_shape=(1,),activation=\"relu\")) # 50 nodes\n",
    "model_1.add(Dense(50,activation=\"relu\")) # this is the second hidden layer\n",
    "model_1.add(Dense(50,activation=\"relu\")) # this is the third hidden layer\n",
    "# so, we have added an input and hidden layer, activation function is relu\n",
    "model_1.add(Dense(1)) #output layer?"
   ]
  },
  {
   "cell_type": "code",
   "execution_count": 33,
   "metadata": {
    "colab": {
     "base_uri": "https://localhost:8080/",
     "height": 34
    },
    "colab_type": "code",
    "id": "WeaLOEbFMfXI",
    "outputId": "b5f19e14-0bf1-4c36-da90-971bc73b7aee"
   },
   "outputs": [
    {
     "data": {
      "text/plain": [
       "<keras.engine.sequential.Sequential at 0x1329c0b70>"
      ]
     },
     "execution_count": 33,
     "metadata": {},
     "output_type": "execute_result"
    }
   ],
   "source": [
    "model_1"
   ]
  },
  {
   "cell_type": "code",
   "execution_count": 34,
   "metadata": {
    "colab": {
     "base_uri": "https://localhost:8080/",
     "height": 295
    },
    "colab_type": "code",
    "id": "zakQbCQJM6TE",
    "outputId": "f42bfb05-9ad9-438f-8329-62156b96044e"
   },
   "outputs": [
    {
     "name": "stdout",
     "output_type": "stream",
     "text": [
      "Model: \"sequential_1\"\n",
      "_________________________________________________________________\n",
      "Layer (type)                 Output Shape              Param #   \n",
      "=================================================================\n",
      "dense_1 (Dense)              (None, 50)                100       \n",
      "_________________________________________________________________\n",
      "dense_2 (Dense)              (None, 50)                2550      \n",
      "_________________________________________________________________\n",
      "dense_3 (Dense)              (None, 50)                2550      \n",
      "_________________________________________________________________\n",
      "dense_4 (Dense)              (None, 1)                 51        \n",
      "=================================================================\n",
      "Total params: 5,251\n",
      "Trainable params: 5,251\n",
      "Non-trainable params: 0\n",
      "_________________________________________________________________\n"
     ]
    }
   ],
   "source": [
    "model_1.summary()"
   ]
  },
  {
   "cell_type": "markdown",
   "metadata": {},
   "source": [
    "##### Training\n",
    "Remember that before training the Keras models we need to compile them. This can be done with the `.compile()` method. The .compile() method takes arguments such as the `optimizer`, used for weight updating, and the `loss` function, which is what we want to minimize. Training the model is as easy as calling the `.fit()` method, passing on the features, labels and number of epochs to train for."
   ]
  },
  {
   "cell_type": "code",
   "execution_count": 35,
   "metadata": {
    "colab": {},
    "colab_type": "code",
    "id": "StDvlsbXM8SF"
   },
   "outputs": [],
   "source": [
    "# We don't need to understand the physics behind this, \"I don't,\" \n",
    "# but the orbit is A KIND OF TIME SERIES, and we'll use a \n",
    "# model to predict the shape of the orbit (specifically outside?) the range\n",
    "# now we want to model the data that we've trained?\n",
    "\n",
    "# At the moment we have a data frame \n",
    "# but inside it we want to put numpy arrays. \n",
    "# (goes to create a new field above create a model)\n",
    "\n"
   ]
  },
  {
   "cell_type": "code",
   "execution_count": 36,
   "metadata": {
    "colab": {},
    "colab_type": "code",
    "id": "A5GMvQ74UGIF"
   },
   "outputs": [],
   "source": [
    "# Compile our model\n",
    "model_1.compile(optimizer=\"adam\", loss=\"mse\") \n",
    "\n",
    "# I had model_compile... \n",
    "# instead of model_1.compile... Ali had model_ but mine didn't work...\n",
    "# now, with model_1.compile, it works...\n",
    "# mse is mean square error?"
   ]
  },
  {
   "cell_type": "code",
   "execution_count": 37,
   "metadata": {
    "colab": {
     "base_uri": "https://localhost:8080/",
     "height": 1000
    },
    "colab_type": "code",
    "id": "VjiXwOj8SR4c",
    "outputId": "1736ac34-4f59-4dd9-b419-8c3dc77827f2"
   },
   "outputs": [
    {
     "name": "stdout",
     "output_type": "stream",
     "text": [
      "Epoch 1/30\n",
      "2000/2000 [==============================] - 0s 92us/step - loss: 1558.9122\n",
      "Epoch 2/30\n",
      "2000/2000 [==============================] - 0s 32us/step - loss: 245.5879\n",
      "Epoch 3/30\n",
      "2000/2000 [==============================] - 0s 30us/step - loss: 139.8552\n",
      "Epoch 4/30\n",
      "2000/2000 [==============================] - 0s 30us/step - loss: 120.4020\n",
      "Epoch 5/30\n",
      "2000/2000 [==============================] - 0s 29us/step - loss: 100.7075\n",
      "Epoch 6/30\n",
      "2000/2000 [==============================] - 0s 30us/step - loss: 77.7953\n",
      "Epoch 7/30\n",
      "2000/2000 [==============================] - 0s 30us/step - loss: 53.7778\n",
      "Epoch 8/30\n",
      "2000/2000 [==============================] - 0s 30us/step - loss: 33.0380\n",
      "Epoch 9/30\n",
      "2000/2000 [==============================] - 0s 29us/step - loss: 18.6708\n",
      "Epoch 10/30\n",
      "2000/2000 [==============================] - 0s 29us/step - loss: 10.9860\n",
      "Epoch 11/30\n",
      "2000/2000 [==============================] - 0s 30us/step - loss: 6.4331\n",
      "Epoch 12/30\n",
      "2000/2000 [==============================] - 0s 30us/step - loss: 4.0363\n",
      "Epoch 13/30\n",
      "2000/2000 [==============================] - 0s 30us/step - loss: 3.0196\n",
      "Epoch 14/30\n",
      "2000/2000 [==============================] - 0s 30us/step - loss: 1.9665\n",
      "Epoch 15/30\n",
      "2000/2000 [==============================] - 0s 30us/step - loss: 1.4797\n",
      "Epoch 16/30\n",
      "2000/2000 [==============================] - 0s 30us/step - loss: 0.9958\n",
      "Epoch 17/30\n",
      "2000/2000 [==============================] - 0s 30us/step - loss: 0.7351\n",
      "Epoch 18/30\n",
      "2000/2000 [==============================] - 0s 31us/step - loss: 0.6389\n",
      "Epoch 19/30\n",
      "2000/2000 [==============================] - 0s 35us/step - loss: 0.4618\n",
      "Epoch 20/30\n",
      "2000/2000 [==============================] - 0s 34us/step - loss: 0.4140\n",
      "Epoch 21/30\n",
      "2000/2000 [==============================] - 0s 34us/step - loss: 0.3181\n",
      "Epoch 22/30\n",
      "2000/2000 [==============================] - 0s 33us/step - loss: 0.3609\n",
      "Epoch 23/30\n",
      "2000/2000 [==============================] - 0s 31us/step - loss: 0.2222\n",
      "Epoch 24/30\n",
      "2000/2000 [==============================] - 0s 31us/step - loss: 0.2055\n",
      "Epoch 25/30\n",
      "2000/2000 [==============================] - 0s 30us/step - loss: 0.1726\n",
      "Epoch 26/30\n",
      "2000/2000 [==============================] - 0s 118us/step - loss: 0.1631\n",
      "Epoch 27/30\n",
      "2000/2000 [==============================] - 0s 29us/step - loss: 0.1751\n",
      "Epoch 28/30\n",
      "2000/2000 [==============================] - 0s 30us/step - loss: 0.1403\n",
      "Epoch 29/30\n",
      "2000/2000 [==============================] - 0s 30us/step - loss: 0.1298\n",
      "Epoch 30/30\n",
      "2000/2000 [==============================] - 0s 29us/step - loss: 0.1106\n",
      "2000/2000 [==============================] - 0s 18us/step\n",
      "Final lost value: 0.0707758699238766\n"
     ]
    }
   ],
   "source": [
    "# Fitting the model with our dataset\n",
    "model_1.fit(time_steps, y_positions, epochs=30)\n",
    "\n",
    "# Accuracy\n",
    "print(\"Final lost value:\", model_1.evaluate(time_steps, y_positions))"
   ]
  },
  {
   "cell_type": "markdown",
   "metadata": {},
   "source": [
    "##### Predicting the orbit!\n",
    "\n",
    "We've already trained a model that approximates the orbit of the meteor approaching earth.\n",
    "Since we trained the model for values between -10 and 10 minutes, the model hasn't yet seen any other values for different time steps. We will visualize how the model behaves on unseen data."
   ]
  },
  {
   "cell_type": "code",
   "execution_count": 42,
   "metadata": {
    "colab": {
     "base_uri": "https://localhost:8080/",
     "height": 130
    },
    "colab_type": "code",
    "id": "9Kim7PHhRvA5",
    "outputId": "06aaaab3-e8c4-48a5-f633-458b66845da1"
   },
   "outputs": [],
   "source": [
    "# Create a function for plotting the orbit\n",
    "import matplotlib.pyplot as plt\n",
    "import seaborn as sns\n",
    "\n",
    "\n",
    "def plot_orbit(model_preds):\n",
    "    axeslim = int(len(model_preds)/2)\n",
    "    plt.plot(np.arange(-axeslim,axeslim+1),np.arange(-axeslim,axeslim+1)**2,color=\"mediumslateblue\")\n",
    "    plt.plot(np.arange(-axeslim,axeslim+1),model_preds,color=\"orange\")\n",
    "    plt.axis([-40,41,-5,550])\n",
    "    plt.legend([\"Scientists's orbit\",\"Model prediction\"])\n",
    "    plt.title(\"Model orbit vs Scientist's orbit\")\n",
    "    plt.show()\n",
    "\n",
    "\n",
    "# # Copied into chat by Ali, in case the above doesn't work\n",
    "# def plot_orbit(model_preds):\n",
    "#    axeslim = int(len(model_preds)/2)\n",
    "#    plt.plot(np.arange(-axeslim,axeslim+1),np.arange(-axeslim,axeslim+1)**2,color=\"mediumslateblue\")\n",
    "#    plt.plot(np.arange(-axeslim,axeslim+1),model_preds,color=\"orange\")\n",
    "#    plt.axis([-40,41,-5,550])\n",
    "#    plt.legend([\"Scientists's orbit\",\"Model prediction\"])\n",
    "#    plt.title(\"Model orbit vs Scientist's orbit\")\n",
    "#    plt.show()\n"
   ]
  },
  {
   "cell_type": "code",
   "execution_count": 43,
   "metadata": {
    "colab": {
     "base_uri": "https://localhost:8080/",
     "height": 255
    },
    "colab_type": "code",
    "id": "w6wVm6oIXCY1",
    "outputId": "6fa76510-7428-436d-a5bb-ac559bec0438"
   },
   "outputs": [
    {
     "data": {
      "image/png": "[encoded data removed]",
      "text/plain": [
       "<Figure size 432x288 with 1 Axes>"
      ]
     },
     "metadata": {
      "needs_background": "light"
     },
     "output_type": "display_data"
    }
   ],
   "source": [
    "# Predict 20 minutes\n",
    "#my original didn't work? twenty_minuts = model_1.predict(np.arange(-40, 41))\n",
    "#my original didn't work? plot_orbit(twenty_minuts)\n",
    "\n",
    "# Ali's code:\n",
    "twenty_minuts = model_1.predict(np.arange(-10,11))\n",
    "plot_orbit(twenty_minuts)\n",
    "\n",
    "# talk about optimization for accuracy\n",
    "# Ali comment to Seppo: Deep Learning means that you have too much data.\n",
    "# Here, we have only like 300 (data points?) of data, so not much."
   ]
  },
  {
   "cell_type": "code",
   "execution_count": 44,
   "metadata": {},
   "outputs": [
    {
     "data": {
      "image/png": "[encoded data removed]",
      "text/plain": [
       "<Figure size 432x288 with 1 Axes>"
      ]
     },
     "metadata": {
      "needs_background": "light"
     },
     "output_type": "display_data"
    }
   ],
   "source": [
    "# Predict 40 minutes \n",
    "twenty_minuts = model_1.predict(np.arange(-40,41))\n",
    "plot_orbit(twenty_minuts)"
   ]
  },
  {
   "cell_type": "markdown",
   "metadata": {},
   "source": [
    "## Create a different network"
   ]
  },
  {
   "cell_type": "code",
   "execution_count": 45,
   "metadata": {
    "colab": {},
    "colab_type": "code",
    "id": "aWcRamzMY-Tw"
   },
   "outputs": [],
   "source": [
    "\n",
    "model_2 = Sequential()\n",
    "model_2.add(Dense(25, input_shape=(1,), activation=\"relu\"))\n",
    "# relu means rectified linear\n",
    "model_2.add(Dense(25, activation=\"relu\"))\n",
    "model_2.add(Dense(55, activation=\"relu\"))\n",
    "model_2.add(Dense(50, activation=\"relu\"))\n",
    "model_2.add(Dense(50, activation=\"relu\"))\n",
    "model_2.add(Dense(1))"
   ]
  },
  {
   "cell_type": "code",
   "execution_count": null,
   "metadata": {
    "colab": {},
    "colab_type": "code",
    "id": "wi-bWZ15ZsIq"
   },
   "outputs": [],
   "source": [
    "# So, in general, If you want to know how something works, \n",
    "# you create a model, create some layers and put some data inside it\n",
    "# that's all we have done here. If you don't have enough data, \n",
    "# just use Machine Learning algorithms - your work will be more accurate."
   ]
  },
  {
   "cell_type": "code",
   "execution_count": 46,
   "metadata": {
    "colab": {
     "base_uri": "https://localhost:8080/",
     "height": 364
    },
    "colab_type": "code",
    "id": "haO3sjT8aAWN",
    "outputId": "4788e103-ffc6-46e3-cef1-4b66f65dd85f"
   },
   "outputs": [
    {
     "name": "stdout",
     "output_type": "stream",
     "text": [
      "Model: \"sequential_2\"\n",
      "_________________________________________________________________\n",
      "Layer (type)                 Output Shape              Param #   \n",
      "=================================================================\n",
      "dense_5 (Dense)              (None, 25)                50        \n",
      "_________________________________________________________________\n",
      "dense_6 (Dense)              (None, 25)                650       \n",
      "_________________________________________________________________\n",
      "dense_7 (Dense)              (None, 55)                1430      \n",
      "_________________________________________________________________\n",
      "dense_8 (Dense)              (None, 50)                2800      \n",
      "_________________________________________________________________\n",
      "dense_9 (Dense)              (None, 50)                2550      \n",
      "_________________________________________________________________\n",
      "dense_10 (Dense)             (None, 1)                 51        \n",
      "=================================================================\n",
      "Total params: 7,531\n",
      "Trainable params: 7,531\n",
      "Non-trainable params: 0\n",
      "_________________________________________________________________\n"
     ]
    }
   ],
   "source": [
    "model_2.summary()"
   ]
  },
  {
   "cell_type": "code",
   "execution_count": 47,
   "metadata": {
    "colab": {},
    "colab_type": "code",
    "id": "fwqHp-hZaHEd"
   },
   "outputs": [],
   "source": [
    "# Ali will send us his notebook. so I can look at my errors \n",
    "# and stuff I wasn't fast enough to type above.\n",
    "\n",
    "# Next week will be reviewing your project and the week after that \n",
    "# you'll present your project. \n",
    "\n",
    "\n",
    "\n",
    "# -------- From here, all is from Ali's notebook ---------"
   ]
  },
  {
   "cell_type": "code",
   "execution_count": 48,
   "metadata": {},
   "outputs": [
    {
     "name": "stdout",
     "output_type": "stream",
     "text": [
      "Epoch 1/50\n",
      "2000/2000 [==============================] - 0s 136us/step - loss: 1108.7978\n",
      "Epoch 2/50\n",
      "2000/2000 [==============================] - 0s 42us/step - loss: 146.3420\n",
      "Epoch 3/50\n",
      "2000/2000 [==============================] - 0s 43us/step - loss: 106.3374\n",
      "Epoch 4/50\n",
      "2000/2000 [==============================] - 0s 38us/step - loss: 57.6929\n",
      "Epoch 5/50\n",
      "2000/2000 [==============================] - 0s 37us/step - loss: 21.0661\n",
      "Epoch 6/50\n",
      "2000/2000 [==============================] - 0s 37us/step - loss: 6.1734\n",
      "Epoch 7/50\n",
      "2000/2000 [==============================] - 0s 37us/step - loss: 3.2450\n",
      "Epoch 8/50\n",
      "2000/2000 [==============================] - 0s 37us/step - loss: 1.9061\n",
      "Epoch 9/50\n",
      "2000/2000 [==============================] - 0s 38us/step - loss: 0.8822\n",
      "Epoch 10/50\n",
      "2000/2000 [==============================] - 0s 38us/step - loss: 0.7482\n",
      "Epoch 11/50\n",
      "2000/2000 [==============================] - 0s 37us/step - loss: 0.4994\n",
      "Epoch 12/50\n",
      "2000/2000 [==============================] - 0s 37us/step - loss: 0.3384\n",
      "Epoch 13/50\n",
      "2000/2000 [==============================] - 0s 37us/step - loss: 0.4809\n",
      "Epoch 14/50\n",
      "2000/2000 [==============================] - 0s 38us/step - loss: 0.2418\n",
      "Epoch 15/50\n",
      "2000/2000 [==============================] - 0s 37us/step - loss: 0.1447\n",
      "Epoch 16/50\n",
      "2000/2000 [==============================] - 0s 39us/step - loss: 0.1253\n",
      "Epoch 17/50\n",
      "2000/2000 [==============================] - 0s 37us/step - loss: 0.1631\n",
      "Epoch 18/50\n",
      "2000/2000 [==============================] - 0s 38us/step - loss: 0.2300\n",
      "Epoch 19/50\n",
      "2000/2000 [==============================] - 0s 39us/step - loss: 0.1160\n",
      "Epoch 20/50\n",
      "2000/2000 [==============================] - 0s 38us/step - loss: 0.0590\n",
      "Epoch 21/50\n",
      "2000/2000 [==============================] - 0s 39us/step - loss: 0.0582\n",
      "Epoch 22/50\n",
      "2000/2000 [==============================] - 0s 39us/step - loss: 0.0623\n",
      "Epoch 23/50\n",
      "2000/2000 [==============================] - 0s 39us/step - loss: 0.0721\n",
      "Epoch 24/50\n",
      "2000/2000 [==============================] - 0s 37us/step - loss: 0.0939\n",
      "Epoch 25/50\n",
      "2000/2000 [==============================] - 0s 39us/step - loss: 0.0663\n",
      "Epoch 26/50\n",
      "2000/2000 [==============================] - 0s 40us/step - loss: 0.0544\n",
      "Epoch 27/50\n",
      "2000/2000 [==============================] - 0s 41us/step - loss: 0.0684\n",
      "Epoch 28/50\n",
      "2000/2000 [==============================] - 0s 42us/step - loss: 0.0588\n",
      "Epoch 29/50\n",
      "2000/2000 [==============================] - 0s 43us/step - loss: 0.1475\n",
      "Epoch 30/50\n",
      "2000/2000 [==============================] - 0s 52us/step - loss: 0.0898\n",
      "Epoch 31/50\n",
      "2000/2000 [==============================] - 0s 41us/step - loss: 0.0754\n",
      "Epoch 32/50\n",
      "2000/2000 [==============================] - 0s 38us/step - loss: 0.3469\n",
      "Epoch 33/50\n",
      "2000/2000 [==============================] - 0s 36us/step - loss: 2.2195\n",
      "Epoch 34/50\n",
      "2000/2000 [==============================] - 0s 39us/step - loss: 0.3892\n",
      "Epoch 35/50\n",
      "2000/2000 [==============================] - 0s 43us/step - loss: 0.1283\n",
      "Epoch 36/50\n",
      "2000/2000 [==============================] - 0s 39us/step - loss: 0.1459\n",
      "Epoch 37/50\n",
      "2000/2000 [==============================] - 0s 36us/step - loss: 0.2781\n",
      "Epoch 38/50\n",
      "2000/2000 [==============================] - 0s 43us/step - loss: 0.1011\n",
      "Epoch 39/50\n",
      "2000/2000 [==============================] - 0s 53us/step - loss: 0.0722\n",
      "Epoch 40/50\n",
      "2000/2000 [==============================] - 0s 47us/step - loss: 0.1194\n",
      "Epoch 41/50\n",
      "2000/2000 [==============================] - 0s 49us/step - loss: 0.0352\n",
      "Epoch 42/50\n",
      "2000/2000 [==============================] - 0s 49us/step - loss: 0.0569\n",
      "Epoch 43/50\n",
      "2000/2000 [==============================] - 0s 49us/step - loss: 0.1175\n",
      "Epoch 44/50\n",
      "2000/2000 [==============================] - 0s 51us/step - loss: 0.1280\n",
      "Epoch 45/50\n",
      "2000/2000 [==============================] - 0s 50us/step - loss: 0.0358\n",
      "Epoch 46/50\n",
      "2000/2000 [==============================] - 0s 49us/step - loss: 0.0190\n",
      "Epoch 47/50\n",
      "2000/2000 [==============================] - 0s 46us/step - loss: 0.0667\n",
      "Epoch 48/50\n",
      "2000/2000 [==============================] - 0s 44us/step - loss: 0.0662\n",
      "Epoch 49/50\n",
      "2000/2000 [==============================] - 0s 44us/step - loss: 0.0756\n",
      "Epoch 50/50\n",
      "2000/2000 [==============================] - 0s 50us/step - loss: 0.0393\n",
      "2000/2000 [==============================] - 0s 27us/step\n",
      "Final lost value: 0.021682672458235176\n"
     ]
    }
   ],
   "source": [
    "# Compile our model\n",
    "model_2.compile(optimizer=\"adam\",loss=\"mse\")\n",
    "\n",
    "# Fitting the model with our dataset\n",
    "model_2.fit(time_steps,y_positions,epochs=50)\n",
    "\n",
    "# Accuracy\n",
    "print(\"Final lost value:\",model_2.evaluate(time_steps,y_positions))"
   ]
  },
  {
   "cell_type": "code",
   "execution_count": 49,
   "metadata": {},
   "outputs": [
    {
     "data": {
      "image/png": "[encoded data removed]",
      "text/plain": [
       "<Figure size 432x288 with 1 Axes>"
      ]
     },
     "metadata": {
      "needs_background": "light"
     },
     "output_type": "display_data"
    }
   ],
   "source": [
    "# Predict 40 minutes \n",
    "minuts = model_2.predict(np.arange(-40,41))\n",
    "plot_orbit(minuts)"
   ]
  },
  {
   "cell_type": "code",
   "execution_count": null,
   "metadata": {},
   "outputs": [],
   "source": []
  }
 ],
 "metadata": {
  "colab": {
   "collapsed_sections": [],
   "name": "Deep_Learning_Lecture.ipynb",
   "provenance": []
  },
  "kernelspec": {
   "display_name": "Python 3",
   "language": "python",
   "name": "python3"
  },
  "language_info": {
   "codemirror_mode": {
    "name": "ipython",
    "version": 3
   },
   "file_extension": ".py",
   "mimetype": "text/x-python",
   "name": "python",
   "nbconvert_exporter": "python",
   "pygments_lexer": "ipython3",
   "version": "3.7.3"
  }
 },
 "nbformat": 4,
 "nbformat_minor": 4
}
