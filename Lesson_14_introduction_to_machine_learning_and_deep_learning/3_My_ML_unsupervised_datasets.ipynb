{
 "cells": [
  {
   "cell_type": "markdown",
   "metadata": {},
   "source": [
    "### First, revisiting the previous lecture for a moment:\n",
    "Ali goes back to explain regression a bit, as there was some confusion in the last lecture on ML regression. (SEE FIRST SCRENGRABS of today)\n",
    "\n",
    "Ali Saghi & Vinh Nguyen"
   ]
  },
  {
   "cell_type": "markdown",
   "metadata": {
    "colab": {},
    "colab_type": "code",
    "id": "kkUH2In12nYm"
   },
   "source": [
    "\n",
    "- Using the supervised_training Jupyter notebook and its dataset, \n",
    "Ali selects two columns suitable for regression (\"because this dataset is \n",
    "not really suitable for linear regression, we'll just use these \n",
    "two suitable columns (not text or category)\").\n",
    "in supervised learning we want to have a target and the other column we'll take as our feature.\n",
    ".eshape(1,-1) : -1 means that we don't care about how many rows (the first 1)  , but we want \n",
    "one column (the second 1) - \"remember when you studied this with Son?\"\n",
    "\n",
    "- Creates a scatter plot) \" so, you see, in our scatter plot, \n",
    "the (dots) are in a linear relationship with each other.\"\n",
    "\n",
    "- So, see: x and y are our (target and feature), a and b are our parameters. \n",
    "The rest is just a bit of mathematics of linear regression.\n",
    "\n",
    "- So, this is our linear regresion. And - iÍ we want to optimise, \n",
    "we'll work on our parameters and they'll depend on different problems.\n",
    "\n",
    "- The dots are our actual data and the black line is our predicted data - so you can see it's a pretty good prediction. \n",
    "But we have some outliers - as our model is linear regression, it can't\n",
    "predict all , but if we changed (the parameters?) or used another model,\n",
    "we could perhaps catch all of those outliers, too.\n",
    "\n",
    "__Ali will send the notebook with all this stuff__ \n",
    "(regression, clustering, classification and links etc.) together later.\n",
    "\n",
    "\n",
    "\n",
    "\n"
   ]
  },
  {
   "cell_type": "code",
   "execution_count": null,
   "metadata": {},
   "outputs": [],
   "source": []
  },
  {
   "cell_type": "markdown",
   "metadata": {},
   "source": [
    "# Today's topic: Unsupervised Learning"
   ]
  },
  {
   "cell_type": "markdown",
   "metadata": {},
   "source": [
    "#### KMeans()"
   ]
  },
  {
   "cell_type": "markdown",
   "metadata": {
    "colab": {},
    "colab_type": "code",
    "id": "r61efE8u-ktQ"
   },
   "source": [
    "So, now to our new topic for today, which is: **Clustering**\n",
    "\n",
    "Here, with clustering/unsupervised learning, we don't have any labels slike in regression. \n",
    "We're trusting that the algorithms will (find the data most similar to each other?)\n",
    "\n"
   ]
  },
  {
   "cell_type": "code",
   "execution_count": 35,
   "metadata": {
    "colab": {},
    "colab_type": "code",
    "id": "YVBlm2Hx1jbk"
   },
   "outputs": [],
   "source": [
    "# \"Importing the basic libraries you can use in all of your scripts\"\n",
    "\n",
    "import pandas as pd\n",
    "import matplotlib.pyplot as plt\n"
   ]
  },
  {
   "cell_type": "code",
   "execution_count": 36,
   "metadata": {
    "colab": {
     "base_uri": "https://localhost:8080/",
     "height": 124
    },
    "colab_type": "code",
    "id": "dCD429jq1kCs",
    "outputId": "ab754c30-6c76-445e-8d0f-fd1ea40d4fe9"
   },
   "outputs": [],
   "source": [
    "# I was using Google Colab during the exercises, better if files are local!\n",
    "#from google.colab import drive \n",
    "#drive.mount('/content/gdrive')"
   ]
  },
  {
   "cell_type": "code",
   "execution_count": 37,
   "metadata": {
    "colab": {
     "base_uri": "https://localhost:8080/",
     "height": 424
    },
    "colab_type": "code",
    "id": "6mmN8mGe1nni",
    "outputId": "3de3660c-1a79-4df7-bd4d-5bf087469e73"
   },
   "outputs": [
    {
     "data": {
      "text/html": [
       "<div>\n",
       "<style scoped>\n",
       "    .dataframe tbody tr th:only-of-type {\n",
       "        vertical-align: middle;\n",
       "    }\n",
       "\n",
       "    .dataframe tbody tr th {\n",
       "        vertical-align: top;\n",
       "    }\n",
       "\n",
       "    .dataframe thead th {\n",
       "        text-align: right;\n",
       "    }\n",
       "</style>\n",
       "<table border=\"1\" class=\"dataframe\">\n",
       "  <thead>\n",
       "    <tr style=\"text-align: right;\">\n",
       "      <th></th>\n",
       "      <th>xs</th>\n",
       "      <th>ys</th>\n",
       "    </tr>\n",
       "  </thead>\n",
       "  <tbody>\n",
       "    <tr>\n",
       "      <th>0</th>\n",
       "      <td>0.065446</td>\n",
       "      <td>-0.768664</td>\n",
       "    </tr>\n",
       "    <tr>\n",
       "      <th>1</th>\n",
       "      <td>-1.529015</td>\n",
       "      <td>-0.429531</td>\n",
       "    </tr>\n",
       "    <tr>\n",
       "      <th>2</th>\n",
       "      <td>1.709934</td>\n",
       "      <td>0.698853</td>\n",
       "    </tr>\n",
       "    <tr>\n",
       "      <th>3</th>\n",
       "      <td>1.167791</td>\n",
       "      <td>1.012626</td>\n",
       "    </tr>\n",
       "    <tr>\n",
       "      <th>4</th>\n",
       "      <td>-1.801101</td>\n",
       "      <td>-0.318613</td>\n",
       "    </tr>\n",
       "    <tr>\n",
       "      <th>...</th>\n",
       "      <td>...</td>\n",
       "      <td>...</td>\n",
       "    </tr>\n",
       "    <tr>\n",
       "      <th>295</th>\n",
       "      <td>0.356950</td>\n",
       "      <td>-1.150644</td>\n",
       "    </tr>\n",
       "    <tr>\n",
       "      <th>296</th>\n",
       "      <td>0.024822</td>\n",
       "      <td>-0.635948</td>\n",
       "    </tr>\n",
       "    <tr>\n",
       "      <th>297</th>\n",
       "      <td>-1.490756</td>\n",
       "      <td>-0.248251</td>\n",
       "    </tr>\n",
       "    <tr>\n",
       "      <th>298</th>\n",
       "      <td>-1.408588</td>\n",
       "      <td>0.256354</td>\n",
       "    </tr>\n",
       "    <tr>\n",
       "      <th>299</th>\n",
       "      <td>-1.982746</td>\n",
       "      <td>-0.545845</td>\n",
       "    </tr>\n",
       "  </tbody>\n",
       "</table>\n",
       "<p>300 rows × 2 columns</p>\n",
       "</div>"
      ],
      "text/plain": [
       "           xs        ys\n",
       "0    0.065446 -0.768664\n",
       "1   -1.529015 -0.429531\n",
       "2    1.709934  0.698853\n",
       "3    1.167791  1.012626\n",
       "4   -1.801101 -0.318613\n",
       "..        ...       ...\n",
       "295  0.356950 -1.150644\n",
       "296  0.024822 -0.635948\n",
       "297 -1.490756 -0.248251\n",
       "298 -1.408588  0.256354\n",
       "299 -1.982746 -0.545845\n",
       "\n",
       "[300 rows x 2 columns]"
      ]
     },
     "execution_count": 37,
     "metadata": {},
     "output_type": "execute_result"
    }
   ],
   "source": [
    "# I was using Google Colab during the exercises, better if files are local!\n",
    "#Colab link: coordinates = pd.read_csv(\"/content/gdrive/My Drive/Colab Notebooks/coordinates.csv\", header=None, names=[\"xs\", \"ys\"])\n",
    "# Colab link: new_coordinates = pd.read_csv(\"/content/gdrive/My Drive/Colab Notebooks/new_coordinates.csv\")\n",
    "# Colab link: seeds = pd.read_csv(\"/content/gdrive/My Drive/Colab Notebooks/seeds.csv\")\n",
    "# Colab link: varieties = pd.read_csv(\"/content/gdrive/My Drive/Colab Notebooks/varieties.csv\")\n",
    "\n",
    "# Reading the csv file into dataframe\n",
    "coordinates = pd.read_csv(\"coordinates.csv\",header=None,names=[\"xs\",\"ys\"])\n",
    "coordinates\n",
    "\n",
    "# Ali didn't read all the files at the same time, so these lines are for later:\n",
    "# new_coordinates = pd.read_csv(\"new_coordinates.csv\")\n",
    "# seeds = pd.read_csv(\"seeds.csv\")\n",
    "# varieties = pd.read_csv(\"varieties.csv\")\n",
    "\n"
   ]
  },
  {
   "cell_type": "code",
   "execution_count": 38,
   "metadata": {
    "colab": {
     "base_uri": "https://localhost:8080/",
     "height": 206
    },
    "colab_type": "code",
    "id": "FsyVYndH2VUx",
    "outputId": "6610e2bf-f18e-4bb0-ff9a-701758f09fee"
   },
   "outputs": [
    {
     "data": {
      "text/html": [
       "<div>\n",
       "<style scoped>\n",
       "    .dataframe tbody tr th:only-of-type {\n",
       "        vertical-align: middle;\n",
       "    }\n",
       "\n",
       "    .dataframe tbody tr th {\n",
       "        vertical-align: top;\n",
       "    }\n",
       "\n",
       "    .dataframe thead th {\n",
       "        text-align: right;\n",
       "    }\n",
       "</style>\n",
       "<table border=\"1\" class=\"dataframe\">\n",
       "  <thead>\n",
       "    <tr style=\"text-align: right;\">\n",
       "      <th></th>\n",
       "      <th>xs</th>\n",
       "      <th>ys</th>\n",
       "    </tr>\n",
       "  </thead>\n",
       "  <tbody>\n",
       "    <tr>\n",
       "      <th>0</th>\n",
       "      <td>0.065446</td>\n",
       "      <td>-0.768664</td>\n",
       "    </tr>\n",
       "    <tr>\n",
       "      <th>1</th>\n",
       "      <td>-1.529015</td>\n",
       "      <td>-0.429531</td>\n",
       "    </tr>\n",
       "    <tr>\n",
       "      <th>2</th>\n",
       "      <td>1.709934</td>\n",
       "      <td>0.698853</td>\n",
       "    </tr>\n",
       "    <tr>\n",
       "      <th>3</th>\n",
       "      <td>1.167791</td>\n",
       "      <td>1.012626</td>\n",
       "    </tr>\n",
       "    <tr>\n",
       "      <th>4</th>\n",
       "      <td>-1.801101</td>\n",
       "      <td>-0.318613</td>\n",
       "    </tr>\n",
       "  </tbody>\n",
       "</table>\n",
       "</div>"
      ],
      "text/plain": [
       "         xs        ys\n",
       "0  0.065446 -0.768664\n",
       "1 -1.529015 -0.429531\n",
       "2  1.709934  0.698853\n",
       "3  1.167791  1.012626\n",
       "4 -1.801101 -0.318613"
      ]
     },
     "execution_count": 38,
     "metadata": {},
     "output_type": "execute_result"
    }
   ],
   "source": [
    "coordinates.head()"
   ]
  },
  {
   "cell_type": "code",
   "execution_count": 39,
   "metadata": {
    "colab": {
     "base_uri": "https://localhost:8080/",
     "height": 139
    },
    "colab_type": "code",
    "id": "GJac68Cp2lUs",
    "outputId": "c3461bb7-44e5-48e9-d53a-960e0960ebfa"
   },
   "outputs": [
    {
     "name": "stdout",
     "output_type": "stream",
     "text": [
      "<class 'pandas.core.frame.DataFrame'>\n",
      "RangeIndex: 300 entries, 0 to 299\n",
      "Data columns (total 2 columns):\n",
      "xs    300 non-null float64\n",
      "ys    300 non-null float64\n",
      "dtypes: float64(2)\n",
      "memory usage: 4.8 KB\n"
     ]
    }
   ],
   "source": [
    "coordinates.info()"
   ]
  },
  {
   "cell_type": "code",
   "execution_count": 40,
   "metadata": {
    "colab": {
     "base_uri": "https://localhost:8080/",
     "height": 52
    },
    "colab_type": "code",
    "id": "irE27Pds-YQ4",
    "outputId": "6614050d-6c6d-421b-8951-8d39cb791c59"
   },
   "outputs": [
    {
     "name": "stdout",
     "output_type": "stream",
     "text": [
      "Shape of Xs (300,)\n",
      "Shape of ys (300,)\n"
     ]
    }
   ],
   "source": [
    "Xs = coordinates[\"xs\"]\n",
    "ys = coordinates[\"ys\"]\n",
    "\n",
    "print(\"Shape of Xs\", Xs.shape)\n",
    "print(\"Shape of ys\", ys.shape)"
   ]
  },
  {
   "cell_type": "code",
   "execution_count": 41,
   "metadata": {
    "colab": {
     "base_uri": "https://localhost:8080/",
     "height": 265
    },
    "colab_type": "code",
    "id": "v21IoiMiAIfD",
    "outputId": "d36c137f-c711-4fc1-9896-6950d3ce8090"
   },
   "outputs": [
    {
     "data": {
      "image/png": "[encoded data removed]",
      "text/plain": [
       "<Figure size 432x288 with 1 Axes>"
      ]
     },
     "metadata": {
      "needs_background": "light"
     },
     "output_type": "display_data"
    }
   ],
   "source": [
    "plt.scatter(Xs, ys)\n",
    "plt.show()"
   ]
  },
  {
   "cell_type": "code",
   "execution_count": 42,
   "metadata": {
    "colab": {},
    "colab_type": "code",
    "id": "sBHTdh9mAcT1"
   },
   "outputs": [],
   "source": [
    "# So, from the scatterplot, we can see the point in these 3 clusters, \n",
    "# using k means we want to see how many datapoints we have."
   ]
  },
  {
   "cell_type": "code",
   "execution_count": 43,
   "metadata": {
    "colab": {
     "base_uri": "https://localhost:8080/",
     "height": 424
    },
    "colab_type": "code",
    "id": "5C26XBDvA9B5",
    "outputId": "af75d611-8f1f-4799-d6e0-a849c562b3da"
   },
   "outputs": [
    {
     "data": {
      "text/html": [
       "<div>\n",
       "<style scoped>\n",
       "    .dataframe tbody tr th:only-of-type {\n",
       "        vertical-align: middle;\n",
       "    }\n",
       "\n",
       "    .dataframe tbody tr th {\n",
       "        vertical-align: top;\n",
       "    }\n",
       "\n",
       "    .dataframe thead th {\n",
       "        text-align: right;\n",
       "    }\n",
       "</style>\n",
       "<table border=\"1\" class=\"dataframe\">\n",
       "  <thead>\n",
       "    <tr style=\"text-align: right;\">\n",
       "      <th></th>\n",
       "      <th>xs</th>\n",
       "      <th>ys</th>\n",
       "    </tr>\n",
       "  </thead>\n",
       "  <tbody>\n",
       "    <tr>\n",
       "      <th>0</th>\n",
       "      <td>0.400233</td>\n",
       "      <td>-1.265445</td>\n",
       "    </tr>\n",
       "    <tr>\n",
       "      <th>1</th>\n",
       "      <td>0.803230</td>\n",
       "      <td>1.282602</td>\n",
       "    </tr>\n",
       "    <tr>\n",
       "      <th>2</th>\n",
       "      <td>-1.395076</td>\n",
       "      <td>0.055729</td>\n",
       "    </tr>\n",
       "    <tr>\n",
       "      <th>3</th>\n",
       "      <td>-0.341193</td>\n",
       "      <td>-1.076620</td>\n",
       "    </tr>\n",
       "    <tr>\n",
       "      <th>4</th>\n",
       "      <td>1.547817</td>\n",
       "      <td>1.402500</td>\n",
       "    </tr>\n",
       "    <tr>\n",
       "      <th>...</th>\n",
       "      <td>...</td>\n",
       "      <td>...</td>\n",
       "    </tr>\n",
       "    <tr>\n",
       "      <th>295</th>\n",
       "      <td>-1.255514</td>\n",
       "      <td>-0.029617</td>\n",
       "    </tr>\n",
       "    <tr>\n",
       "      <th>296</th>\n",
       "      <td>-1.418646</td>\n",
       "      <td>-0.358230</td>\n",
       "    </tr>\n",
       "    <tr>\n",
       "      <th>297</th>\n",
       "      <td>0.525758</td>\n",
       "      <td>0.870501</td>\n",
       "    </tr>\n",
       "    <tr>\n",
       "      <th>298</th>\n",
       "      <td>0.555600</td>\n",
       "      <td>1.187651</td>\n",
       "    </tr>\n",
       "    <tr>\n",
       "      <th>299</th>\n",
       "      <td>0.028134</td>\n",
       "      <td>-0.699111</td>\n",
       "    </tr>\n",
       "  </tbody>\n",
       "</table>\n",
       "<p>300 rows × 2 columns</p>\n",
       "</div>"
      ],
      "text/plain": [
       "           xs        ys\n",
       "0    0.400233 -1.265445\n",
       "1    0.803230  1.282602\n",
       "2   -1.395076  0.055729\n",
       "3   -0.341193 -1.076620\n",
       "4    1.547817  1.402500\n",
       "..        ...       ...\n",
       "295 -1.255514 -0.029617\n",
       "296 -1.418646 -0.358230\n",
       "297  0.525758  0.870501\n",
       "298  0.555600  1.187651\n",
       "299  0.028134 -0.699111\n",
       "\n",
       "[300 rows x 2 columns]"
      ]
     },
     "execution_count": 43,
     "metadata": {},
     "output_type": "execute_result"
    }
   ],
   "source": [
    "# Unseen data \n",
    "\n",
    "# Reading a NEW csv file into dataframe\n",
    "# so, we'll now create an unsupervised learning algo and see it can see the shape of our new dataset.\n",
    "# so, we'll use a famous one called k means.\n",
    "\n",
    "# My original Colab/Drive link - new_coordinates = pd.read_csv(\"/content/gdrive/My Drive/Colab Notebooks/new_coordinates.csv\", header=None, names=[\"xs\", \"ys\"])\n",
    "\n",
    "new_coordinates = pd.read_csv(\"new_coordinates.csv\",header=None,names=[\"xs\",\"ys\"])\n",
    "new_coordinates"
   ]
  },
  {
   "cell_type": "code",
   "execution_count": 44,
   "metadata": {
    "colab": {
     "base_uri": "https://localhost:8080/",
     "height": 69
    },
    "colab_type": "code",
    "id": "ozt-38itBcsX",
    "outputId": "ec45d91a-6448-4cda-b584-f92569bc71a3"
   },
   "outputs": [
    {
     "data": {
      "text/plain": [
       "KMeans(algorithm='auto', copy_x=True, init='k-means++', max_iter=300,\n",
       "       n_clusters=8, n_init=10, n_jobs=None, precompute_distances='auto',\n",
       "       random_state=None, tol=0.0001, verbose=0)"
      ]
     },
     "execution_count": 44,
     "metadata": {},
     "output_type": "execute_result"
    }
   ],
   "source": [
    "# Import K Meams\n",
    "\n",
    "from sklearn.cluster import KMeans\n",
    "# looking at default values etc. from the Scikit-learn website  \n",
    "#\"very well documented, also with examples.\"\n",
    "kmeans = KMeans()\n",
    "kmeans"
   ]
  },
  {
   "cell_type": "code",
   "execution_count": 45,
   "metadata": {
    "colab": {
     "base_uri": "https://localhost:8080/",
     "height": 69
    },
    "colab_type": "code",
    "id": "NvAH3YmdB7bx",
    "outputId": "a9fbe1fd-3eee-4640-84e4-979e588cd42b"
   },
   "outputs": [
    {
     "data": {
      "text/plain": [
       "KMeans(algorithm='auto', copy_x=True, init='k-means++', max_iter=300,\n",
       "       n_clusters=8, n_init=10, n_jobs=None, precompute_distances='auto',\n",
       "       random_state=None, tol=0.0001, verbose=0)"
      ]
     },
     "execution_count": 45,
     "metadata": {},
     "output_type": "execute_result"
    }
   ],
   "source": [
    "# Fitting\n",
    "\n",
    "# So we created out clustering algorithm with its parameters inside the parenthesis.\n",
    "\n",
    "# So, like before, we could create our algo, then fit our algo to our data\n",
    "# and then use this new data to predict what will happen:\n",
    "\n",
    "\n",
    "kmeans.fit(coordinates)"
   ]
  },
  {
   "cell_type": "code",
   "execution_count": 46,
   "metadata": {
    "colab": {
     "base_uri": "https://localhost:8080/",
     "height": 173
    },
    "colab_type": "code",
    "id": "KceL9cakCL7j",
    "outputId": "1dd2cffc-aa2b-475f-d06c-b6a6be6386d4"
   },
   "outputs": [
    {
     "name": "stdout",
     "output_type": "stream",
     "text": [
      "[0 6 2 5 4 3 1 4 4 7 5 6 4 7 2 4 2 2 6 4 2 4 0 4 0 2 1 2 2 0 5 1 4 4 7 5 4\n",
      " 4 0 1 2 3 3 2 0 1 2 2 4 4 6 6 2 2 3 3 2 7 2 5 0 4 6 4 0 6 7 1 3 2 3 0 0 4\n",
      " 0 2 2 3 6 2 3 2 5 1 7 1 7 3 6 6 4 5 6 4 0 2 2 2 7 3 6 5 2 2 0 0 1 3 7 2 5\n",
      " 2 7 2 6 4 6 4 2 2 4 0 1 2 4 3 2 6 2 2 6 7 4 7 0 4 3 5 6 7 5 4 5 5 2 1 6 3\n",
      " 7 3 2 4 0 2 2 5 7 4 4 2 4 2 2 4 1 3 1 6 7 5 7 0 5 4 0 1 6 3 0 2 5 3 0 2 1\n",
      " 4 3 2 5 7 2 6 6 1 5 4 4 4 2 2 3 4 0 0 5 7 1 6 1 1 1 1 2 2 6 7 7 7 2 4 2 2\n",
      " 1 6 0 7 5 3 7 3 7 3 7 1 4 2 6 1 6 7 0 0 7 6 6 2 1 2 2 4 7 7 5 7 0 0 0 6 2\n",
      " 2 7 3 6 5 7 0 2 2 1 3 0 0 2 6 1 6 0 6 2 2 4 0 3 2 0 0 2 0 1 3 7 7 2 2 1 2\n",
      " 2 6 6 3]\n"
     ]
    }
   ],
   "source": [
    "# Prediction\n",
    "\n",
    "prediction = kmeans.predict(new_coordinates)\n",
    "print(prediction)"
   ]
  },
  {
   "cell_type": "code",
   "execution_count": 47,
   "metadata": {
    "colab": {},
    "colab_type": "code",
    "id": "l5BW0-LpClYG"
   },
   "outputs": [],
   "source": [
    "# since by def our number of clusters is 8, so we have 8 different labels,\n",
    "# bec we said to our algo that 'you should find 8 clusters'. \n",
    "# (so, the numbers above don't rise above 7: they run from 0 to 7)\n"
   ]
  },
  {
   "cell_type": "code",
   "execution_count": 48,
   "metadata": {
    "colab": {},
    "colab_type": "code",
    "id": "p7BnE512DIHs"
   },
   "outputs": [],
   "source": [
    "# we want to see what is the best, or most optimised, number of clusters, \n",
    "# as here it is 8. So, we'll create an array of number of clusters and among\n",
    "# those we'll find that is the best number of our clustering that is nearest\n",
    "# to our dataset.\n",
    "\n"
   ]
  },
  {
   "cell_type": "code",
   "execution_count": 49,
   "metadata": {
    "colab": {
     "base_uri": "https://localhost:8080/",
     "height": 265
    },
    "colab_type": "code",
    "id": "MmCZ9vmUHfxC",
    "outputId": "aa924240-6201-47a6-e043-c26839c1a70b"
   },
   "outputs": [
    {
     "data": {
      "image/png": "[encoded data removed]",
      "text/plain": [
       "<Figure size 432x288 with 1 Axes>"
      ]
     },
     "metadata": {
      "needs_background": "light"
     },
     "output_type": "display_data"
    }
   ],
   "source": [
    "# now we want to see what the new coordinates are\n",
    "\n",
    "# Define Xs and ys\n",
    "Xs = new_coordinates[\"xs\"]\n",
    "ys = new_coordinates[\"ys\"]\n",
    "\n",
    "# Making a scatter plot of Xs and ys using labels (eg. eight labels \n",
    "# from 0 to 7)\n",
    "\n",
    "plt.scatter(Xs, ys, c=prediction,alpha=0.5) # prediction is our labels\n",
    "\n",
    "# Key word: centroid. Is the point (so it has an x and a y) at the centre of a cluster. So:\n",
    "# So: Assign the cluster centres\n",
    "\n",
    "centroids = kmeans.cluster_centers_ \n",
    "# so far this is our trained model\n",
    "\n",
    "# Find centroid_x and centroid_y\n",
    "centroid_x = centroids[:,0] # this will have the x part of our point\n",
    "centroid_y = centroids[:,1] # this will have the y part of our point\n",
    "\n",
    "# Plotting the centres of each cluster\n",
    "plt.scatter(centroid_x, centroid_y, marker=\"D\", s=50)\n",
    "plt.show() \n"
   ]
  },
  {
   "cell_type": "code",
   "execution_count": 50,
   "metadata": {
    "colab": {},
    "colab_type": "code",
    "id": "mHWcxE6cJxV6"
   },
   "outputs": [],
   "source": [
    "#It finds 8 clusters as we made it do so, and it tried to find the points\n",
    "# nearest to each others. But in reality, this is not what we want.\n",
    "\n",
    "# Solution: we should somehow find the optimised number of clusters. \n",
    "# This is our next task.\n",
    "\n"
   ]
  },
  {
   "cell_type": "code",
   "execution_count": 51,
   "metadata": {
    "colab": {
     "base_uri": "https://localhost:8080/",
     "height": 156
    },
    "colab_type": "code",
    "id": "EozdfyzBKib6",
    "outputId": "a1ef5d49-72d3-4540-dd8e-9537b00ccef6"
   },
   "outputs": [
    {
     "data": {
      "text/plain": [
       "array([[ 0.43264333, -0.90066235],\n",
       "       [ 1.13257416,  0.69490851],\n",
       "       [-1.52146423, -0.06572327],\n",
       "       [ 0.08074971, -0.56432404],\n",
       "       [ 1.21940381,  1.16119298],\n",
       "       [-0.18081727, -1.01361551],\n",
       "       [ 0.65907266,  1.05324028],\n",
       "       [-1.68763706, -0.5548083 ]])"
      ]
     },
     "execution_count": 51,
     "metadata": {},
     "output_type": "execute_result"
    }
   ],
   "source": [
    "centroids\n",
    "# these are the centres of these clusters \n",
    "# (these are the dimensions of our centres)"
   ]
  },
  {
   "cell_type": "markdown",
   "metadata": {},
   "source": [
    "#### How to find the best number of clusters?"
   ]
  },
  {
   "cell_type": "code",
   "execution_count": 52,
   "metadata": {
    "colab": {},
    "colab_type": "code",
    "id": "wqXIpLbZKjYZ"
   },
   "outputs": [],
   "source": [
    "#(remember: we're doing unsupervised ML, so these aren't labels.\n",
    "# So this is NOT supervised.)\n",
    "\n",
    "# Anita: are clusters numbers or objects? Vinh: clusters are categories.\n",
    "\n",
    "# how can we know if 3 clusters or 8 clusters is right? So:\n",
    "# How to find the best number of clusters?\n"
   ]
  },
  {
   "cell_type": "code",
   "execution_count": 53,
   "metadata": {
    "colab": {
     "base_uri": "https://localhost:8080/",
     "height": 1000
    },
    "colab_type": "code",
    "id": "z5DoZ6RlM6CU",
    "outputId": "4bae28da-7fac-4ccc-8725-127412c59993"
   },
   "outputs": [
    {
     "data": {
      "text/plain": [
       "array([[ 0.06544649, -0.76866376],\n",
       "       [-1.52901547, -0.42953079],\n",
       "       [ 1.70993371,  0.69885253],\n",
       "       [ 1.16779145,  1.01262638],\n",
       "       [-1.80110088, -0.31861296],\n",
       "       [-1.63567888, -0.02859535],\n",
       "       [ 1.21990375,  0.74643463],\n",
       "       [-0.26175155, -0.62492939],\n",
       "       [-1.61925804, -0.47983949],\n",
       "       [-1.84329582, -0.16694431],\n",
       "       [ 1.35999602,  0.94995827],\n",
       "       [ 0.42291857, -0.7349534 ],\n",
       "       [-1.68576139,  0.10686728],\n",
       "       [ 0.90629995,  1.09105162],\n",
       "       [-1.56478322, -0.84675394],\n",
       "       [-0.0257849 , -1.18672539],\n",
       "       [ 0.83027324,  1.14504612],\n",
       "       [ 1.22450432,  1.35066759],\n",
       "       [-0.15394595, -0.71704301],\n",
       "       [ 0.8635881 ,  1.06824613],\n",
       "       [-1.43386366, -0.2381297 ],\n",
       "       [ 0.03844769, -0.74635022],\n",
       "       [-1.58567923,  0.08499355],\n",
       "       [ 0.6359888 , -0.58477698],\n",
       "       [ 0.24417242, -0.53172465],\n",
       "       [-2.19680359,  0.49473677],\n",
       "       [ 1.0323503 , -0.55687999],\n",
       "       [-0.28858067, -0.39972528],\n",
       "       [ 0.20597008, -0.80171536],\n",
       "       [-1.2107308 , -0.34924109],\n",
       "       [ 1.33423684,  0.7721489 ],\n",
       "       [ 1.19480152,  1.04788556],\n",
       "       [ 0.9917477 ,  0.89202008],\n",
       "       [-1.8356219 , -0.04839732],\n",
       "       [ 0.08415721, -0.71564326],\n",
       "       [-1.48970175, -0.19299604],\n",
       "       [ 0.38782418, -0.82060119],\n",
       "       [-0.01448044, -0.9779841 ],\n",
       "       [-2.0521341 , -0.02129125],\n",
       "       [ 0.10331194, -0.82162781],\n",
       "       [-0.44189315, -0.65710974],\n",
       "       [ 1.10390926,  1.02481182],\n",
       "       [-1.59227759, -0.17374038],\n",
       "       [-1.47344152, -0.02202853],\n",
       "       [-1.35514704,  0.22971067],\n",
       "       [ 0.0412337 , -1.23776622],\n",
       "       [ 0.4761517 , -1.13672124],\n",
       "       [ 1.04335676,  0.82345905],\n",
       "       [-0.07961882, -0.85677393],\n",
       "       [ 0.87065059,  1.08052841],\n",
       "       [ 1.40267313,  1.07525119],\n",
       "       [ 0.80111157,  1.28342826],\n",
       "       [-0.16527516, -1.23583804],\n",
       "       [-0.33779221, -0.59194323],\n",
       "       [ 0.80610749, -0.73752159],\n",
       "       [-1.43590032, -0.56384446],\n",
       "       [ 0.54868895, -0.95143829],\n",
       "       [ 0.46803131, -0.74973908],\n",
       "       [-1.5137129 , -0.83914323],\n",
       "       [ 0.9138436 ,  1.51126532],\n",
       "       [-1.97233903, -0.41155375],\n",
       "       [ 0.5213406 , -0.88654894],\n",
       "       [ 0.62759494, -1.18590477],\n",
       "       [ 0.94163014,  1.35399336],\n",
       "       [ 0.56994768,  1.07036606],\n",
       "       [-1.87663382,  0.14745773],\n",
       "       [ 0.90612186,  0.91084011],\n",
       "       [-1.37481454,  0.28428395],\n",
       "       [-1.80564029, -0.96710574],\n",
       "       [ 0.34307757, -0.79999275],\n",
       "       [ 0.70380566,  1.00025804],\n",
       "       [-1.68489862, -0.30564595],\n",
       "       [ 1.31473221,  0.98614978],\n",
       "       [ 0.26151216, -0.26069251],\n",
       "       [ 0.9193121 ,  0.82371485],\n",
       "       [-1.21795929, -0.20219674],\n",
       "       [-0.17722723, -1.02665245],\n",
       "       [ 0.64824862, -0.66822881],\n",
       "       [ 0.41206786, -0.28783784],\n",
       "       [ 1.01568202,  1.13481667],\n",
       "       [ 0.67900254, -0.91489502],\n",
       "       [-1.05182747, -0.01062376],\n",
       "       [ 0.61306599,  1.78210384],\n",
       "       [-1.50219748, -0.52308922],\n",
       "       [-1.72717293, -0.46173916],\n",
       "       [-1.60995631, -0.1821007 ],\n",
       "       [-1.09111021, -0.0781398 ],\n",
       "       [-0.01046978, -0.80913034],\n",
       "       [ 0.32782303, -0.80734754],\n",
       "       [ 1.22038503,  1.1959793 ],\n",
       "       [-1.33328681, -0.30001937],\n",
       "       [ 0.87959517,  1.11566491],\n",
       "       [-1.14829098, -0.30400762],\n",
       "       [-0.58019755, -1.19996018],\n",
       "       [-0.01161159, -0.78468854],\n",
       "       [ 0.17359724, -0.63398145],\n",
       "       [ 1.32738556,  0.67759969],\n",
       "       [-1.93467327,  0.30572472],\n",
       "       [-1.57761893, -0.27726365],\n",
       "       [ 0.47639   ,  1.21422648],\n",
       "       [-1.65237509, -0.6803981 ],\n",
       "       [-0.12609976, -1.04327457],\n",
       "       [-1.89607083, -0.70085502],\n",
       "       [ 0.57466899,  0.74878369],\n",
       "       [-0.16660312, -0.83110295],\n",
       "       [ 0.8013355 ,  1.22244435],\n",
       "       [ 1.18455426,  1.4346467 ],\n",
       "       [ 1.08864428,  0.64667112],\n",
       "       [-1.61158505,  0.22805725],\n",
       "       [-1.57512205, -0.09612576],\n",
       "       [ 0.0721357 , -0.69640328],\n",
       "       [-1.40054298,  0.16390598],\n",
       "       [ 1.09607713,  1.16804691],\n",
       "       [-2.54346204, -0.23089822],\n",
       "       [-1.34544875,  0.25151126],\n",
       "       [-1.35478629, -0.19103317],\n",
       "       [ 0.18368113, -1.15827725],\n",
       "       [-1.31368677, -0.376357  ],\n",
       "       [ 0.09990129,  1.22500491],\n",
       "       [ 1.17225574,  1.30835143],\n",
       "       [ 0.0865397 , -0.79714371],\n",
       "       [-0.21053923, -1.13421511],\n",
       "       [ 0.26496024, -0.94760742],\n",
       "       [-0.2557591 , -1.06266022],\n",
       "       [-0.26039757, -0.74774225],\n",
       "       [-1.91787359,  0.16434571],\n",
       "       [ 0.93021139,  0.49436331],\n",
       "       [ 0.44770467, -0.72877918],\n",
       "       [-1.63802869, -0.58925528],\n",
       "       [-1.95712763, -0.10125137],\n",
       "       [ 0.9270337 ,  0.88251423],\n",
       "       [ 1.25660093,  0.60828073],\n",
       "       [-1.72818632,  0.08416887],\n",
       "       [ 0.3499788 , -0.30490298],\n",
       "       [-1.51696082, -0.50913109],\n",
       "       [ 0.18763605, -0.55424924],\n",
       "       [ 0.89609809,  0.83551508],\n",
       "       [-1.54968857, -0.17114782],\n",
       "       [ 1.2157457 ,  1.23317729],\n",
       "       [ 0.20307745, -1.03784906],\n",
       "       [ 0.84589086,  1.03615273],\n",
       "       [ 0.53237919,  1.47362884],\n",
       "       [-0.05319044, -1.36150553],\n",
       "       [ 1.38819743,  1.11729915],\n",
       "       [ 1.00696304,  1.0367721 ],\n",
       "       [ 0.56681869, -1.09637176],\n",
       "       [ 0.86888296,  1.05248874],\n",
       "       [-1.16286609, -0.55875245],\n",
       "       [ 0.27717768, -0.83844015],\n",
       "       [ 0.16563267, -0.80306607],\n",
       "       [ 0.38263303, -0.42683241],\n",
       "       [ 1.14519807,  0.89659026],\n",
       "       [ 0.81455857,  0.67533667],\n",
       "       [-1.8603152 , -0.09537561],\n",
       "       [ 0.965641  ,  0.90295579],\n",
       "       [-1.49897451, -0.33254044],\n",
       "       [-0.1335489 , -0.80727582],\n",
       "       [ 0.12541527, -1.13354906],\n",
       "       [ 1.06062436,  1.28816358],\n",
       "       [-1.49154579, -0.2024641 ],\n",
       "       [ 1.16189032,  1.28819877],\n",
       "       [ 0.54282033,  0.75203524],\n",
       "       [ 0.89221065,  0.99211624],\n",
       "       [-1.49932011, -0.32430667],\n",
       "       [ 0.3166647 , -1.34482915],\n",
       "       [ 0.13972468, -1.22097448],\n",
       "       [-1.5499724 , -0.10782584],\n",
       "       [ 1.23846858,  1.37668804],\n",
       "       [ 1.25558955,  0.72026098],\n",
       "       [ 0.25558689, -1.28529763],\n",
       "       [ 0.45168933, -0.55952093],\n",
       "       [ 1.06202057,  1.03404604],\n",
       "       [ 0.67451908, -0.54970299],\n",
       "       [ 0.22759676, -1.02729468],\n",
       "       [-1.45835281, -0.04951074],\n",
       "       [ 0.23273501, -0.70849262],\n",
       "       [ 1.59679589,  1.11395076],\n",
       "       [ 0.80476105,  0.544627  ],\n",
       "       [ 1.15492521,  1.04352191],\n",
       "       [ 0.59632776, -1.19142897],\n",
       "       [ 0.02839068, -0.43829366],\n",
       "       [ 1.13451584,  0.5632633 ],\n",
       "       [ 0.21576204, -1.04445753],\n",
       "       [ 1.41048987,  1.02830719],\n",
       "       [ 1.12289302,  0.58029441],\n",
       "       [ 0.25200688, -0.82588436],\n",
       "       [-1.28566081, -0.07390909],\n",
       "       [ 1.52849815,  1.11822469],\n",
       "       [-0.23907858, -0.70541973],\n",
       "       [-0.25792784, -0.81825035],\n",
       "       [ 0.59367818, -0.45239915],\n",
       "       [ 0.0793191 , -0.29233213],\n",
       "       [-1.27256815,  0.11630577],\n",
       "       [ 0.66930129,  1.00731481],\n",
       "       [ 0.34791546, -1.20822877],\n",
       "       [-2.11283992, -0.66897935],\n",
       "       [-1.6293824 , -0.32718222],\n",
       "       [-1.53819139, -0.01501972],\n",
       "       [-0.11988545, -0.60363389],\n",
       "       [-1.54418956, -0.30389844],\n",
       "       [ 0.30026614, -0.77723173],\n",
       "       [ 0.00935448, -0.53888192],\n",
       "       [-1.33424393, -0.11560431],\n",
       "       [ 0.47504489,  0.78421384],\n",
       "       [ 0.59313264,  1.232239  ],\n",
       "       [ 0.41370369, -1.35205857],\n",
       "       [ 0.55840948,  0.78831053],\n",
       "       [ 0.49855017, -0.789949  ],\n",
       "       [ 0.35675809, -0.81038693],\n",
       "       [-1.86197825, -0.59071305],\n",
       "       [-1.61977671, -0.16076687],\n",
       "       [ 0.80779295, -0.73311294],\n",
       "       [ 1.62745775,  0.62787163],\n",
       "       [-1.56993593, -0.08467567],\n",
       "       [ 1.02558561,  0.89383302],\n",
       "       [ 0.24293461, -0.6088253 ],\n",
       "       [ 1.23130242,  1.00262186],\n",
       "       [-1.9651013 , -0.15886289],\n",
       "       [ 0.42795032, -0.70384432],\n",
       "       [-1.58306818, -0.19431923],\n",
       "       [-1.57195923,  0.01413469],\n",
       "       [-0.98145373,  0.06132285],\n",
       "       [-1.48637844, -0.5746531 ],\n",
       "       [ 0.98745828,  0.69188053],\n",
       "       [ 1.28619721,  1.28128821],\n",
       "       [ 0.85850596,  0.95541482],\n",
       "       [ 0.19028286, -0.82112942],\n",
       "       [ 0.26561046, -0.04255239],\n",
       "       [-1.61897897,  0.00862372],\n",
       "       [ 0.24070183, -0.52664209],\n",
       "       [ 1.15220993,  0.43916693],\n",
       "       [-1.21967812, -0.2580313 ],\n",
       "       [ 0.33412533, -0.86117762],\n",
       "       [ 0.17131003, -0.75638965],\n",
       "       [-1.19828397, -0.73744665],\n",
       "       [-0.12245932, -0.45648879],\n",
       "       [ 1.51200698,  0.88825741],\n",
       "       [ 1.10338866,  0.92347479],\n",
       "       [ 1.30972095,  0.59066989],\n",
       "       [ 0.19964876,  1.14855889],\n",
       "       [ 0.81460515,  0.84538972],\n",
       "       [-1.6422739 , -0.42296206],\n",
       "       [ 0.01224351, -0.21247816],\n",
       "       [ 0.33709102, -0.74618065],\n",
       "       [ 0.47301054,  0.72712075],\n",
       "       [ 0.34706626,  1.23033757],\n",
       "       [-0.00393279, -0.97209694],\n",
       "       [-1.64303119,  0.05276337],\n",
       "       [ 1.44649625,  1.14217033],\n",
       "       [-1.93030087, -0.40026146],\n",
       "       [-2.37296135, -0.72633645],\n",
       "       [ 0.45860122, -1.06048953],\n",
       "       [ 0.4896361 , -1.18928313],\n",
       "       [-1.02335902, -0.17520578],\n",
       "       [-1.32761107, -0.93963549],\n",
       "       [-1.50987908, -0.09473658],\n",
       "       [ 0.02723057, -0.79870549],\n",
       "       [ 1.0169412 ,  1.26461701],\n",
       "       [ 0.47733527, -0.9898471 ],\n",
       "       [-1.27784224, -0.547416  ],\n",
       "       [ 0.49898802, -0.6237259 ],\n",
       "       [ 1.06004731,  0.86870008],\n",
       "       [ 1.00207501,  1.38293512],\n",
       "       [ 1.31161394,  0.62833956],\n",
       "       [ 1.13428443,  1.18346542],\n",
       "       [ 1.27671346,  0.96632878],\n",
       "       [-0.63342885, -0.97768251],\n",
       "       [ 0.12698779, -0.93142317],\n",
       "       [-1.34510812, -0.23754226],\n",
       "       [-0.53162277, -1.25153594],\n",
       "       [ 0.21959934, -0.90269938],\n",
       "       [-1.78997479, -0.12115748],\n",
       "       [ 1.23197473, -0.07453764],\n",
       "       [ 1.4163536 ,  1.21551752],\n",
       "       [-1.90280976, -0.1638976 ],\n",
       "       [-0.22440081, -0.75454248],\n",
       "       [ 0.59559412,  0.92414553],\n",
       "       [ 1.21930773,  1.08175284],\n",
       "       [-1.99427536, -0.37587799],\n",
       "       [-1.27818474, -0.52454551],\n",
       "       [ 0.62352689, -1.01430108],\n",
       "       [ 0.14024251, -0.42826601],\n",
       "       [-0.16145713, -1.16359731],\n",
       "       [-1.74795865, -0.06033101],\n",
       "       [-1.16659791,  0.0902393 ],\n",
       "       [ 0.41110408, -0.8084249 ],\n",
       "       [ 1.14757168,  0.77804528],\n",
       "       [-1.65590748, -0.40105446],\n",
       "       [-1.15306865,  0.00858699],\n",
       "       [ 0.60892121,  0.68974833],\n",
       "       [-0.08434138, -0.97615256],\n",
       "       [ 0.19170053, -0.42331438],\n",
       "       [ 0.29663162, -1.13357399],\n",
       "       [-1.36893628, -0.25052125],\n",
       "       [-0.08037807, -0.56784154],\n",
       "       [ 0.35695011, -1.15064408],\n",
       "       [ 0.02482179, -0.63594829],\n",
       "       [-1.49075558, -0.2482507 ],\n",
       "       [-1.408588  ,  0.25635431],\n",
       "       [-1.98274626, -0.54584475]])"
      ]
     },
     "execution_count": 53,
     "metadata": {},
     "output_type": "execute_result"
    }
   ],
   "source": [
    "samples = coordinates.values\n",
    "samples"
   ]
  },
  {
   "cell_type": "code",
   "execution_count": 54,
   "metadata": {
    "colab": {
     "base_uri": "https://localhost:8080/",
     "height": 280
    },
    "colab_type": "code",
    "id": "AQI9aPkSLeri",
    "outputId": "f61de4b9-ac99-4817-8d60-78e8ecbfbb80"
   },
   "outputs": [
    {
     "data": {
      "image/png": "[encoded data removed]",
      "text/plain": [
       "<Figure size 432x288 with 1 Axes>"
      ]
     },
     "metadata": {
      "needs_background": "light"
     },
     "output_type": "display_data"
    }
   ],
   "source": [
    "n_cls = range(1,8) # was n_clusters\n",
    "# another key word: inertia\n",
    "inertias = [] # inertia is an empty array\n",
    "\n",
    "for n_cl in n_cls: # first, was for n_cluster in n_clusters:\n",
    "  # Create a KMeans algorithm with n_cluster\n",
    "  kmeans = KMeans(n_clusters=n_cl)\n",
    "\n",
    "  # fit algorithm to samples\n",
    "  kmeans.fit(samples)\n",
    "\n",
    "  inertias.append(kmeans.inertia_)\n",
    "\n",
    "# Plot n_clusters vs inertias\n",
    "plt.plot(n_cls,inertias, \"-o\")\n",
    "plt.xlabel(\"number of clusters, n_cl\")\n",
    "plt.ylabel(\"inertia\")\n",
    "plt.xticks(n_cls)\n",
    "plt.show()"
   ]
  },
  {
   "cell_type": "code",
   "execution_count": 55,
   "metadata": {
    "colab": {},
    "colab_type": "code",
    "id": "sUEtmmKaN6Eo"
   },
   "outputs": [],
   "source": [
    "# Ali's note about the chat conversations and confusion: \n",
    "# don't worry, the point of these sessions is just to get a \n",
    "# basic introduction and familiarity with the subject. \n",
    "# It's not possible to learn to understand all this in our one week \n",
    "# of few meetings. He did a whole course at Aalto, \n",
    "# and if even he had difficulty understanding all the concepts etc., we\n",
    "# shouldn't worry about not getting it all in just one week! \n",
    "\n",
    "# For tomorrow, our last session about Machine Learning, so we'll\n",
    "# just do a little intro to Deep Learning and its methods, which is with which all the current\n",
    "# problems are being solved. Just a short intro. Again, the mathematics\n",
    "# behind it is very difficult.\n",
    "\n",
    "# Nikolay: do we have to install any Python modules? "
   ]
  },
  {
   "cell_type": "code",
   "execution_count": 31,
   "metadata": {
    "colab": {},
    "colab_type": "code",
    "id": "ALP9mH6NPnje"
   },
   "outputs": [
    {
     "name": "stdout",
     "output_type": "stream",
     "text": [
      "[0 1 2 0 1 0 1 1 1 2 0 1 1 2 2 1 2 2 1 1 2 1 0 1 0 2 1 2 2 0 0 1 1 1 2 0 1\n",
      " 1 0 1 2 0 0 2 0 1 2 2 1 1 1 1 2 2 0 0 2 2 2 0 0 1 1 1 0 1 2 1 0 2 0 0 0 1\n",
      " 0 2 2 0 1 2 0 2 0 1 2 1 2 0 1 1 1 0 1 1 0 2 2 2 2 0 1 0 2 2 0 0 1 0 2 2 0\n",
      " 2 2 2 1 1 1 1 2 2 1 0 1 2 1 0 2 1 2 2 1 2 1 2 0 1 0 0 1 2 0 1 0 0 2 1 1 0\n",
      " 2 0 2 1 0 2 2 0 2 1 1 2 1 2 2 1 1 0 1 1 2 0 2 0 0 1 0 1 1 0 0 2 0 0 0 2 1\n",
      " 1 0 2 0 2 2 1 1 1 0 1 1 1 2 2 0 1 0 0 0 2 1 1 1 1 1 1 2 2 1 2 2 2 2 1 2 2\n",
      " 1 1 0 2 0 0 2 0 2 0 2 1 1 2 1 1 1 2 0 0 2 1 1 2 1 2 2 1 2 2 0 2 0 0 0 1 2\n",
      " 2 2 0 1 0 2 0 2 2 1 0 0 0 2 1 1 1 0 1 2 2 1 0 0 2 0 0 2 0 1 0 2 2 2 2 1 2\n",
      " 2 1 1 0]\n"
     ]
    }
   ],
   "source": [
    "# Import KMeans\n",
    "from sklearn.cluster import KMeans\n",
    "\n",
    "kmeans = KMeans(n_clusters=3)\n",
    "\n",
    "# Fitting \n",
    "kmeans.fit(coordinates)\n",
    "\n",
    "# Prediction\n",
    "prediction = kmeans.predict(new_coordinates)\n",
    "print(prediction)"
   ]
  },
  {
   "cell_type": "code",
   "execution_count": 32,
   "metadata": {},
   "outputs": [
    {
     "data": {
      "image/png": "[encoded data removed]",
      "text/plain": [
       "<Figure size 432x288 with 1 Axes>"
      ]
     },
     "metadata": {
      "needs_background": "light"
     },
     "output_type": "display_data"
    }
   ],
   "source": [
    "# Define Xs and ys\n",
    "Xs = new_coordinates[\"xs\"]\n",
    "ys = new_coordinates[\"ys\"]\n",
    "\n",
    "# Making a scatter plot of Xs and ys using labels(0,7)\n",
    "plt.scatter(Xs,ys,c=prediction,alpha=0.5)\n",
    "\n",
    "# Asign the cluster centers\n",
    "centroids = kmeans.cluster_centers_\n",
    "\n",
    "# Find centroid_x and centroid_y\n",
    "centroid_x = centroids[:,0]\n",
    "centroid_y = centroids[:,1]\n",
    "\n",
    "# Plotting the centers of each clusters\n",
    "plt.scatter(centroid_x,centroid_y,marker=\"D\",s=50)\n",
    "plt.show()"
   ]
  },
  {
   "cell_type": "code",
   "execution_count": 33,
   "metadata": {},
   "outputs": [
    {
     "data": {
      "text/plain": [
       "array([[ 0.18034887, -0.81701955],\n",
       "       [ 1.01378685,  0.98288627],\n",
       "       [-1.57568905, -0.22531944]])"
      ]
     },
     "execution_count": 33,
     "metadata": {},
     "output_type": "execute_result"
    }
   ],
   "source": [
    "centroids"
   ]
  }
 ],
 "metadata": {
  "colab": {
   "collapsed_sections": [],
   "name": "ML_unsupervised_datasets.ipynb",
   "provenance": []
  },
  "kernelspec": {
   "display_name": "Python 3",
   "language": "python",
   "name": "python3"
  },
  "language_info": {
   "codemirror_mode": {
    "name": "ipython",
    "version": 3
   },
   "file_extension": ".py",
   "mimetype": "text/x-python",
   "name": "python",
   "nbconvert_exporter": "python",
   "pygments_lexer": "ipython3",
   "version": "3.7.3"
  }
 },
 "nbformat": 4,
 "nbformat_minor": 4
}
