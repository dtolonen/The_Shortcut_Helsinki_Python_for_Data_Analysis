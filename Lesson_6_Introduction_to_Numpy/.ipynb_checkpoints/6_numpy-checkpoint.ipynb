{
 "cells": [
  {
   "cell_type": "markdown",
   "metadata": {},
   "source": [
    "## 6 Numpy - lecture"
   ]
  },
  {
   "cell_type": "code",
   "execution_count": null,
   "metadata": {},
   "outputs": [],
   "source": []
  },
  {
   "cell_type": "markdown",
   "metadata": {},
   "source": [
    "# Introduction to NumPy\n",
    "\n",
    "Son Huynh\n",
    "31.01.2020"
   ]
  },
  {
   "cell_type": "markdown",
   "metadata": {},
   "source": [
    "\n",
    "**Numpy stands for Numerical Python**\n",
    "- A library consisting of array objects and a collection of routines for processing of array.\n",
    "- Numpy is use for fast data generation and handling\n",
    "- Numpy relies on packages written in low level languages (C, Fortran) to combine Python's expressiveness with high performance"
   ]
  },
  {
   "cell_type": "markdown",
   "metadata": {},
   "source": [
    "## Numpy Documentation:\n",
    "- Numpy math functions: https://docs.scipy.org/doc/numpy-1.13.0/reference/routines.math.html\n",
    "- Array attributes and methods: https://docs.scipy.org/doc/numpy-1.13.0/reference/arrays.ndarray.html"
   ]
  },
  {
   "cell_type": "markdown",
   "metadata": {},
   "source": [
    "## Table of content:\n",
    "* [1. Numpy Arrays](#1.-NumPy-Arrays)\n",
    "* [2. Numpy Operations](#2.-NumPy-Operations)\n",
    "* [3. Vectorization](#3.-Vectorization)\n",
    "* [4. Multi-dimensional array](#4.-Multi-dimensional-array)\n",
    "* [5. Indexing and slicing](#5.-Indexing-and-slicing-array)\n",
    "* [6. Statistics with array](#6.-Statistics-with-array)"
   ]
  },
  {
   "cell_type": "code",
   "execution_count": 1,
   "metadata": {},
   "outputs": [],
   "source": [
    "import numpy as np # convention to use np as alias for numpy"
   ]
  },
  {
   "cell_type": "markdown",
   "metadata": {},
   "source": [
    "## 1. NumPy Arrays\n",
    "- the main element of Numpy\n",
    "- if you know about linear albegra from maths, the below will be familiar.\n",
    "- Numpy arrays is being used a lot in data analysis and visualization\n",
    "- Numpy arrays has two kinds:\n",
    "    - Vectors : a one dimensional array, basically it's like a list of elements\n",
    "    - Matrixes: two dimensional array\n",
    "    - and of course can have more than two dimensions"
   ]
  },
  {
   "cell_type": "markdown",
   "metadata": {},
   "source": [
    "An array can hold different types of data just like a list"
   ]
  },
  {
   "cell_type": "code",
   "execution_count": 2,
   "metadata": {},
   "outputs": [],
   "source": [
    "arr = np.array([('Rex', 9, 81.0), ('Fido', 3, 27.0)], dtype='object')\n",
    "# array , then you pass this content of the array. \n",
    "# array like list - you can hold different kind of content in it.\n",
    "# dtype object - withouth this, usually, prefers to have one type of element,\n",
    "# try the line without the dtype bit!\n"
   ]
  },
  {
   "cell_type": "code",
   "execution_count": 3,
   "metadata": {},
   "outputs": [
    {
     "data": {
      "text/plain": [
       "array([['Rex', 9, 81.0],\n",
       "       ['Fido', 3, 27.0]], dtype=object)"
      ]
     },
     "execution_count": 3,
     "metadata": {},
     "output_type": "execute_result"
    }
   ],
   "source": [
    "arr"
   ]
  },
  {
   "cell_type": "markdown",
   "metadata": {},
   "source": [
    "For computation purpose, it's optimal to store an array as one data type.\n",
    "Like in Excel, each column would only have one data type, here each (array?) would only have one data type."
   ]
  },
  {
   "cell_type": "code",
   "execution_count": 4,
   "metadata": {},
   "outputs": [],
   "source": [
    "arr = np.array([1.1, 1.2, 3.5, 10.1])"
   ]
  },
  {
   "cell_type": "code",
   "execution_count": 5,
   "metadata": {},
   "outputs": [
    {
     "data": {
      "text/plain": [
       "dtype('float64')"
      ]
     },
     "execution_count": 5,
     "metadata": {},
     "output_type": "execute_result"
    }
   ],
   "source": [
    "arr.dtype"
   ]
  },
  {
   "cell_type": "markdown",
   "metadata": {},
   "source": [
    "## 2. NumPy Operations\n",
    "\n",
    "We can have a lot of mathematic operations with numpy, sin, cos, tag, cotag, exp, logarit, ..."
   ]
  },
  {
   "cell_type": "markdown",
   "metadata": {},
   "source": [
    "#### Numpy Broadcasting: Different behaviours compared to Python's list"
   ]
  },
  {
   "cell_type": "code",
   "execution_count": 6,
   "metadata": {
    "scrolled": true
   },
   "outputs": [],
   "source": [
    "# Broadcasting = you can apply a maths operation to each element in the array\n",
    "\n",
    "\n",
    "lst = [1, 2, 3]\n",
    "\n",
    "# How can we multiply each number in lst by 2?"
   ]
  },
  {
   "cell_type": "code",
   "execution_count": 7,
   "metadata": {},
   "outputs": [
    {
     "name": "stdout",
     "output_type": "stream",
     "text": [
      "New list:  [1, 2, 3, 1, 2, 3]\n"
     ]
    }
   ],
   "source": [
    "print('New list: ', lst * 2) #Not what we want \n",
    "# because this will only extend my list two times"
   ]
  },
  {
   "cell_type": "code",
   "execution_count": 8,
   "metadata": {},
   "outputs": [
    {
     "name": "stdout",
     "output_type": "stream",
     "text": [
      "New list:  [2, 4, 6]\n"
     ]
    }
   ],
   "source": [
    "lst2 = []\n",
    "for i in lst:\n",
    "    lst2.append(i*2)\n",
    "print('New list: ', lst2) \n",
    "#Too many lines of code and could be slow when data gets big\n",
    "# you could also use list comprehension to make it shorter, but not optimal!"
   ]
  },
  {
   "cell_type": "markdown",
   "metadata": {},
   "source": [
    "__Let's see how numpy array behaves__"
   ]
  },
  {
   "cell_type": "code",
   "execution_count": 9,
   "metadata": {},
   "outputs": [
    {
     "data": {
      "text/plain": [
       "array([1, 2, 3])"
      ]
     },
     "execution_count": 9,
     "metadata": {},
     "output_type": "execute_result"
    }
   ],
   "source": [
    "arr = np.array(lst)\n",
    "\n",
    "arr\n",
    "\n",
    "# so, don't need to add any for loop here!"
   ]
  },
  {
   "cell_type": "code",
   "execution_count": 10,
   "metadata": {},
   "outputs": [
    {
     "data": {
      "text/plain": [
       "array([2, 4, 6])"
      ]
     },
     "execution_count": 10,
     "metadata": {},
     "output_type": "execute_result"
    }
   ],
   "source": [
    "arr * 2 #The number 2 is broadcasted to each and every numbers in lst"
   ]
  },
  {
   "cell_type": "code",
   "execution_count": 11,
   "metadata": {},
   "outputs": [
    {
     "data": {
      "text/plain": [
       "array([3, 4, 5])"
      ]
     },
     "execution_count": 11,
     "metadata": {},
     "output_type": "execute_result"
    }
   ],
   "source": [
    "arr + 2"
   ]
  },
  {
   "cell_type": "code",
   "execution_count": 12,
   "metadata": {},
   "outputs": [
    {
     "data": {
      "text/plain": [
       "array([1, 4, 9])"
      ]
     },
     "execution_count": 12,
     "metadata": {},
     "output_type": "execute_result"
    }
   ],
   "source": [
    "arr**2\n",
    "\n",
    "# For some reason, Son got array([3, 4, 5]), dtype=int32)"
   ]
  },
  {
   "cell_type": "code",
   "execution_count": 13,
   "metadata": {
    "scrolled": true
   },
   "outputs": [
    {
     "data": {
      "text/plain": [
       "array([1.        , 1.41421356, 1.73205081])"
      ]
     },
     "execution_count": 13,
     "metadata": {},
     "output_type": "execute_result"
    }
   ],
   "source": [
    "np.sqrt(arr)\n",
    "\n",
    "# sqrt - because you don't have any symbol on your keyboard, \n",
    "# so you have to use this keyword sqrt\n",
    "\n",
    "# you also have the math library to import\n",
    "\n",
    "# import math\n",
    "# a = [1,2,3]\n",
    "# math.sqrt(a)\n",
    "\n",
    "# but Numpy is more convenient.\n",
    "\n",
    "# You can also make your own functions to do things, \n",
    "# but they will no longer e NumPy functions\n",
    "\n",
    "# When you call the square root you have to use the np alias"
   ]
  },
  {
   "cell_type": "code",
   "execution_count": 14,
   "metadata": {},
   "outputs": [
    {
     "data": {
      "text/plain": [
       "array([ True, False, False])"
      ]
     },
     "execution_count": 14,
     "metadata": {},
     "output_type": "execute_result"
    }
   ],
   "source": [
    "arr == 1\n",
    "\n",
    "# an array will return back an array"
   ]
  },
  {
   "cell_type": "markdown",
   "metadata": {},
   "source": [
    "### Practice"
   ]
  },
  {
   "cell_type": "code",
   "execution_count": 15,
   "metadata": {
    "scrolled": true
   },
   "outputs": [
    {
     "name": "stdout",
     "output_type": "stream",
     "text": [
      "[2, 4, 5, 1, 3]\n",
      "[3, 4, 5, 1, 2]\n"
     ]
    }
   ],
   "source": [
    "import random # Use the random module to generate some random numbers\n",
    "\n",
    "random.seed(100)\n",
    "lst1 = random.sample(range(1,6), 5) # Generate a list of 5 random numbers between 1 and 5\n",
    "lst2 = random.sample(range(1,6), 5) # Generate another list\n",
    "\n",
    "print(lst1, lst2, sep='\\n')\n",
    "\n",
    "\n",
    "# Arda: \"What is seed?\" Son - Bec you want to make a random list but don't want \n",
    "# it to be random every time, so it will be constant eg when I share the notebook \n",
    "# with you it will stay the same.\n"
   ]
  },
  {
   "cell_type": "code",
   "execution_count": 16,
   "metadata": {},
   "outputs": [],
   "source": [
    "# Convert lst1 and lst2 into numpy arrays\n",
    "\n",
    "lst1_new = np.array (lst1)\n",
    "\n",
    "lst2_new = np.array (lst2)\n",
    "\n",
    "# print(type (lst1_new)) # this will show the data type, \n",
    "# so that it really is returning an array.\n",
    "\n",
    "# Son's version\n",
    "#lst1 = np.array(lst1)\n",
    "#lst2 = np.array(lst2)\n",
    "#lst1"
   ]
  },
  {
   "cell_type": "code",
   "execution_count": 17,
   "metadata": {},
   "outputs": [
    {
     "data": {
      "text/plain": [
       "array([0.69314718, 1.38629436, 1.60943791, 0.        , 1.09861229])"
      ]
     },
     "execution_count": 17,
     "metadata": {},
     "output_type": "execute_result"
    }
   ],
   "source": [
    "# Use np.log() to find the NATURAL LOGARITHM of lst1\n",
    "# Had to Google natural logarithm! Need to watch Toni's maths course website\n",
    "\n",
    "np.log(lst1_new)\n",
    "\n",
    "# Son's version\n",
    "# np.log(lst1)"
   ]
  },
  {
   "cell_type": "code",
   "execution_count": 18,
   "metadata": {},
   "outputs": [
    {
     "data": {
      "text/plain": [
       "[2, 4, 5, 1, 3, 3, 4, 5, 1, 2]"
      ]
     },
     "execution_count": 18,
     "metadata": {},
     "output_type": "execute_result"
    }
   ],
   "source": [
    "# For each pair of number of lst1 and lst2, add them together (element-wise sum)\n",
    "\n",
    "\n",
    "# Son's version\n",
    "lst1 + lst2"
   ]
  },
  {
   "cell_type": "code",
   "execution_count": 19,
   "metadata": {},
   "outputs": [
    {
     "data": {
      "text/plain": [
       "False"
      ]
     },
     "execution_count": 19,
     "metadata": {},
     "output_type": "execute_result"
    }
   ],
   "source": [
    "# Compare each pair of number of lst1 and lst2 to see which pairs are equal\n",
    "\n",
    "# Son's version\n",
    "lst == lst2"
   ]
  },
  {
   "cell_type": "code",
   "execution_count": 20,
   "metadata": {},
   "outputs": [],
   "source": [
    "# Sonja \"what happens if you add a normal list to a np array?\"\n",
    "\n",
    "# Son: It will convert it (to a list?) \n",
    "\n",
    "#lst3 = [1,2,3,4,5]\n",
    "#lst1 + lst3"
   ]
  },
  {
   "cell_type": "markdown",
   "metadata": {},
   "source": [
    "## 3. Vectorization"
   ]
  },
  {
   "cell_type": "markdown",
   "metadata": {},
   "source": [
    "Very important topic in Data Analysis\n",
    "\n",
    "Rule of thumb: \n",
    "- Avoid using native Python methods (for-loop, if-else, ...) when iterating over large dataset. Numpy is built to make computation more efficient and we should use it.\n",
    "- Most problems have a vectorized solution. Using custom functions or for-loop should be last resort.\n",
    "\n",
    "https://towardsdatascience.com/why-you-should-forget-for-loop-for-data-science-code-and-embrace-vectorization-696632622d5f\n",
    "\n",
    "So, normally, you have a for loop eg. 'for x in ...'\n",
    "\n",
    "The you have tabular data eg.\n",
    "\n",
    "name     age    grade1    grade 2\n",
    "\n",
    "but what if your data has one million rows and you want to add a new column. Your intuition would be to write a for loop eg.\n",
    "\n",
    "for row in table\n",
    "    grade = grade1 + grade2\n",
    "    \n",
    "This would be very bad practice, because your computer would have to loop through all the one million rows and would crash.\n",
    "\n",
    "Enter Numpy and VECTORISATION.\n",
    "\n",
    "Python is a very high level language - this presents a problem. Numpy is implemented in C - it uses the python syntax but is implemented in C, so it's not Python. Numpy will translate \n",
    "your code into Python and will run faster and you won't have to use a for loop.\n",
    "\n",
    "So, with the above table, when you import this into Pandas, each column is a vector (an array) and you add them together. \n",
    "\n",
    "Sometimes, however, you'll not find something in Numpy - a vectorised solution, even if digging deeper into it - and you'll have  to develop some more complicated own solution like a for loop etc."
   ]
  },
  {
   "cell_type": "markdown",
   "metadata": {},
   "source": [
    "## 4. Multi dimensional array"
   ]
  },
  {
   "cell_type": "code",
   "execution_count": 21,
   "metadata": {},
   "outputs": [
    {
     "data": {
      "text/plain": [
       "array([ 1,  2,  3,  4,  5,  6,  7,  8,  9, 10, 11, 12])"
      ]
     },
     "execution_count": 21,
     "metadata": {},
     "output_type": "execute_result"
    }
   ],
   "source": [
    "# Create a 1D array\n",
    "arr = np.arange(1, 13)\n",
    "\n",
    "arr"
   ]
  },
  {
   "cell_type": "code",
   "execution_count": 22,
   "metadata": {},
   "outputs": [
    {
     "data": {
      "text/plain": [
       "array([[ 1,  2,  3],\n",
       "       [ 4,  5,  6],\n",
       "       [ 7,  8,  9],\n",
       "       [10, 11, 12]])"
      ]
     },
     "execution_count": 22,
     "metadata": {},
     "output_type": "execute_result"
    }
   ],
   "source": [
    "# Turn the 1D array into 2D array (want to have 4 rows, 3 columns)\n",
    "arr = arr.reshape(4, 3) # reshape method\n",
    "\n",
    "arr\n",
    "\n",
    "# len only considers the outer (something), \n",
    "# the rows - use shape too if you want to know the columns\n",
    "\n",
    "#Sönke and Seppo's question about \n",
    "#arr.reshape(-1,1) # see what this returns\n",
    "# a.shape\n",
    "\n",
    "# Sonja: shaping really reshapes the data structure. How to reverse - get back to the previous?\n",
    "# Son - try: a.T - just experiment, I'm sure that there's a way to do it.\n",
    "\n",
    "#Son: machine learning models require you to reshape data, so this is very useful to know!"
   ]
  },
  {
   "cell_type": "code",
   "execution_count": 23,
   "metadata": {},
   "outputs": [
    {
     "data": {
      "text/plain": [
       "(4, 3)"
      ]
     },
     "execution_count": 23,
     "metadata": {},
     "output_type": "execute_result"
    }
   ],
   "source": [
    "arr.shape # Shape of the array\n",
    "\n",
    "# you can always add more dimension but usually in \n",
    "# data analysis you'll rarely need more than two."
   ]
  },
  {
   "cell_type": "code",
   "execution_count": 24,
   "metadata": {},
   "outputs": [
    {
     "data": {
      "text/plain": [
       "4"
      ]
     },
     "execution_count": 24,
     "metadata": {},
     "output_type": "execute_result"
    }
   ],
   "source": [
    "len(arr) # Length of the outer-most dimension"
   ]
  },
  {
   "cell_type": "code",
   "execution_count": 25,
   "metadata": {},
   "outputs": [
    {
     "data": {
      "text/plain": [
       "12"
      ]
     },
     "execution_count": 25,
     "metadata": {},
     "output_type": "execute_result"
    }
   ],
   "source": [
    "arr.size # Number of elements in the array"
   ]
  },
  {
   "cell_type": "code",
   "execution_count": 26,
   "metadata": {},
   "outputs": [
    {
     "data": {
      "text/plain": [
       "array([[ 10,  20,  30],\n",
       "       [ 40,  50,  60],\n",
       "       [ 70,  80,  90],\n",
       "       [100, 110, 120]])"
      ]
     },
     "execution_count": 26,
     "metadata": {},
     "output_type": "execute_result"
    }
   ],
   "source": [
    "# Broadcasting feature is still kept for multi-dimensional array\n",
    "arr*10"
   ]
  },
  {
   "cell_type": "markdown",
   "metadata": {},
   "source": [
    "## 5. Indexing and slicing array"
   ]
  },
  {
   "cell_type": "code",
   "execution_count": 27,
   "metadata": {},
   "outputs": [
    {
     "data": {
      "text/plain": [
       "array([[ 0,  1,  2,  3,  4],\n",
       "       [ 5,  6,  7,  8,  9],\n",
       "       [10, 11, 12, 13, 14],\n",
       "       [15, 16, 17, 18, 19]])"
      ]
     },
     "execution_count": 27,
     "metadata": {},
     "output_type": "execute_result"
    }
   ],
   "source": [
    "arr = np.arange(20).reshape(4, 5)\n",
    "\n",
    "arr"
   ]
  },
  {
   "cell_type": "code",
   "execution_count": 28,
   "metadata": {},
   "outputs": [
    {
     "data": {
      "text/plain": [
       "array([0, 1, 2, 3, 4])"
      ]
     },
     "execution_count": 28,
     "metadata": {},
     "output_type": "execute_result"
    }
   ],
   "source": [
    "arr[0] # Get the first row. It doesn't access the elements in the row, only the row"
   ]
  },
  {
   "cell_type": "code",
   "execution_count": 29,
   "metadata": {},
   "outputs": [
    {
     "data": {
      "text/plain": [
       "5"
      ]
     },
     "execution_count": 29,
     "metadata": {},
     "output_type": "execute_result"
    }
   ],
   "source": [
    "arr[1,0] # Get the element at second row, first column"
   ]
  },
  {
   "cell_type": "code",
   "execution_count": 30,
   "metadata": {},
   "outputs": [
    {
     "data": {
      "text/plain": [
       "5"
      ]
     },
     "execution_count": 30,
     "metadata": {},
     "output_type": "execute_result"
    }
   ],
   "source": [
    "lst = [list(x) for x in arr]\n",
    "\n",
    "lst[1][0] # If you want to do the same thing in list, you have to do chain indexing like this"
   ]
  },
  {
   "cell_type": "code",
   "execution_count": 31,
   "metadata": {},
   "outputs": [
    {
     "data": {
      "text/plain": [
       "5"
      ]
     },
     "execution_count": 31,
     "metadata": {},
     "output_type": "execute_result"
    }
   ],
   "source": [
    "arr[1][0] \n",
    "# Chain indexing is also available for array, but it is BAD PRACTICE (not pythonic)\n",
    "# Better to do it as above int eh element at second row example: arr[1,0] "
   ]
  },
  {
   "cell_type": "code",
   "execution_count": 32,
   "metadata": {},
   "outputs": [
    {
     "data": {
      "text/plain": [
       "array([ 1,  6, 11, 16])"
      ]
     },
     "execution_count": 32,
     "metadata": {},
     "output_type": "execute_result"
    }
   ],
   "source": [
    "arr[:, 1] # Slicing: get the second column and all row. Want to get/extract every row, only second column"
   ]
  },
  {
   "cell_type": "code",
   "execution_count": 33,
   "metadata": {},
   "outputs": [
    {
     "data": {
      "text/plain": [
       "array([[10,  1,  2,  3,  4],\n",
       "       [ 5,  6,  7,  8,  9],\n",
       "       [10, 11, 12, 13, 14],\n",
       "       [15, 16, 17, 18, 19]])"
      ]
     },
     "execution_count": 33,
     "metadata": {},
     "output_type": "execute_result"
    }
   ],
   "source": [
    "arr[0,0] = 10 # Modify the value of the element at first row, first column\n",
    "\n",
    "arr"
   ]
  },
  {
   "cell_type": "markdown",
   "metadata": {},
   "source": [
    "### Practice"
   ]
  },
  {
   "cell_type": "code",
   "execution_count": 34,
   "metadata": {},
   "outputs": [
    {
     "data": {
      "text/plain": [
       "array([0.8583106 , 0.97695349, 0.3123181 , 0.50327355, 0.78295586,\n",
       "       0.90510779, 0.41148247, 0.29272242, 0.71848202, 0.74562768,\n",
       "       0.19581586, 0.7620633 , 0.27957344, 0.91468768, 0.69851414])"
      ]
     },
     "execution_count": 34,
     "metadata": {},
     "output_type": "execute_result"
    }
   ],
   "source": [
    "arr = np.random.uniform(low=0, high=1, size=(15)) # 15 elements\n",
    "\n",
    "arr\n",
    "\n",
    "# So, experiment - now you can do some reshaping and slicing"
   ]
  },
  {
   "cell_type": "code",
   "execution_count": 35,
   "metadata": {},
   "outputs": [
    {
     "data": {
      "text/plain": [
       "array([[0.8583106 , 0.97695349, 0.3123181 ],\n",
       "       [0.50327355, 0.78295586, 0.90510779],\n",
       "       [0.41148247, 0.29272242, 0.71848202],\n",
       "       [0.74562768, 0.19581586, 0.7620633 ],\n",
       "       [0.27957344, 0.91468768, 0.69851414]])"
      ]
     },
     "execution_count": 35,
     "metadata": {},
     "output_type": "execute_result"
    }
   ],
   "source": [
    "# Reshape arr into a 2-D array of 5 rows and 3 columns\n",
    "\n",
    "# see seven or eight cells up ^\n",
    "arr = arr.reshape(5, 3) \n",
    "# number one mistake in this course: remember if you want to reuse this, \n",
    "# assign/store it to a variable\n",
    "\n",
    "arr\n",
    "\n",
    "\n",
    "# Arda: why does shape not have brackets after it like functions, if it's a function?\n",
    "# Son: this is not a function, it's an attribute - did you already learn about classes?\n",
    "# when i was born I had a name (attribute). I can also run and sing (like functions), \n",
    "# but I only do those when I choose to run or sing. \n",
    "\n"
   ]
  },
  {
   "cell_type": "code",
   "execution_count": 36,
   "metadata": {},
   "outputs": [
    {
     "data": {
      "text/plain": [
       "(5, 3)"
      ]
     },
     "execution_count": 36,
     "metadata": {},
     "output_type": "execute_result"
    }
   ],
   "source": [
    "# Check the shape of arr\n",
    "\n",
    "arr.shape"
   ]
  },
  {
   "cell_type": "code",
   "execution_count": 37,
   "metadata": {},
   "outputs": [
    {
     "data": {
      "text/plain": [
       "15"
      ]
     },
     "execution_count": 37,
     "metadata": {},
     "output_type": "execute_result"
    }
   ],
   "source": [
    "# Check the number of elements in arr\n",
    "\n",
    "arr.size"
   ]
  },
  {
   "cell_type": "code",
   "execution_count": 38,
   "metadata": {},
   "outputs": [
    {
     "data": {
      "text/plain": [
       "array([0.8583106 , 0.97695349])"
      ]
     },
     "execution_count": 38,
     "metadata": {},
     "output_type": "execute_result"
    }
   ],
   "source": [
    "# Get all items from first row, first and second column\n",
    "\n",
    "arr[0 , :2] # So, was this the nice Pythonic way instead of arr[0][:2]?\n",
    "\n",
    "# Son's version: arr[0, 0:2]"
   ]
  },
  {
   "cell_type": "code",
   "execution_count": 39,
   "metadata": {},
   "outputs": [
    {
     "data": {
      "text/plain": [
       "array([[0.8583106 , 0.97695349, 0.3123181 ],\n",
       "       [0.41148247, 0.29272242, 0.71848202],\n",
       "       [0.27957344, 0.91468768, 0.69851414]])"
      ]
     },
     "execution_count": 39,
     "metadata": {},
     "output_type": "execute_result"
    }
   ],
   "source": [
    "# Get all items from every odd rows (row 1, 3 and 5) and all columns\n",
    "\n",
    "arr[::2, :] \n",
    "# So, you start at the beginning, the end, then the skips - \n",
    "# it's similar to slicing, except that tyou have this comma thing."
   ]
  },
  {
   "cell_type": "code",
   "execution_count": 40,
   "metadata": {},
   "outputs": [
    {
     "data": {
      "text/plain": [
       "array([[0.86      , 0.98      , 0.31      ],\n",
       "       [0.50327355, 0.78295586, 0.90510779],\n",
       "       [0.41148247, 0.29272242, 0.71848202],\n",
       "       [0.74562768, 0.19581586, 0.7620633 ],\n",
       "       [0.27957344, 0.91468768, 0.69851414]])"
      ]
     },
     "execution_count": 40,
     "metadata": {},
     "output_type": "execute_result"
    }
   ],
   "source": [
    "# Use np.round(array, decimals) to round the first row to 2 decimals. \n",
    "#Use sclicing to modify arr directly.\n",
    "\n",
    "\n",
    "arr[0] = np.round(arr[0], 2)\n",
    "arr"
   ]
  },
  {
   "cell_type": "markdown",
   "metadata": {},
   "source": [
    "## 6. Statistics with array\n",
    "\n",
    "See documentation on array methods for full list of implemented methods.\n",
    "\n",
    "In NumPy, you have some statistics functions eg sum\n",
    "\n",
    "\n"
   ]
  },
  {
   "cell_type": "code",
   "execution_count": 41,
   "metadata": {
    "scrolled": true
   },
   "outputs": [
    {
     "data": {
      "text/plain": [
       "array([[0, 1, 2],\n",
       "       [3, 4, 5],\n",
       "       [6, 7, 8]])"
      ]
     },
     "execution_count": 41,
     "metadata": {},
     "output_type": "execute_result"
    }
   ],
   "source": [
    "arr = np.arange(9).reshape(3, 3)\n",
    "\n",
    "arr"
   ]
  },
  {
   "cell_type": "code",
   "execution_count": 42,
   "metadata": {},
   "outputs": [
    {
     "data": {
      "text/plain": [
       "array([ 9, 12, 15])"
      ]
     },
     "execution_count": 42,
     "metadata": {},
     "output_type": "execute_result"
    }
   ],
   "source": [
    "arr.sum(axis=0) # you have to specify the (assets?) for the sum"
   ]
  },
  {
   "cell_type": "code",
   "execution_count": 43,
   "metadata": {},
   "outputs": [
    {
     "data": {
      "text/plain": [
       "array([1., 4., 7.])"
      ]
     },
     "execution_count": 43,
     "metadata": {},
     "output_type": "execute_result"
    }
   ],
   "source": [
    "arr.mean(axis=1) # axis aggregates by rows"
   ]
  },
  {
   "cell_type": "markdown",
   "metadata": {},
   "source": [
    "**The previous course had problems understanding the difference between sum and mean.** \n",
    "\n",
    "**In data analysis, you should have a strong understanding of statistics,** otherwise\n",
    "you won't know what type of statistical tool to use. \n",
    "\n",
    "Eg comparing emissions between centuries, it would not make sense to use sum - you'd use mean.\n"
   ]
  }
 ],
 "metadata": {
  "kernelspec": {
   "display_name": "Python 3",
   "language": "python",
   "name": "python3"
  },
  "language_info": {
   "codemirror_mode": {
    "name": "ipython",
    "version": 3
   },
   "file_extension": ".py",
   "mimetype": "text/x-python",
   "name": "python",
   "nbconvert_exporter": "python",
   "pygments_lexer": "ipython3",
   "version": "3.7.3"
  }
 },
 "nbformat": 4,
 "nbformat_minor": 4
}
