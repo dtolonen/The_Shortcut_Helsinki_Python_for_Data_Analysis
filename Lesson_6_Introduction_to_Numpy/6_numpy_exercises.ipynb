{
 "cells": [
  {
   "cell_type": "markdown",
   "metadata": {},
   "source": [
    "## Assignments\n",
    "\n",
    "Son Huynh\n",
    "31.01.2020\n",
    "\n"
   ]
  },
  {
   "cell_type": "code",
   "execution_count": 44,
   "metadata": {},
   "outputs": [],
   "source": [
    "import numpy as np"
   ]
  },
  {
   "cell_type": "markdown",
   "metadata": {},
   "source": [
    "### Question 1"
   ]
  },
  {
   "cell_type": "code",
   "execution_count": 45,
   "metadata": {},
   "outputs": [
    {
     "data": {
      "text/plain": [
       "array([[ 3,  3,  7,  2],\n",
       "       [ 4, 10,  7,  2],\n",
       "       [ 1,  2, 10,  1],\n",
       "       [ 1, 10,  4,  5],\n",
       "       [ 1,  1,  5,  2]])"
      ]
     },
     "execution_count": 45,
     "metadata": {},
     "output_type": "execute_result"
    }
   ],
   "source": [
    "np.random.seed(123)\n",
    "\n",
    "a = np.random.randint(1, 11, 20).reshape(5, 4)\n",
    "\n",
    "a"
   ]
  },
  {
   "cell_type": "markdown",
   "metadata": {},
   "source": [
    "#### 1.1 There are two number 7 in array `a`. Can you use slicing to get them?"
   ]
  },
  {
   "cell_type": "code",
   "execution_count": 46,
   "metadata": {},
   "outputs": [
    {
     "data": {
      "text/plain": [
       "array([7, 7])"
      ]
     },
     "execution_count": 46,
     "metadata": {},
     "output_type": "execute_result"
    }
   ],
   "source": [
    "# Son's solution: \n",
    "# a[0:2, 2]\n",
    "#---------\n",
    "\n",
    "a[0:2,2]\n",
    "\n",
    "# note the different results for these:\n",
    "# a[2,0:2] - array ([1,2])\n",
    "# a[0:2,0:2] - array([[ 3,  3],[ 4, 10]])\n",
    "# a[2,2] - 10\n"
   ]
  },
  {
   "cell_type": "markdown",
   "metadata": {},
   "source": [
    "#### 1.2 Calculate the sum of each column, assign the result to an array called `sum_a`"
   ]
  },
  {
   "cell_type": "code",
   "execution_count": 47,
   "metadata": {},
   "outputs": [
    {
     "name": "stdout",
     "output_type": "stream",
     "text": [
      "[10 26 33 12]\n"
     ]
    }
   ],
   "source": [
    "# Son's solution note this prints a slightly different result\n",
    "# suma = a.sum(axis=0)\n",
    "# suma\n",
    "#---------------\n",
    "\n",
    "sum_a = a.sum(axis=0)\n",
    "print(sum_a)"
   ]
  },
  {
   "cell_type": "markdown",
   "metadata": {},
   "source": [
    "#### 1.3 Change the elements of array a into percentage of the respective column. For example, the first column should become `[0.3, 0.4, 0.1, 0.1, 0.1]`"
   ]
  },
  {
   "cell_type": "code",
   "execution_count": 48,
   "metadata": {},
   "outputs": [
    {
     "data": {
      "text/plain": [
       "array([0.3, 0.4, 0.1, 0.1, 0.1])"
      ]
     },
     "execution_count": 48,
     "metadata": {},
     "output_type": "execute_result"
    }
   ],
   "source": [
    "# Son's very elegantly short solution\n",
    "# a/suma\n",
    "#------------\n",
    "\n",
    "# see this from Lecture 6\n",
    "# No, this was Pandas! a.value_counts(normalize=True) # Percentage count\n",
    "\n",
    "# Some help below from Thao. The main/first problem I had was selecting\n",
    "# a column, for which I was looking at the a[0:2,2] bit above. Should have\n",
    "# remembered the simple : thing! \n",
    "\n",
    "# remember also: if you rerun the cells, you'll end up w/repeated wrong figures!\n",
    "\n",
    "a = a / sum_a\n",
    "a[:,0]"
   ]
  },
  {
   "cell_type": "markdown",
   "metadata": {},
   "source": [
    "#### 1.4 Use the `.sort()` method to sort array `a` by column. \n",
    "\n",
    "There are several functions and methods for python and its libraries. You should try google and official documentations to learn different techniques that we haven't covered in our lectures. For example you can read about the available methods for numpy array here: https://docs.scipy.org/doc/numpy/reference/generated/numpy.ndarray.html"
   ]
  },
  {
   "cell_type": "code",
   "execution_count": 49,
   "metadata": {},
   "outputs": [
    {
     "name": "stdout",
     "output_type": "stream",
     "text": [
      "[[0.11538462 0.16666667 0.21212121 0.3       ]\n",
      " [0.16666667 0.21212121 0.38461538 0.4       ]\n",
      " [0.07692308 0.08333333 0.1        0.3030303 ]\n",
      " [0.1        0.12121212 0.38461538 0.41666667]\n",
      " [0.03846154 0.1        0.15151515 0.16666667]]\n"
     ]
    }
   ],
   "source": [
    "# Son's solution - returns a different array\n",
    "# a.sort(axis=0)\n",
    "#-------------\n",
    "\n",
    "\n",
    "a.sort(axis=-1, kind=None, order=None)\n",
    "print(a)\n",
    "\n",
    "\n",
    "# (from the above scipy site): \n",
    "# ndarray.sort(axis=-1, kind=None, order=None) \n",
    "# the scipy page will explain these, as well as Dash or Py documentation\n",
    "# eg. -1 is default axis value i.e. 'sort along last axis'\n",
    "# oh, so would -1 be the last element, 0 the first..\n",
    "\n",
    "# Still have to change the percentiles back to integers?\n"
   ]
  },
  {
   "cell_type": "markdown",
   "metadata": {},
   "source": [
    "### Question 2"
   ]
  },
  {
   "cell_type": "code",
   "execution_count": 50,
   "metadata": {},
   "outputs": [
    {
     "data": {
      "text/plain": [
       "array([[ 4,  7,  9, 10],\n",
       "       [ 7,  9,  8, 10],\n",
       "       [ 4,  7,  2,  3],\n",
       "       [ 6,  6,  1,  6],\n",
       "       [ 1, 10, 10,  4]])"
      ]
     },
     "execution_count": 50,
     "metadata": {},
     "output_type": "execute_result"
    }
   ],
   "source": [
    "np.random.seed(23)\n",
    "\n",
    "b = np.random.randint(1,11, [5,4])\n",
    "\n",
    "b"
   ]
  },
  {
   "cell_type": "markdown",
   "metadata": {},
   "source": [
    "#### Find the maximum number for each row, considering only the first 3 columns\n",
    "\n",
    "The output should be `array([9, 9, 7, 6, 10])`"
   ]
  },
  {
   "cell_type": "code",
   "execution_count": 51,
   "metadata": {},
   "outputs": [
    {
     "data": {
      "text/plain": [
       "array([ 9,  9,  7,  6, 10])"
      ]
     },
     "execution_count": 51,
     "metadata": {},
     "output_type": "execute_result"
    }
   ],
   "source": [
    "# Son's solution\n",
    "# b[:,0:3].max(axis=1)\n",
    "#-------------\n",
    "\n",
    "# My original try - \n",
    "# np.amax(b[:2,:]) ilman axis parametriä, ottaa taulukosta isoimman luvun.\n",
    "# np.amax(b[:2,:], axis = 0) eg. compare this\n",
    "\n",
    "# Seppo's correct version, at least I got amax right, but importantly hadn't axis.\n",
    "d = np.amax(b[:,:-1], axis = 1)\n",
    "d\n",
    "\n",
    "# d = np.amax(b[:,:-1], axis = 0) on the axis - eg. compare this - tämä ottais nyt pystysuu\n",
    "# d\n",
    "\n",
    "# from Scipy glossary: \n",
    "# Along an axis\n",
    "# Axes are defined for arrays with more than one dimension. \n",
    "# A 2-dimensional array has two corresponding axes: \n",
    "# the first running vertically downwards across rows (axis 0), \n",
    "# and the second running horizontally across columns (axis 1).  \n"
   ]
  },
  {
   "cell_type": "markdown",
   "metadata": {},
   "source": [
    "### Question 3"
   ]
  },
  {
   "cell_type": "code",
   "execution_count": 52,
   "metadata": {},
   "outputs": [],
   "source": [
    "c = np.array([1,2,3,np.nan,5,6,7,np.nan])"
   ]
  },
  {
   "cell_type": "markdown",
   "metadata": {},
   "source": [
    "#### In numpy, a missing value (blank value) is denoted as `np.nan`. Find out how many missing values is in array `c`.\n",
    "\n",
    "Hint: check out `np.isnan()` and `np.count_nonzero()`"
   ]
  },
  {
   "cell_type": "code",
   "execution_count": 53,
   "metadata": {},
   "outputs": [
    {
     "data": {
      "text/plain": [
       "2"
      ]
     },
     "execution_count": 53,
     "metadata": {},
     "output_type": "execute_result"
    }
   ],
   "source": [
    "# Son's solution\n",
    "# np.count_nonzero(np.isnan(c))\n",
    "#-------------\n",
    "\n",
    "# numpy.isnan(x[, out]) = <ufunc 'isnan'>\n",
    "# numpy.count_nonzero(a, axis=None) \n",
    "\n",
    "# np.isnan(np.nan) # this returns a bool (if there are any np.nans?)\n",
    "# np.isnan(c) # this returns bools for each element!\n",
    "# np.count_nonzero(c, axis=None) # this returns the number of elements, 8\n",
    "\n",
    "\n",
    "# sum(not np.isnan(x) for x in c) # this returns 6, the non-nan values\n",
    "sum(np.isnan(x) for x in c) # this returns 2, so is correct, but uses for\n"
   ]
  },
  {
   "cell_type": "markdown",
   "metadata": {},
   "source": [
    "### Question 4 (optional) - no Son's solutions for this one, next one is for Question 5"
   ]
  },
  {
   "cell_type": "markdown",
   "metadata": {},
   "source": [
    "__4.1__ Create two arrays `a, b` sampled randomly from a uniform distribution within the range `[0,1]`.\n",
    "\n",
    "Array `a` has 100 numbers and array `b` has 80 numbers."
   ]
  },
  {
   "cell_type": "code",
   "execution_count": 54,
   "metadata": {},
   "outputs": [
    {
     "name": "stdout",
     "output_type": "stream",
     "text": [
      "[7.52629616e-01 5.78858981e-01 3.94940982e-01 4.79573941e-01\n",
      " 3.90940350e-01 6.67161987e-01 7.56127283e-01 8.33681270e-01\n",
      " 1.72184111e-01 2.12153423e-01 8.74714519e-01 4.32729601e-01\n",
      " 8.76077953e-01 4.70606214e-01 3.02427893e-01 7.67322407e-01\n",
      " 1.03437647e-02 6.76243314e-01 4.71680873e-01 6.34165323e-01\n",
      " 9.20426983e-01 1.31681995e-01 8.39396675e-01 7.04859723e-01\n",
      " 9.67891997e-01 9.04224930e-01 2.92805981e-01 1.47436397e-01\n",
      " 1.41255001e-01 9.54298798e-01 4.23553562e-04 2.90711913e-01\n",
      " 4.88770283e-01 2.99373709e-02 8.78424596e-01 1.10642558e-01\n",
      " 7.04792156e-01 2.71999257e-02 1.89782002e-01 7.71204661e-01\n",
      " 7.78651348e-01 9.70984855e-01 4.12550280e-01 7.95813351e-01\n",
      " 4.68710908e-01 4.42965514e-01 3.77332458e-01 8.23278625e-01\n",
      " 5.64855680e-01 1.39978962e-01 9.65909522e-01 3.11675740e-02\n",
      " 9.28446861e-01 5.22347325e-01 4.37533832e-02 6.96171968e-01\n",
      " 2.47592549e-01 9.89086495e-01 7.83308458e-01 4.96989474e-01\n",
      " 5.87991767e-01 4.20941355e-01 3.87265659e-01 4.89013737e-01\n",
      " 4.10940717e-01 2.92080440e-01 6.46017605e-01 8.71962074e-01\n",
      " 9.36198536e-01 7.36293387e-01 2.92029263e-01 7.81799889e-01\n",
      " 3.19360082e-01 9.99664870e-02 5.51667828e-01 7.38008276e-01\n",
      " 3.05600186e-01 4.97693117e-01 8.51174012e-01 7.58268848e-01\n",
      " 3.30622833e-01 5.46060867e-01 6.66165355e-01 9.79667445e-01\n",
      " 4.67380342e-01 5.75362595e-01 1.32279123e-01 2.67007411e-01\n",
      " 8.45842191e-01 2.43836787e-01 5.01065766e-01 2.05561505e-01\n",
      " 2.69849976e-01 7.02654865e-01 5.97991727e-01 2.06239602e-01\n",
      " 8.76222287e-01 2.05321518e-01 2.16837615e-01 2.46753615e-02]\n",
      "\n",
      "\n",
      "[0.02803009 0.49597332 0.40653282 0.05737365 0.82722404 0.04223297\n",
      " 0.04517944 0.36353096 0.14121114 0.41357784 0.69393325 0.16342817\n",
      " 0.30512738 0.10561266 0.98913747 0.14630597 0.10410655 0.12740525\n",
      " 0.78355875 0.16426461 0.02129418 0.31223839 0.00191367 0.04578123\n",
      " 0.20200672 0.54746146 0.88851532 0.07552645 0.79348024 0.80416612\n",
      " 0.62630527 0.76807927 0.61444658 0.7701676  0.23481287 0.69910541\n",
      " 0.67037806 0.76692239 0.49507617 0.29715639 0.37050698 0.51451577\n",
      " 0.90626771 0.7858254  0.76459174 0.82117624 0.71838506 0.71126775\n",
      " 0.40948512 0.69242557 0.44164239 0.51666037 0.47035105 0.1031279\n",
      " 0.29098389 0.94168046 0.18425788 0.33231118 0.64263553 0.68506372\n",
      " 0.91938157 0.98961695 0.2150463  0.61776955 0.19999999 0.81218453\n",
      " 0.34011511 0.03374817 0.5907394  0.96430175 0.47297159 0.83903216\n",
      " 0.20388045 0.15098633 0.48889826 0.98243783 0.84066847 0.02834678\n",
      " 0.44687478 0.3854754 ]\n"
     ]
    }
   ],
   "source": [
    "\n",
    "a = np.random.uniform(0,1,100)\n",
    "print(a)\n",
    "\n",
    "print(\"\\n\")\n",
    "\n",
    "b = np.random.uniform(0,1,80)\n",
    "print(b)\n"
   ]
  },
  {
   "cell_type": "markdown",
   "metadata": {},
   "source": [
    "__4.2__ Find out the mean and variance of `a` and `b`"
   ]
  },
  {
   "cell_type": "code",
   "execution_count": 55,
   "metadata": {},
   "outputs": [
    {
     "name": "stdout",
     "output_type": "stream",
     "text": [
      "0.5156554533006141 0.0822052584337183\n",
      "0.4733027151109631 0.0903274176192229\n"
     ]
    }
   ],
   "source": [
    "np.mean(a)\n",
    "np.var(a)\n",
    "# longer version: print('The mean of a is ' + str(np.mean(a)) + 'the variance of a is ' + str(np.var(a)) )\n",
    "print(np.mean(a), np.var(a))\n",
    "\n",
    "np.mean(b)\n",
    "np.var(b)\n",
    "# longer version: print('The mean of a is ' + str(np.mean(b)) + 'the variance of a is ' + str(np.var(b)) )\n",
    "print(np.mean(b), np.var(b))\n"
   ]
  },
  {
   "cell_type": "markdown",
   "metadata": {},
   "source": [
    "__4.3__ Perform a two-sample t-test to find out if the difference between `a` and `b`'s means are statistically significant.\n",
    "\n",
    "For this task you can import the `stats` module from scipy and use the `ttest_ind` function. Scipy is similar to numpy, but contains scientific functions that complement numpy.\n",
    "\n",
    "Learn about 2-sample t-test:\n",
    "https://stattrek.com/statistics/dictionary.aspx?definition=two-sample%20t-test"
   ]
  },
  {
   "cell_type": "code",
   "execution_count": 56,
   "metadata": {},
   "outputs": [
    {
     "data": {
      "text/plain": [
       "Ttest_indResult(statistic=0.9584779119974525, pvalue=0.3391218821938825)"
      ]
     },
     "execution_count": 56,
     "metadata": {},
     "output_type": "execute_result"
    }
   ],
   "source": [
    "from scipy import stats\n",
    "\n",
    "stats.ttest_ind(a,b)\n"
   ]
  },
  {
   "cell_type": "markdown",
   "metadata": {},
   "source": [
    "### Question 5 (optional)"
   ]
  },
  {
   "cell_type": "markdown",
   "metadata": {},
   "source": [
    "#### Comparison between for-loop and numpy performance:\n",
    "\n",
    "The function below simulates how many times on average the number 1 appears if you randomly select 100 numbers from 1 to 10. The simulation is run 10000 times."
   ]
  },
  {
   "cell_type": "code",
   "execution_count": 57,
   "metadata": {},
   "outputs": [],
   "source": [
    "import random"
   ]
  },
  {
   "cell_type": "code",
   "execution_count": 58,
   "metadata": {},
   "outputs": [],
   "source": [
    "def simulation():\n",
    "    results = []\n",
    "    for _ in range(10000):\n",
    "        l = []\n",
    "        for _ in range(100):\n",
    "            if random.randrange(1,11) == 1:\n",
    "                l.append(True)\n",
    "            else:\n",
    "                l.append(False)\n",
    "        results.append(sum(l))\n",
    "    return (sum(results) / len(results))"
   ]
  },
  {
   "cell_type": "markdown",
   "metadata": {},
   "source": [
    "Running simulation() should give us a result very close to 10."
   ]
  },
  {
   "cell_type": "code",
   "execution_count": 59,
   "metadata": {},
   "outputs": [
    {
     "data": {
      "text/plain": [
       "9.9905"
      ]
     },
     "execution_count": 59,
     "metadata": {},
     "output_type": "execute_result"
    }
   ],
   "source": [
    "simulation()"
   ]
  },
  {
   "cell_type": "markdown",
   "metadata": {},
   "source": [
    "Now recreate the simulation with numpy and without using for-loop and if-else.\n",
    "\n",
    "Hint:\n",
    "- You can use the table structure (row, column) to do this task\n",
    "- You can translate an array into a same-size boolean array (True/False) by some condition. For example: new_array = (old_array == 1)\n",
    "- In Python, True equals 1 and False equals 0"
   ]
  },
  {
   "cell_type": "code",
   "execution_count": 60,
   "metadata": {},
   "outputs": [],
   "source": [
    "# Son's solution: \n",
    "# (np.random.randint(1, 11, [10000, 100]) == 1).sum(axis=1).mean()\n",
    "#------------------"
   ]
  },
  {
   "cell_type": "markdown",
   "metadata": {},
   "source": [
    "Now use %timeit in front of your code line to compare the run time between simulation() and numpy code. If your code has multiple lines, put it inside a funtion and use %timeit before the function call.\n",
    "\n",
    "Try changing the number of simulations from 10000 to 100000 in both approaches to see how fast numpy can be when the task gets bigger."
   ]
  },
  {
   "cell_type": "code",
   "execution_count": 61,
   "metadata": {
    "scrolled": true
   },
   "outputs": [
    {
     "name": "stdout",
     "output_type": "stream",
     "text": [
      "1.03 s ± 11.3 ms per loop (mean ± std. dev. of 7 runs, 1 loop each)\n"
     ]
    }
   ],
   "source": [
    "%timeit simulation()"
   ]
  },
  {
   "cell_type": "code",
   "execution_count": 62,
   "metadata": {},
   "outputs": [
    {
     "ename": "ValueError",
     "evalue": "empty body on For",
     "output_type": "error",
     "traceback": [
      "\u001b[0;31m---------------------------------------------------------------------------\u001b[0m",
      "\u001b[0;31mValueError\u001b[0m                                Traceback (most recent call last)",
      "\u001b[0;32m<ipython-input-62-92ea8e46c1f6>\u001b[0m in \u001b[0;36m<module>\u001b[0;34m\u001b[0m\n\u001b[1;32m      4\u001b[0m \u001b[0;34m\u001b[0m\u001b[0m\n\u001b[1;32m      5\u001b[0m \u001b[0;34m\u001b[0m\u001b[0m\n\u001b[0;32m----> 6\u001b[0;31m \u001b[0mget_ipython\u001b[0m\u001b[0;34m(\u001b[0m\u001b[0;34m)\u001b[0m\u001b[0;34m.\u001b[0m\u001b[0mrun_line_magic\u001b[0m\u001b[0;34m(\u001b[0m\u001b[0;34m'timeit'\u001b[0m\u001b[0;34m,\u001b[0m \u001b[0;34m'# your code'\u001b[0m\u001b[0;34m)\u001b[0m\u001b[0;34m\u001b[0m\u001b[0;34m\u001b[0m\u001b[0m\n\u001b[0m",
      "\u001b[0;32m~/.local/lib/python3.7/site-packages/IPython/core/interactiveshell.py\u001b[0m in \u001b[0;36mrun_line_magic\u001b[0;34m(self, magic_name, line, _stack_depth)\u001b[0m\n\u001b[1;32m   2305\u001b[0m                 \u001b[0mkwargs\u001b[0m\u001b[0;34m[\u001b[0m\u001b[0;34m'local_ns'\u001b[0m\u001b[0;34m]\u001b[0m \u001b[0;34m=\u001b[0m \u001b[0msys\u001b[0m\u001b[0;34m.\u001b[0m\u001b[0m_getframe\u001b[0m\u001b[0;34m(\u001b[0m\u001b[0mstack_depth\u001b[0m\u001b[0;34m)\u001b[0m\u001b[0;34m.\u001b[0m\u001b[0mf_locals\u001b[0m\u001b[0;34m\u001b[0m\u001b[0;34m\u001b[0m\u001b[0m\n\u001b[1;32m   2306\u001b[0m             \u001b[0;32mwith\u001b[0m \u001b[0mself\u001b[0m\u001b[0;34m.\u001b[0m\u001b[0mbuiltin_trap\u001b[0m\u001b[0;34m:\u001b[0m\u001b[0;34m\u001b[0m\u001b[0;34m\u001b[0m\u001b[0m\n\u001b[0;32m-> 2307\u001b[0;31m                 \u001b[0mresult\u001b[0m \u001b[0;34m=\u001b[0m \u001b[0mfn\u001b[0m\u001b[0;34m(\u001b[0m\u001b[0;34m*\u001b[0m\u001b[0margs\u001b[0m\u001b[0;34m,\u001b[0m \u001b[0;34m**\u001b[0m\u001b[0mkwargs\u001b[0m\u001b[0;34m)\u001b[0m\u001b[0;34m\u001b[0m\u001b[0;34m\u001b[0m\u001b[0m\n\u001b[0m\u001b[1;32m   2308\u001b[0m             \u001b[0;32mreturn\u001b[0m \u001b[0mresult\u001b[0m\u001b[0;34m\u001b[0m\u001b[0;34m\u001b[0m\u001b[0m\n\u001b[1;32m   2309\u001b[0m \u001b[0;34m\u001b[0m\u001b[0m\n",
      "\u001b[0;32m</Users/dmitry/.local/lib/python3.7/site-packages/decorator.py:decorator-gen-60>\u001b[0m in \u001b[0;36mtimeit\u001b[0;34m(self, line, cell, local_ns)\u001b[0m\n",
      "\u001b[0;32m~/.local/lib/python3.7/site-packages/IPython/core/magic.py\u001b[0m in \u001b[0;36m<lambda>\u001b[0;34m(f, *a, **k)\u001b[0m\n\u001b[1;32m    185\u001b[0m     \u001b[0;31m# but it's overkill for just that one bit of state.\u001b[0m\u001b[0;34m\u001b[0m\u001b[0;34m\u001b[0m\u001b[0;34m\u001b[0m\u001b[0m\n\u001b[1;32m    186\u001b[0m     \u001b[0;32mdef\u001b[0m \u001b[0mmagic_deco\u001b[0m\u001b[0;34m(\u001b[0m\u001b[0marg\u001b[0m\u001b[0;34m)\u001b[0m\u001b[0;34m:\u001b[0m\u001b[0;34m\u001b[0m\u001b[0;34m\u001b[0m\u001b[0m\n\u001b[0;32m--> 187\u001b[0;31m         \u001b[0mcall\u001b[0m \u001b[0;34m=\u001b[0m \u001b[0;32mlambda\u001b[0m \u001b[0mf\u001b[0m\u001b[0;34m,\u001b[0m \u001b[0;34m*\u001b[0m\u001b[0ma\u001b[0m\u001b[0;34m,\u001b[0m \u001b[0;34m**\u001b[0m\u001b[0mk\u001b[0m\u001b[0;34m:\u001b[0m \u001b[0mf\u001b[0m\u001b[0;34m(\u001b[0m\u001b[0;34m*\u001b[0m\u001b[0ma\u001b[0m\u001b[0;34m,\u001b[0m \u001b[0;34m**\u001b[0m\u001b[0mk\u001b[0m\u001b[0;34m)\u001b[0m\u001b[0;34m\u001b[0m\u001b[0;34m\u001b[0m\u001b[0m\n\u001b[0m\u001b[1;32m    188\u001b[0m \u001b[0;34m\u001b[0m\u001b[0m\n\u001b[1;32m    189\u001b[0m         \u001b[0;32mif\u001b[0m \u001b[0mcallable\u001b[0m\u001b[0;34m(\u001b[0m\u001b[0marg\u001b[0m\u001b[0;34m)\u001b[0m\u001b[0;34m:\u001b[0m\u001b[0;34m\u001b[0m\u001b[0;34m\u001b[0m\u001b[0m\n",
      "\u001b[0;32m~/.local/lib/python3.7/site-packages/IPython/core/magics/execution.py\u001b[0m in \u001b[0;36mtimeit\u001b[0;34m(self, line, cell, local_ns)\u001b[0m\n\u001b[1;32m   1135\u001b[0m \u001b[0;34m\u001b[0m\u001b[0m\n\u001b[1;32m   1136\u001b[0m         \u001b[0mt0\u001b[0m \u001b[0;34m=\u001b[0m \u001b[0mclock\u001b[0m\u001b[0;34m(\u001b[0m\u001b[0;34m)\u001b[0m\u001b[0;34m\u001b[0m\u001b[0;34m\u001b[0m\u001b[0m\n\u001b[0;32m-> 1137\u001b[0;31m         \u001b[0mcode\u001b[0m \u001b[0;34m=\u001b[0m \u001b[0mself\u001b[0m\u001b[0;34m.\u001b[0m\u001b[0mshell\u001b[0m\u001b[0;34m.\u001b[0m\u001b[0mcompile\u001b[0m\u001b[0;34m(\u001b[0m\u001b[0mtimeit_ast\u001b[0m\u001b[0;34m,\u001b[0m \u001b[0;34m\"<magic-timeit>\"\u001b[0m\u001b[0;34m,\u001b[0m \u001b[0;34m\"exec\"\u001b[0m\u001b[0;34m)\u001b[0m\u001b[0;34m\u001b[0m\u001b[0;34m\u001b[0m\u001b[0m\n\u001b[0m\u001b[1;32m   1138\u001b[0m         \u001b[0mtc\u001b[0m \u001b[0;34m=\u001b[0m \u001b[0mclock\u001b[0m\u001b[0;34m(\u001b[0m\u001b[0;34m)\u001b[0m\u001b[0;34m-\u001b[0m\u001b[0mt0\u001b[0m\u001b[0;34m\u001b[0m\u001b[0;34m\u001b[0m\u001b[0m\n\u001b[1;32m   1139\u001b[0m \u001b[0;34m\u001b[0m\u001b[0m\n",
      "\u001b[0;32m~/.pyenv/versions/3.7.3/lib/python3.7/codeop.py\u001b[0m in \u001b[0;36m__call__\u001b[0;34m(self, source, filename, symbol)\u001b[0m\n\u001b[1;32m    131\u001b[0m \u001b[0;34m\u001b[0m\u001b[0m\n\u001b[1;32m    132\u001b[0m     \u001b[0;32mdef\u001b[0m \u001b[0m__call__\u001b[0m\u001b[0;34m(\u001b[0m\u001b[0mself\u001b[0m\u001b[0;34m,\u001b[0m \u001b[0msource\u001b[0m\u001b[0;34m,\u001b[0m \u001b[0mfilename\u001b[0m\u001b[0;34m,\u001b[0m \u001b[0msymbol\u001b[0m\u001b[0;34m)\u001b[0m\u001b[0;34m:\u001b[0m\u001b[0;34m\u001b[0m\u001b[0;34m\u001b[0m\u001b[0m\n\u001b[0;32m--> 133\u001b[0;31m         \u001b[0mcodeob\u001b[0m \u001b[0;34m=\u001b[0m \u001b[0mcompile\u001b[0m\u001b[0;34m(\u001b[0m\u001b[0msource\u001b[0m\u001b[0;34m,\u001b[0m \u001b[0mfilename\u001b[0m\u001b[0;34m,\u001b[0m \u001b[0msymbol\u001b[0m\u001b[0;34m,\u001b[0m \u001b[0mself\u001b[0m\u001b[0;34m.\u001b[0m\u001b[0mflags\u001b[0m\u001b[0;34m,\u001b[0m \u001b[0;36m1\u001b[0m\u001b[0;34m)\u001b[0m\u001b[0;34m\u001b[0m\u001b[0;34m\u001b[0m\u001b[0m\n\u001b[0m\u001b[1;32m    134\u001b[0m         \u001b[0;32mfor\u001b[0m \u001b[0mfeature\u001b[0m \u001b[0;32min\u001b[0m \u001b[0m_features\u001b[0m\u001b[0;34m:\u001b[0m\u001b[0;34m\u001b[0m\u001b[0;34m\u001b[0m\u001b[0m\n\u001b[1;32m    135\u001b[0m             \u001b[0;32mif\u001b[0m \u001b[0mcodeob\u001b[0m\u001b[0;34m.\u001b[0m\u001b[0mco_flags\u001b[0m \u001b[0;34m&\u001b[0m \u001b[0mfeature\u001b[0m\u001b[0;34m.\u001b[0m\u001b[0mcompiler_flag\u001b[0m\u001b[0;34m:\u001b[0m\u001b[0;34m\u001b[0m\u001b[0;34m\u001b[0m\u001b[0m\n",
      "\u001b[0;31mValueError\u001b[0m: empty body on For"
     ]
    }
   ],
   "source": [
    "# Son's solution\n",
    "# %timeit (np.random.randint(1, 11, [10000, 100]) == 1).sum(axis=1).mean()\n",
    "# ----------------\n",
    "\n",
    "\n",
    "%timeit # your code"
   ]
  },
  {
   "cell_type": "code",
   "execution_count": null,
   "metadata": {},
   "outputs": [],
   "source": []
  },
  {
   "cell_type": "markdown",
   "metadata": {},
   "source": [
    "### More about numpy"
   ]
  },
  {
   "cell_type": "markdown",
   "metadata": {},
   "source": [
    "We don't often use numpy syntax in common data analysis tasks. However, it is the core library that other more used libraries are built upon (pandas, scikit-learn, ...). If you want to learn more about the philosophy behind numpy's vectorization, here is one good resource.\n",
    "\n",
    "https://www.labri.fr/perso/nrougier/from-python-to-numpy/"
   ]
  },
  {
   "cell_type": "code",
   "execution_count": null,
   "metadata": {},
   "outputs": [],
   "source": []
  }
 ],
 "metadata": {
  "kernelspec": {
   "display_name": "Python 3",
   "language": "python",
   "name": "python3"
  },
  "language_info": {
   "codemirror_mode": {
    "name": "ipython",
    "version": 3
   },
   "file_extension": ".py",
   "mimetype": "text/x-python",
   "name": "python",
   "nbconvert_exporter": "python",
   "pygments_lexer": "ipython3",
   "version": "3.7.3"
  }
 },
 "nbformat": 4,
 "nbformat_minor": 4
}
