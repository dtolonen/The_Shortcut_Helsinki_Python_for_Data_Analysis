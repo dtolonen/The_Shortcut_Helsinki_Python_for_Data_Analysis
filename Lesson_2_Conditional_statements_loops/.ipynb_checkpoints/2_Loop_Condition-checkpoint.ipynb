{
 "cells": [
  {
   "cell_type": "markdown",
   "metadata": {},
   "source": [
    "## Lecture 2: Conditional statements, for and while loops\n",
    "\n",
    "Rohan Chauhan\n",
    "10.02.2020"
   ]
  },
  {
   "cell_type": "markdown",
   "metadata": {},
   "source": [
    "## 1. Conditional statements "
   ]
  },
  {
   "cell_type": "markdown",
   "metadata": {},
   "source": [
    "Every statement you write is called a \"line of code\" (LOC). For example,\n",
    "\n",
    "`area_of_square = length_of_side * length_of_side`"
   ]
  },
  {
   "cell_type": "markdown",
   "metadata": {},
   "source": [
    "##### **Sequential Flow**"
   ]
  },
  {
   "cell_type": "markdown",
   "metadata": {},
   "source": [
    "A program consists of one or more lines of code. Usually, statements in program are executed one after the other. This is called **sequential flow**. For example,"
   ]
  },
  {
   "cell_type": "code",
   "execution_count": 1,
   "metadata": {},
   "outputs": [
    {
     "name": "stdout",
     "output_type": "stream",
     "text": [
      "11\n"
     ]
    }
   ],
   "source": [
    "a = 5\n",
    "b = 6\n",
    "print(a+b)"
   ]
  },
  {
   "cell_type": "markdown",
   "metadata": {},
   "source": [
    "Like in the previous example, statement `1 -> 2 -> 3` were executed."
   ]
  },
  {
   "cell_type": "markdown",
   "metadata": {},
   "source": [
    "##### **Conditional Flow**"
   ]
  },
  {
   "cell_type": "markdown",
   "metadata": {},
   "source": [
    "However, sometimes, we would like to execute a set of statements depending upon a condition. For example, \n",
    "\n",
    "Depending upon the number entered by user, we would like to tell them if it's even or odd."
   ]
  },
  {
   "cell_type": "code",
   "execution_count": 2,
   "metadata": {},
   "outputs": [
    {
     "name": "stdin",
     "output_type": "stream",
     "text": [
      "Enter a number 2\n"
     ]
    },
    {
     "name": "stdout",
     "output_type": "stream",
     "text": [
      "You entered a even number.\n",
      "Thank you!\n"
     ]
    }
   ],
   "source": [
    "number = int(input(\"Enter a number\"))\n",
    "if (number%2==0):\n",
    "    print('You entered a even number.')\n",
    "else:\n",
    "    print('You entered a odd number.')\n",
    "print('Thank you!')\n"
   ]
  },
  {
   "cell_type": "markdown",
   "metadata": {},
   "source": [
    "For even number, statement `1 -> 2 -> 3 -> 6` are executed.<br/> For odd number, statement `1 -> 2 -> 4 -> 5 -> 6` are executed."
   ]
  },
  {
   "cell_type": "markdown",
   "metadata": {},
   "source": [
    "## **2. IF - ELIF - ELSE**"
   ]
  },
  {
   "cell_type": "markdown",
   "metadata": {},
   "source": [
    "**If** statement is used to check whether a condition is true or false. If the condition is true, then the block of statement inside the if is executed."
   ]
  },
  {
   "cell_type": "markdown",
   "metadata": {},
   "source": [
    "**If a given condition is not true**, then we can check the other conditions using **elif** statement."
   ]
  },
  {
   "cell_type": "code",
   "execution_count": 3,
   "metadata": {},
   "outputs": [
    {
     "name": "stdout",
     "output_type": "stream",
     "text": [
      "B is smaller.\n"
     ]
    }
   ],
   "source": [
    "a = 5\n",
    "b = 4\n",
    "\n",
    "if (a < b):\n",
    "    print('A is smaller.')\n",
    "\n",
    "if (b < a):\n",
    "    print('B is smaller.')\n",
    "    \n",
    "elif (a==b):\n",
    "    print('Equal')"
   ]
  },
  {
   "cell_type": "markdown",
   "metadata": {},
   "source": [
    "NB: the order you put all these in is important for memory, in case you hit \n",
    "a true statement, so that you don't do through thousands of statements. \n",
    "Eg see this code below - imagine reversing the A+2 or 4 or 8 order: "
   ]
  },
  {
   "cell_type": "code",
   "execution_count": 4,
   "metadata": {},
   "outputs": [
    {
     "name": "stdout",
     "output_type": "stream",
     "text": [
      "3\n"
     ]
    }
   ],
   "source": [
    "A = 1\n",
    "if(A>0):\n",
    "    A = A+2\n",
    "elif(A>2):\n",
    "    A = A+4\n",
    "elif(A>4):\n",
    "    A = A+8\n",
    "print(A)"
   ]
  },
  {
   "cell_type": "markdown",
   "metadata": {},
   "source": [
    "*Write a program to print the final value of \"A\" given the following conditions:*\n",
    "\n",
    "| Grade | Increase A by |\n",
    "|-------|---------------|\n",
    "| A>0 | 2 |\n",
    "| A>2 | 4 |\n",
    "| A>4 | 8 |\n",
    "\n",
    "The initial value of A is 1."
   ]
  },
  {
   "cell_type": "code",
   "execution_count": 5,
   "metadata": {},
   "outputs": [
    {
     "name": "stdout",
     "output_type": "stream",
     "text": [
      "15\n"
     ]
    }
   ],
   "source": [
    "A = 1\n",
    "if(A>0):\n",
    "    A = A+2\n",
    "if(A>2):\n",
    "    A = A+4\n",
    "if(A>4):\n",
    "    A = A+8\n",
    "print(A)"
   ]
  },
  {
   "cell_type": "code",
   "execution_count": 6,
   "metadata": {},
   "outputs": [
    {
     "name": "stdout",
     "output_type": "stream",
     "text": [
      "3\n"
     ]
    }
   ],
   "source": [
    "A = 1\n",
    "if(A>0):\n",
    "    A = A+2\n",
    "elif(A>2):\n",
    "    A = A+4\n",
    "elif(A>4):\n",
    "    A = A+8\n",
    "print(A)"
   ]
  },
  {
   "cell_type": "markdown",
   "metadata": {},
   "source": [
    "**else** statement is used to catch any other condition or cases which have not been captured by the if statement. **There can be only single if , single else but you can have zero or multiple elif statements in between.**"
   ]
  },
  {
   "cell_type": "code",
   "execution_count": 7,
   "metadata": {},
   "outputs": [
    {
     "name": "stdout",
     "output_type": "stream",
     "text": [
      "A is equal to B\n"
     ]
    }
   ],
   "source": [
    "a = 5\n",
    "b = 5\n",
    "\n",
    "if (a < b):\n",
    "    print('A is smaller.')\n",
    "elif (b < a):\n",
    "    print('B is smaller')\n",
    "else:\n",
    "    print('A is equal to B')"
   ]
  },
  {
   "cell_type": "markdown",
   "metadata": {},
   "source": [
    "**If else statement can be also written in single line.** This is useful in list comprehensions which we will study in next class."
   ]
  },
  {
   "cell_type": "code",
   "execution_count": 8,
   "metadata": {},
   "outputs": [
    {
     "name": "stdout",
     "output_type": "stream",
     "text": [
      "A\n",
      "A\n"
     ]
    }
   ],
   "source": [
    "a = 5\n",
    "b = 3\n",
    "\n",
    "if a > b: \n",
    "    print(\"A\")\n",
    "    \n",
    "print(\"A\") if a > b else print(\"B\")\n",
    "# NB this new syntax/a new way to write in comparison to above nested structure."
   ]
  },
  {
   "cell_type": "code",
   "execution_count": 9,
   "metadata": {},
   "outputs": [
    {
     "name": "stdout",
     "output_type": "stream",
     "text": [
      "=\n"
     ]
    }
   ],
   "source": [
    "a = b = 3\n",
    "(print(\"A\") if a > b else (print(\"=\") if a == b else print(\"B\")))"
   ]
  },
  {
   "cell_type": "markdown",
   "metadata": {},
   "source": [
    "Having if statement inside if statement is called 'Nested If'."
   ]
  },
  {
   "cell_type": "code",
   "execution_count": 10,
   "metadata": {},
   "outputs": [
    {
     "name": "stdout",
     "output_type": "stream",
     "text": [
      "Above ten,\n",
      "10 and 12\n"
     ]
    }
   ],
   "source": [
    "x =11 # Try starting with 0, 1, 2 etc.\n",
    "\n",
    "if x > 10:\n",
    "    print(\"Above ten,\")\n",
    "    if x < 13:\n",
    "        print(\"10 and 12\")\n",
    "    elif x >13 and x < 17:\n",
    "        print(\"14 and 16\")\n",
    "    else:\n",
    "        print(\"17 and above.\")\n"
   ]
  },
  {
   "cell_type": "markdown",
   "metadata": {},
   "source": [
    "#### Recap"
   ]
  },
  {
   "cell_type": "markdown",
   "metadata": {},
   "source": [
    "Enter the following marks:\n",
    "1. 49\n",
    "2. 60\n",
    "3. -30"
   ]
  },
  {
   "cell_type": "code",
   "execution_count": 11,
   "metadata": {},
   "outputs": [
    {
     "name": "stdin",
     "output_type": "stream",
     "text": [
      "Enter your marks : 70\n"
     ]
    },
    {
     "name": "stdout",
     "output_type": "stream",
     "text": [
      "Excellent\n",
      "Thank you!\n"
     ]
    }
   ],
   "source": [
    "marks = int(input('Enter your marks :'))\n",
    "if (marks>=0 and marks < 50): # condition 1\n",
    "    print('Poor')\n",
    "elif(marks >= 50 and marks < 60): # condition 2\n",
    "    print('OK')\n",
    "elif(marks >= 60 and marks < 70): # condition 3\n",
    "    print('Good')\n",
    "elif(marks >= 70): # condition 4\n",
    "    print('Excellent')\n",
    "else: # to capture any unknown situation\n",
    "    print('Error')\n",
    "print('Thank you!')"
   ]
  },
  {
   "cell_type": "markdown",
   "metadata": {},
   "source": [
    "*Observations*:\n",
    "\n",
    "1. To check a single condition, use a single if statement.\n",
    "\n",
    "2. To check more than one condition, use a if statement and elif statement. As soon as, the first 'true' condition is encountered, we do not check rest of the conditions. For example, when marks is 60, we check condition 1 then condition 2 and as it is true, we print \"OK\". After that execution, directly jumps to statement 12 which prints \"Thank you!\"\n",
    "\n",
    "3. If there are some conditions that you cannot capture, you can capture any unwanted behaviour using else statement. Like in the above example, if user enters negative marks by mistake, we execute the statement inside else because all the conditions above it are false. If there is no else statement, we just print \"Thank you!\"\n",
    "\n",
    "4. Else statement is not necessary. But any if-elif should start with if. You cannot start with elif."
   ]
  },
  {
   "cell_type": "markdown",
   "metadata": {},
   "source": [
    "## 3. Loops"
   ]
  },
  {
   "cell_type": "markdown",
   "metadata": {},
   "source": [
    "##### Iteration/Repetition Flow"
   ]
  },
  {
   "cell_type": "markdown",
   "metadata": {},
   "source": [
    "Iteration or Repetition flow is different from the conditional flow in the sense that we want to execute a set of statements until the condition is true.\n",
    "\n",
    "**Note**: if you wanted multiple conditions in the while, write 'while((i<5) and (b==True))'. Don't forget to add 'i = i+1', otherwise your code will loop indefinitely."
   ]
  },
  {
   "cell_type": "code",
   "execution_count": 12,
   "metadata": {},
   "outputs": [
    {
     "name": "stdout",
     "output_type": "stream",
     "text": [
      "The value of i is 0.\n",
      "Condition is True\n",
      "The value of i is 1.\n",
      "Condition is True\n",
      "The value of i is 2.\n",
      "Condition is True\n",
      "The value of i is 3.\n",
      "Condition is True\n",
      "The value of i is 4.\n",
      "Condition is True\n",
      "Now the value of i is 5\n",
      "False\n",
      "So, we come out of the loop after executing the statements until the condition was true.\n"
     ]
    }
   ],
   "source": [
    "i = 0\n",
    "while (i<5):\n",
    "\n",
    "    print('The value of i is '+ str(i)+'.')\n",
    "    print('Condition is ' + str(i<5))\n",
    "    i = i + 1\n",
    "\n",
    "    \n",
    "print('Now the value of i is '+ str(i))\n",
    "print(i<5)\n",
    "print('So, we come out of the loop after executing the statements until the condition was true.')"
   ]
  },
  {
   "cell_type": "markdown",
   "metadata": {},
   "source": [
    "In previous example, <br/>\n",
    "Value of i is 0. Condition is True.`1 ->`<br/>\n",
    "Value of i becomes 1.`2 -> 3 -> 4 -> 5 ->`<br/>\n",
    "Value of i becomes 2.`2 -> 3 -> 4 -> 5 ->`<br/>\n",
    "Value of i becomes 3.`2 -> 3 -> 4 -> 5 ->`<br/>\n",
    "Value of i becomes 4.`2 -> 3 -> 4 -> 5 ->`<br/>\n",
    "Value of i becomes 5.`2 -> 3 -> 4 -> 5 ->`<br/>\n",
    "Value of i is 5 and 5 is not less than 5. Condition is False.`2 -> 6 -> 7 -> 8`\n",
    "\n",
    "**This is called dry run and is useful concept for debugging or identifying errors in program.**"
   ]
  },
  {
   "cell_type": "markdown",
   "metadata": {},
   "source": [
    "<br/>\n",
    "Python has two types of repetition commands:\n",
    "    1. While loop\n",
    "    2. For loop"
   ]
  },
  {
   "cell_type": "markdown",
   "metadata": {},
   "source": [
    "**While loop**"
   ]
  },
  {
   "cell_type": "markdown",
   "metadata": {},
   "source": [
    "*Write a program to print the multiplication table of any number.*"
   ]
  },
  {
   "cell_type": "code",
   "execution_count": 17,
   "metadata": {},
   "outputs": [
    {
     "name": "stdout",
     "output_type": "stream",
     "text": [
      "10\n",
      "20\n",
      "30\n",
      "40\n",
      "50\n",
      "60\n",
      "70\n",
      "80\n",
      "90\n",
      "100\n"
     ]
    }
   ],
   "source": [
    "number = 10\n",
    "factor = 1\n",
    "while (factor <=10):\n",
    "    print(number*factor)\n",
    "    factor = factor + 1"
   ]
  },
  {
   "cell_type": "markdown",
   "metadata": {},
   "source": [
    "*Write a program using while loop to print numbers from 1 to 10*"
   ]
  },
  {
   "cell_type": "code",
   "execution_count": 22,
   "metadata": {},
   "outputs": [
    {
     "name": "stdout",
     "output_type": "stream",
     "text": [
      "1\n",
      "2\n",
      "3\n",
      "4\n",
      "5\n",
      "6\n",
      "7\n",
      "8\n",
      "9\n",
      "10\n",
      "\n",
      "\n",
      "1\n",
      "2\n",
      "3\n",
      "4\n",
      "5\n",
      "6\n",
      "7\n",
      "8\n",
      "9\n",
      "10\n"
     ]
    }
   ],
   "source": [
    "\n",
    "number = 1\n",
    "factor = 1\n",
    "while (factor <=10):\n",
    "    print(number*factor)\n",
    "    factor = factor + 1 \n",
    "\n",
    "print(\"\\n\")\n",
    "\n",
    "# Rohan's simpler suggestion\n",
    "i = 1\n",
    "while (i<=10):\n",
    "    print(i)\n",
    "    i += 1"
   ]
  },
  {
   "cell_type": "markdown",
   "metadata": {},
   "source": [
    "**break command/key word** can be used to come out of the loop even if the condition is true. It is usually used to exit the loop once the desired element is found. "
   ]
  },
  {
   "cell_type": "markdown",
   "metadata": {},
   "source": [
    "*Write a program to ask user for input 5 times and print it. The program should stop when the user enters the word 'bye'.*"
   ]
  },
  {
   "cell_type": "code",
   "execution_count": null,
   "metadata": {},
   "outputs": [],
   "source": [
    "i = 1\n",
    "while (i<=5):\n",
    "    message = input(\"Enter your message : \")\n",
    "    if (message == 'bye'):\n",
    "        break\n",
    "    else:\n",
    "        print(message)\n",
    "    i = i + 1"
   ]
  },
  {
   "cell_type": "markdown",
   "metadata": {},
   "source": [
    "You can break out of the loop once the desired element is found or function is done"
   ]
  },
  {
   "cell_type": "code",
   "execution_count": 42,
   "metadata": {},
   "outputs": [
    {
     "name": "stdout",
     "output_type": "stream",
     "text": [
      "Found\n"
     ]
    }
   ],
   "source": [
    "\n",
    "lista = [2]*10\n",
    "b = 2\n",
    "\n",
    "for number in lista:\n",
    "    if number in lista:\n",
    "        if (b==number):\n",
    "            print('Found')                \n",
    "            break\n"
   ]
  },
  {
   "cell_type": "markdown",
   "metadata": {},
   "source": [
    "On the other hand, **continue command/key word** can be used to skip an iteration."
   ]
  },
  {
   "cell_type": "markdown",
   "metadata": {},
   "source": [
    "*Write a program to print all the even numbers from 1 till 50.*\n",
    "\n",
    "**Note** the commented out print() lines showing what would print while still inside the whie loop and how the one print() line outside, after the loop finishes, would print.\n",
    "\n",
    "Continue is used to skip an iteration. It will skip anything written below it. So, for the value '1' inside the loop, the if would be false and you would pass back to the beginning and not run the internal print() line for that iteration of the loop."
   ]
  },
  {
   "cell_type": "code",
   "execution_count": 53,
   "metadata": {},
   "outputs": [
    {
     "name": "stdout",
     "output_type": "stream",
     "text": [
      "2 4 6 8 10 12 14 16 18 20 22 24 26 28 30 32 34 36 38 40 42 44 46 48 50 "
     ]
    }
   ],
   "source": [
    "\n",
    "i = 0\n",
    "while (i <= 50):\n",
    "    i = i + 1\n",
    "    if (i%2 == 0):\n",
    "        print(i,end=' ')\n",
    "    else:\n",
    "        continue\n",
    "    # print('inside the while loop')\n",
    "# print('outside the while loop')\n"
   ]
  },
  {
   "cell_type": "markdown",
   "metadata": {},
   "source": [
    "*Write a program to ask user for input 5 times and print it. The program should not print anything when the user enters the word 'shut up'. The program should stop if the user enters the word 'bye'.* **(Do in Class 1)**"
   ]
  },
  {
   "cell_type": "code",
   "execution_count": 45,
   "metadata": {},
   "outputs": [
    {
     "name": "stdin",
     "output_type": "stream",
     "text": [
      "Enter your message :  shut up\n",
      "Enter your message :  eh\n"
     ]
    },
    {
     "name": "stdout",
     "output_type": "stream",
     "text": [
      "eh\n"
     ]
    },
    {
     "name": "stdin",
     "output_type": "stream",
     "text": [
      "Enter your message :  bye\n"
     ]
    }
   ],
   "source": [
    "i = 1\n",
    "while (i<=5):\n",
    "    message = input(\"Enter your message : \")\n",
    "    if (message == 'bye'):\n",
    "        break\n",
    "    elif (message == 'shut up'):\n",
    "        continue\n",
    "    else:\n",
    "        print(message)\n",
    "    i = i + 1"
   ]
  },
  {
   "cell_type": "markdown",
   "metadata": {},
   "source": [
    "**pass command/key word** acts as a placeholder and is used to do nothing. pass is usually used \n",
    "1. When you're designing larger programs, **it acts as placeholder in dummy functions.** \n",
    "2. **At times when you encounter an error and still want to continue.** On encountering an error in program, usually the execution of program stops.\n",
    "\n",
    "Pass does not skip, you just choose to do nothing."
   ]
  },
  {
   "cell_type": "markdown",
   "metadata": {},
   "source": [
    "*Write a program to print all the even numbers from 1 till 50.*"
   ]
  },
  {
   "cell_type": "code",
   "execution_count": 55,
   "metadata": {},
   "outputs": [
    {
     "name": "stdout",
     "output_type": "stream",
     "text": [
      "1\n",
      "Hello\n",
      "Bye\n",
      "2 Bye\n",
      "3\n",
      "Hello\n",
      "Bye\n",
      "4 Bye\n",
      "5\n",
      "Hello\n",
      "Bye\n",
      "6 Bye\n",
      "7\n",
      "Hello\n",
      "Bye\n",
      "8 Bye\n",
      "9\n",
      "Hello\n",
      "Bye\n",
      "10 Bye\n",
      "11\n",
      "Hello\n",
      "Bye\n",
      "12 Bye\n",
      "13\n",
      "Hello\n",
      "Bye\n",
      "14 Bye\n",
      "15\n",
      "Hello\n",
      "Bye\n",
      "16 Bye\n",
      "17\n",
      "Hello\n",
      "Bye\n",
      "18 Bye\n",
      "19\n",
      "Hello\n",
      "Bye\n",
      "20 Bye\n",
      "21\n",
      "Hello\n",
      "Bye\n",
      "22 Bye\n",
      "23\n",
      "Hello\n",
      "Bye\n",
      "24 Bye\n",
      "25\n",
      "Hello\n",
      "Bye\n",
      "26 Bye\n",
      "27\n",
      "Hello\n",
      "Bye\n",
      "28 Bye\n",
      "29\n",
      "Hello\n",
      "Bye\n",
      "30 Bye\n",
      "31\n",
      "Hello\n",
      "Bye\n",
      "32 Bye\n",
      "33\n",
      "Hello\n",
      "Bye\n",
      "34 Bye\n",
      "35\n",
      "Hello\n",
      "Bye\n",
      "36 Bye\n",
      "37\n",
      "Hello\n",
      "Bye\n",
      "38 Bye\n",
      "39\n",
      "Hello\n",
      "Bye\n",
      "40 Bye\n",
      "41\n",
      "Hello\n",
      "Bye\n",
      "42 Bye\n",
      "43\n",
      "Hello\n",
      "Bye\n",
      "44 Bye\n",
      "45\n",
      "Hello\n",
      "Bye\n",
      "46 Bye\n",
      "47\n",
      "Hello\n",
      "Bye\n",
      "48 Bye\n",
      "49\n",
      "Hello\n",
      "Bye\n",
      "50 Bye\n",
      "51\n",
      "Hello\n",
      "Bye\n"
     ]
    }
   ],
   "source": [
    "i = 0\n",
    "while (i <= 50):\n",
    "    i = i + 1\n",
    "    if (i%2 == 0):\n",
    "        print(i,end=' ')\n",
    "    else:\n",
    "        pass # do nothing # see what happens, if changed to 'continue'\n",
    "        print(i)\n",
    "        print('Hello')\n",
    "    print('Bye')\n"
   ]
  },
  {
   "cell_type": "code",
   "execution_count": null,
   "metadata": {},
   "outputs": [],
   "source": [
    "\n",
    "a = 1\n",
    "b = 2\n",
    "while(a<10):\n",
    "    a = a+1\n",
    "    while(b<=10):\n",
    "        b = b+1\n",
    "        if(b%2==0):\n",
    "            continue\n",
    "        print(b)\n",
    "    print(a)"
   ]
  },
  {
   "cell_type": "markdown",
   "metadata": {},
   "source": [
    "**The difference between pass and continue is** that in the previous example, you actually know that you want to skip the execution when the number is 'odd'. However, in other tasks such as processing large data or gathering data from web, you cannot think of all situations that can happen. So, usually programmers handle unwanted situation with **try** and **except**. In these situations, we use pass. We also log or store the type of errors which we encounter so that we can handle it later on."
   ]
  },
  {
   "cell_type": "markdown",
   "metadata": {},
   "source": [
    "**For loop**"
   ]
  },
  {
   "cell_type": "markdown",
   "metadata": {},
   "source": [
    "For loop is used for iterating over a sequence. The sequence can be anything from lists or arrays, strings, dictionaries etc "
   ]
  },
  {
   "cell_type": "markdown",
   "metadata": {},
   "source": [
    "A list is a sequence of items. We will go into depth in the next class."
   ]
  },
  {
   "cell_type": "code",
   "execution_count": 56,
   "metadata": {},
   "outputs": [
    {
     "name": "stdout",
     "output_type": "stream",
     "text": [
      "apple\n",
      "banana\n",
      "orange\n"
     ]
    }
   ],
   "source": [
    "basket = ['apple','banana','orange']\n",
    "\n",
    "for fruit in basket:\n",
    "    print(fruit)\n"
   ]
  },
  {
   "cell_type": "markdown",
   "metadata": {},
   "source": [
    "We can use **if** to check the presence of item in list."
   ]
  },
  {
   "cell_type": "code",
   "execution_count": null,
   "metadata": {},
   "outputs": [],
   "source": [
    "if 'apple' in basket:\n",
    "    print('Yay')"
   ]
  },
  {
   "cell_type": "markdown",
   "metadata": {},
   "source": [
    "Similarly, every string is a sequence of characters and can be treated as a list. For example,"
   ]
  },
  {
   "cell_type": "code",
   "execution_count": null,
   "metadata": {},
   "outputs": [],
   "source": [
    "pet = 'cat' \n",
    "\n",
    "for letter in pet:\n",
    "    print(letter)"
   ]
  },
  {
   "cell_type": "code",
   "execution_count": null,
   "metadata": {},
   "outputs": [],
   "source": [
    "if 'o' in pet:\n",
    "    print('Yay')\n"
   ]
  },
  {
   "cell_type": "markdown",
   "metadata": {},
   "source": [
    "It prints nothing because o is not present in the string 'cat'.\n",
    "\n",
    "You can use **break**, **continue** and **pass** also in the for loop."
   ]
  },
  {
   "cell_type": "markdown",
   "metadata": {},
   "source": [
    "*Write a program to print the first 5 letter of the word - `Finland` using a **for** loop.*"
   ]
  },
  {
   "cell_type": "code",
   "execution_count": null,
   "metadata": {},
   "outputs": [],
   "source": [
    "word = 'Finland'\n",
    "\n",
    "i = 0\n",
    "for letter in word:\n",
    "    if(i==5):\n",
    "        break\n",
    "    print(letter, end=' ')\n",
    "    i = i + 1"
   ]
  },
  {
   "cell_type": "markdown",
   "metadata": {},
   "source": [
    "*Write a program to print every even letter of the word - `Mississippi` using a for loop. The output should be `Msispi`.* \n",
    "\n",
    "**Note:** even (%2==0) begins printing at M, odd (%2==1) begins at i. Is this because Python begins counting at 0, not 1?  **(Do in Class 2)**"
   ]
  },
  {
   "cell_type": "code",
   "execution_count": 98,
   "metadata": {},
   "outputs": [
    {
     "name": "stdout",
     "output_type": "stream",
     "text": [
      "Even letters\n",
      "M s i s p i \n",
      "Odd letters\n",
      "i s s i p "
     ]
    }
   ],
   "source": [
    "\n",
    "word = 'Mississippi'\n",
    "\n",
    "# Note: odd letters would be 'M s i s p i' and even letters 'i s s i p', \n",
    "# but notice how the modulo operators do the opposite? \n",
    "\n",
    "print(\"Even letters\")\n",
    "i = 0\n",
    "for letter in word:\n",
    "        if(i%2==0):\n",
    "            print(letter, end=' ')\n",
    "        else:\n",
    "            pass\n",
    "        i = i+1\n",
    "        \n",
    "print(\"\\nOdd letters\")\n",
    "i = 0\n",
    "for letter in word:\n",
    "        if(i%2 !=0):\n",
    "            print(letter, end=' ')\n",
    "        else:\n",
    "            pass\n",
    "        i = i+1\n",
    "\n"
   ]
  },
  {
   "cell_type": "markdown",
   "metadata": {},
   "source": [
    "*Write a program to print every even vowel of the word - `Mississippi` using a **for** loop. The output should be `ii` as there are 4 vowels in `Mississippi` which is `iiii`. Every even vowel out of this `ii`* **(Do in Class 3)**"
   ]
  },
  {
   "cell_type": "code",
   "execution_count": 99,
   "metadata": {},
   "outputs": [
    {
     "name": "stdout",
     "output_type": "stream",
     "text": [
      "ii\n",
      "i i "
     ]
    }
   ],
   "source": [
    "\n",
    "word = 'Mississippi'\n",
    "vowels = 'a' , 'e', 'i', 'o', 'u'\n",
    "i = 0\n",
    "collected_vowels = \"\"\n",
    "\n",
    "for i in word:\n",
    "        if i in vowels:\n",
    "             collected_vowels = collected_vowels + i\n",
    "print( collected_vowels[:2])\n",
    "\n",
    "\n",
    "# Rohan's suggested solution:\n",
    "\n",
    "word = 'Mississippi'\n",
    "\n",
    "i = 0\n",
    "for letter in word:\n",
    "    if(i%2 == 0 and (letter=='a' or letter=='i' or letter=='e' or letter=='o' or letter=='u')):\n",
    "        print(letter,end=' ')\n",
    "    else:\n",
    "        pass\n",
    "    i = i + 1\n",
    "\n",
    "\n",
    "\n"
   ]
  },
  {
   "cell_type": "markdown",
   "metadata": {},
   "source": [
    "<br/>\n",
    "\n",
    "The **range** function in python can be used to generate numeric sequences. The **range()** function returns a sequence of numbers, starting from 0 by default, and increments by 1 (by default), and ends at a specified number. \n",
    "\n",
    "For example, the syntax is range(**start, end, increment**). If you enter only a single value, it'll be the end value. Two values: the beginning value and end value (non-inclusive).  For the step, you can also use negative numbers."
   ]
  },
  {
   "cell_type": "code",
   "execution_count": 105,
   "metadata": {},
   "outputs": [
    {
     "name": "stdout",
     "output_type": "stream",
     "text": [
      "0 1 2 3 4 "
     ]
    }
   ],
   "source": [
    "for x in range(5):\n",
    "    print(x,end=' ')"
   ]
  },
  {
   "cell_type": "markdown",
   "metadata": {},
   "source": [
    "range(5) = [0,1,2,3,4]"
   ]
  },
  {
   "cell_type": "code",
   "execution_count": 106,
   "metadata": {},
   "outputs": [
    {
     "name": "stdout",
     "output_type": "stream",
     "text": [
      "range(0, 5)\n"
     ]
    }
   ],
   "source": [
    "print(range(5))"
   ]
  },
  {
   "cell_type": "code",
   "execution_count": 107,
   "metadata": {},
   "outputs": [
    {
     "name": "stdout",
     "output_type": "stream",
     "text": [
      "1 2 3 4 "
     ]
    }
   ],
   "source": [
    "for x in range(1,5):\n",
    "    print(x,end=' ')"
   ]
  },
  {
   "cell_type": "code",
   "execution_count": 108,
   "metadata": {},
   "outputs": [
    {
     "name": "stdout",
     "output_type": "stream",
     "text": [
      "1 2 3 4 5 6 7 8 9 "
     ]
    }
   ],
   "source": [
    "for x in range(1,10,1):\n",
    "    print(x,end=' ')"
   ]
  },
  {
   "cell_type": "code",
   "execution_count": 109,
   "metadata": {},
   "outputs": [
    {
     "name": "stdout",
     "output_type": "stream",
     "text": [
      "10 9 8 7 6 5 4 3 2 1 "
     ]
    }
   ],
   "source": [
    "# Reverse count\n",
    "for x in range(10,0,-1):\n",
    "    print(x,end=' ')"
   ]
  },
  {
   "cell_type": "code",
   "execution_count": 118,
   "metadata": {},
   "outputs": [
    {
     "name": "stdout",
     "output_type": "stream",
     "text": [
      "0\n",
      "a\n",
      "\n",
      "\n",
      "1\n",
      "b\n",
      "\n",
      "\n",
      "2\n",
      "c\n",
      "\n",
      "\n",
      "3\n",
      "d\n",
      "\n",
      "\n"
     ]
    }
   ],
   "source": [
    "list1 = ['a','b','c','d']\n",
    "for i in range(4):\n",
    "    print(i)\n",
    "    print(list1[i])\n",
    "    print(\"\\n\")"
   ]
  },
  {
   "cell_type": "markdown",
   "metadata": {},
   "source": [
    "The **range** function can be used to repeat a statement given number of times."
   ]
  },
  {
   "cell_type": "markdown",
   "metadata": {},
   "source": [
    "*Write a program to print the multiplication table of any number.*"
   ]
  },
  {
   "cell_type": "code",
   "execution_count": 119,
   "metadata": {},
   "outputs": [
    {
     "name": "stdout",
     "output_type": "stream",
     "text": [
      "29 * 0 = 0\n",
      "29 * 1 = 29\n",
      "29 * 2 = 58\n",
      "29 * 3 = 87\n",
      "29 * 4 = 116\n",
      "29 * 5 = 145\n",
      "29 * 6 = 174\n",
      "29 * 7 = 203\n",
      "29 * 8 = 232\n",
      "29 * 9 = 261\n"
     ]
    }
   ],
   "source": [
    "number = 29\n",
    "for factor in range(10):\n",
    "    print(str(number) + ' * ' + str(factor) + ' = ' + str(number*factor))"
   ]
  },
  {
   "cell_type": "markdown",
   "metadata": {},
   "source": [
    "*Write a program to check whether any number is prime or not*. **A number is prime if it is divisible only by 1 and itself.**  **(Do in Class 4)**"
   ]
  },
  {
   "cell_type": "code",
   "execution_count": 131,
   "metadata": {},
   "outputs": [
    {
     "name": "stdin",
     "output_type": "stream",
     "text": [
      "Enter a number to check : 3\n"
     ]
    },
    {
     "name": "stdout",
     "output_type": "stream",
     "text": [
      "1 3\n",
      "2 3\n",
      "Prime\n"
     ]
    }
   ],
   "source": [
    "#Rohan's suggested solution:\n",
    "\n",
    "number = int(input('Enter a number to check :'))\n",
    "counter = 0\n",
    "for i in range(1,number+1):\n",
    "     if(number%i==0):\n",
    "         counter += 1\n",
    "         print(counter, number) # just for me to keep track\n",
    "if(counter==2):\n",
    "     print('Prime')\n",
    "else:\n",
    "     print('Sorry, not a prime!')      \n"
   ]
  },
  {
   "cell_type": "code",
   "execution_count": 133,
   "metadata": {},
   "outputs": [
    {
     "name": "stdout",
     "output_type": "stream",
     "text": [
      "9 is not a prime number\n",
      "3 times 3 is 9\n"
     ]
    }
   ],
   "source": [
    "# An online solution, works - eg 3 is a prime number, 9 is not: \n",
    "\n",
    "# Program to check if a number is prime or not\n",
    "num = 9\n",
    "# To take input from the user\n",
    "#num = int(input(\"Enter a number: \"))\n",
    "# prime numbers are greater than 1\n",
    "if num > 1:\n",
    "   # check for factors\n",
    "   for i in range(2,num):\n",
    "       if (num % i) == 0:\n",
    "           print(num,\"is not a prime number\")\n",
    "           print(i,\"times\",num//i,\"is\",num)\n",
    "           break\n",
    "   else:\n",
    "       print(num,\"is a prime number\")\n",
    "       \n",
    "# if input number is less than\n",
    "# or equal to 1, it is not prime\n",
    "else:\n",
    "   print(num,\"is not a prime number\")"
   ]
  },
  {
   "cell_type": "markdown",
   "metadata": {},
   "source": [
    "## Nested Loops"
   ]
  },
  {
   "cell_type": "markdown",
   "metadata": {},
   "source": [
    "A **nested loop** is a loop inside a loop."
   ]
  },
  {
   "cell_type": "code",
   "execution_count": 135,
   "metadata": {},
   "outputs": [],
   "source": [
    "# You go to a car showroom and find it has the following cars with these color options\n",
    "cars = ['Mercedes AMG GT','Ford GT','Audi R8']\n",
    "colors = ['black', 'blue', 'red', 'yellow']"
   ]
  },
  {
   "cell_type": "markdown",
   "metadata": {},
   "source": [
    "*Write a program to print all the combinations of car and color available in the showroom.*"
   ]
  },
  {
   "cell_type": "code",
   "execution_count": 140,
   "metadata": {},
   "outputs": [
    {
     "name": "stdout",
     "output_type": "stream",
     "text": [
      "black Mercedes AMG GT, blue Mercedes AMG GT, red Mercedes AMG GT, yellow Mercedes AMG GT, \n",
      "black Ford GT, blue Ford GT, red Ford GT, yellow Ford GT, \n",
      "black Audi R8, blue Audi R8, red Audi R8, yellow Audi R8, \n"
     ]
    }
   ],
   "source": [
    "for car in cars:\n",
    "    for color in colors:\n",
    "        print( color + ' ' + car, end=', ')\n",
    "    print('') # to go the next line"
   ]
  },
  {
   "cell_type": "markdown",
   "metadata": {},
   "source": [
    "\n",
    "***Write a program** to print all the triplets having sum less than 15 and their sum is a factor of 6. A triplet is a combination of three numbers, for example `1 1 4`,`3 1 2`,`2 2 2` . Assume that each number is between 1 and 20.*"
   ]
  },
  {
   "cell_type": "code",
   "execution_count": 147,
   "metadata": {},
   "outputs": [
    {
     "name": "stdout",
     "output_type": "stream",
     "text": [
      "1 1 4\t1 1 10\t1 2 3\t1 2 9\t1 3 2\t1 3 8\t1 4 1\t1 4 7\t1 5 6\t1 6 5\t1 7 4\t1 8 3\t1 9 2\t1 10 1\t2 1 3\t2 1 9\t2 2 2\t2 2 8\t2 3 1\t2 3 7\t2 4 6\t2 5 5\t2 6 4\t2 7 3\t2 8 2\t2 9 1\t3 1 2\t3 1 8\t3 2 1\t3 2 7\t3 3 6\t3 4 5\t3 5 4\t3 6 3\t3 7 2\t3 8 1\t4 1 1\t4 1 7\t4 2 6\t4 3 5\t4 4 4\t4 5 3\t4 6 2\t4 7 1\t5 1 6\t5 2 5\t5 3 4\t5 4 3\t5 5 2\t5 6 1\t6 1 5\t6 2 4\t6 3 3\t6 4 2\t6 5 1\t7 1 4\t7 2 3\t7 3 2\t7 4 1\t8 1 3\t8 2 2\t8 3 1\t9 1 2\t9 2 1\t10 1 1\t"
     ]
    }
   ],
   "source": [
    "# Rohan's suggested solution:\n",
    "\n",
    "for x in range(1,21):\n",
    "    for y in range(1,21):\n",
    "        for z in range(1,21):\n",
    "            if((x+y+z)<15 and (x+y+z)%6==0):\n",
    "                print(x,y,z, end='\\t')\n",
    "\n",
    "\n",
    "# Rohan: this is just for you to try nested loops.\n",
    "\n"
   ]
  },
  {
   "cell_type": "code",
   "execution_count": null,
   "metadata": {},
   "outputs": [],
   "source": []
  }
 ],
 "metadata": {
  "kernelspec": {
   "display_name": "Python 3",
   "language": "python",
   "name": "python3"
  },
  "language_info": {
   "codemirror_mode": {
    "name": "ipython",
    "version": 3
   },
   "file_extension": ".py",
   "mimetype": "text/x-python",
   "name": "python",
   "nbconvert_exporter": "python",
   "pygments_lexer": "ipython3",
   "version": "3.7.3"
  }
 },
 "nbformat": 4,
 "nbformat_minor": 4
}
