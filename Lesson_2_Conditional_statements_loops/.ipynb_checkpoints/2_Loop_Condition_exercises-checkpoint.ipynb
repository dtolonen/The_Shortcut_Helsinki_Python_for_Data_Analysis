{
 "cells": [
  {
   "cell_type": "markdown",
   "metadata": {},
   "source": [
    "### 2 Loop Condition - assignments "
   ]
  },
  {
   "cell_type": "markdown",
   "metadata": {},
   "source": [
    "<br/>\n",
    "\n",
    "**Assignment 1** *Write a program to print the following pattern. (Optional)*\n"
   ]
  },
  {
   "cell_type": "markdown",
   "metadata": {},
   "source": [
    "-------------\n",
    "  "
   ]
  },
  {
   "cell_type": "markdown",
   "metadata": {},
   "source": [
    "**Rohan: Examples of looping to create patterns**"
   ]
  },
  {
   "cell_type": "code",
   "execution_count": 3,
   "metadata": {},
   "outputs": [
    {
     "name": "stdout",
     "output_type": "stream",
     "text": [
      "****\n"
     ]
    }
   ],
   "source": [
    "# Rohan: print a row of asterisks\n",
    "\n",
    "print('*'*4)"
   ]
  },
  {
   "cell_type": "code",
   "execution_count": 2,
   "metadata": {},
   "outputs": [
    {
     "name": "stdout",
     "output_type": "stream",
     "text": [
      "* * * * * * * \n",
      "  * * * * *   \n",
      "    * * *     \n",
      "      *       \n"
     ]
    }
   ],
   "source": [
    "# Rohan: print an upside down pyramid of asterisks\n",
    "\n",
    "st = 7\n",
    "sp = 0\n",
    "\n",
    "for i in range(4):\n",
    "    lead_spaces = ' ' * sp\n",
    "    stars = '* ' * st\n",
    "    trail_spaces = ' ' * sp\n",
    "    \n",
    "    print (lead_spaces + stars + trail_spaces)\n",
    "    \n",
    "    st = st - 2\n",
    "    sp = sp + 2"
   ]
  },
  {
   "cell_type": "code",
   "execution_count": 21,
   "metadata": {},
   "outputs": [
    {
     "name": "stdout",
     "output_type": "stream",
     "text": [
      "        5 \n",
      "      5 4 \n",
      "    5 4 3 \n",
      "  5 4 3 2 \n",
      "5 4 3 2 1 \n"
     ]
    }
   ],
   "source": [
    "# Rohan's original example for Pattern 4 - see all of his shapes, below. \n",
    "# Comments while working this out for myself.\n",
    "\n",
    "for i in range(1,6): # Create 5 iterations (this + print on line 3 alone would just print 1 2 3 4 5)\n",
    "    for k in range(5-i): # Create iterations: 5-current iteration number ie i\n",
    "        print(' ',end=' ') # print end=' ', instead of Python default newline.\n",
    "        \n",
    "        # It this were print('a'), these 3 lines \n",
    "        # would print 10 letters a as follows: \n",
    "        # you'd establish i = 1 and enter the k loop,\n",
    "        # where you'd repeat the print('a') loop to \n",
    "        # print 3 as, then i becomes i = 2 and k, which \n",
    "        # has iterated to k = 3, would return to k=0, \n",
    "        # and you'd move to the top i loop again, only\n",
    "        # to re-enter the k loop.\n",
    "        # Then, you'd do the same but printing 2 letters a,\n",
    "        # i becomes i = 3, k from k = 2 to k = 0, visiting\n",
    "        # the i loop and re-entering the k loop.\n",
    "        # Then, again, printing 1 letter a, now i = 4 and \n",
    "        # k = from k = 1 to k = 0.\n",
    "        # Finally, i = 5 and k becomes k = 0 and both loops \n",
    "        # would be finished.\n",
    "        # Now, in Rohan's example, we still have the below.\n",
    "\n",
    "        # The below part needs the first i loop line. \n",
    "        # Commenting out the k loop+print lines to see\n",
    "        # what the below line does. \n",
    "        # Also commenting out the num variable and \n",
    "        # changing each num mention to i, we see that the \n",
    "        # j loop creates \n",
    "        \n",
    "    num = 5\n",
    "    for j in range(i): # Create i iterations (ie is 5, from above)\n",
    "        print(num,end=' ') # changed to i, prints '1' alone\n",
    "        num = num - 1 \n",
    "        # as we run through the j loop, we print a triangle of\n",
    "        # five lines: 1, 1 2, 1 2 3, 1 2 3 4, 1 2 3 4 5.\n",
    "    print('')\n",
    "    \n",
    "        # Together, these three loops create a triangle of\n",
    "        # five lines: 5, 5 4, 5 4 3, 5 4 3 2, 5 4 3 2 1.\n",
    "    \n",
    "        # So, does every whole iteration of the 3 loops print one line, then, \n",
    "        # so 5 iterations gives you the original five lines of numbers?"
   ]
  },
  {
   "cell_type": "code",
   "execution_count": 23,
   "metadata": {},
   "outputs": [
    {
     "name": "stdout",
     "output_type": "stream",
     "text": [
      "1 2 3 4 5 \n",
      "1 2 3 4 \n",
      "1 2 3 \n",
      "1 2 \n",
      "1 \n"
     ]
    }
   ],
   "source": [
    "# Toni's help for pattern 1, similar but uses negative steps?\n",
    "\n",
    "rows = 5\n",
    "for i in range (rows,0,-1): # start: rows ie 5, end 0, step: -1\n",
    "    for j in range(1, i + 1):\n",
    "        print(j, end=' ')\n",
    "        \n",
    "    print('\\r') # Carriage return: without this line, prints one line\n",
    "\n"
   ]
  },
  {
   "cell_type": "code",
   "execution_count": 52,
   "metadata": {},
   "outputs": [
    {
     "name": "stdout",
     "output_type": "stream",
     "text": [
      "\n",
      "------------------\n",
      "\n",
      "1 2 3 4 5 \n",
      "1 2 3 4 \n",
      "1 2 3 \n",
      "1 2 \n",
      "1 \n"
     ]
    }
   ],
   "source": [
    "# Rohan's suggested whole solution for Assignment 1:\n",
    "\n",
    "# Rohan's pattern 1\n",
    "# \n",
    "# 1 2 3 4 5\n",
    "# 1 2 3 4\n",
    "# 1 2 3\n",
    "# 1 2\n",
    "# 1\n",
    "\n",
    "\n",
    "print()\n",
    "print('------------------')\n",
    "print()\n",
    "\n",
    "for i in range(5):\n",
    "    for j in range(5-i):\n",
    "        print(j+1,end=' ')\n",
    "    print()\n",
    "\n",
    "    \n",
    "\n",
    "   "
   ]
  },
  {
   "cell_type": "code",
   "execution_count": 38,
   "metadata": {},
   "outputs": [
    {
     "name": "stdout",
     "output_type": "stream",
     "text": [
      "1 2 3 4 5 \n",
      "  1 2 3 4 \n",
      "    1 2 3 \n",
      "      1 2 \n",
      "        1 \n",
      "\n",
      "------------------\n",
      "\n"
     ]
    }
   ],
   "source": [
    "# Rohan's pattern 2\n",
    "\n",
    "# 1 2 3 4 5\n",
    "#  1 2 3 4\n",
    "#    1 2 3\n",
    "#      1 2\n",
    "#        1\n",
    "\n",
    "\n",
    "for i in range(5):\n",
    "    for k in range(i):\n",
    "        print(' ',end=' ')\n",
    "    for j in range(5-i):\n",
    "        print(j+1,end=' ')\n",
    "    print()\n"
   ]
  },
  {
   "cell_type": "code",
   "execution_count": 51,
   "metadata": {},
   "outputs": [
    {
     "name": "stdout",
     "output_type": "stream",
     "text": [
      "1 \n",
      "1 2 \n",
      "1 2 3 \n",
      "1 2 3 4 \n",
      "1 2 3 4 5 \n"
     ]
    }
   ],
   "source": [
    "# Rohan's pattern 3\n",
    "\n",
    "# 1\n",
    "# 1 2\n",
    "# 1 2 3\n",
    "# 1 2 3 4\n",
    "# 1 2 3 4 5\n",
    "\n",
    "\n",
    "for i in range(5):\n",
    "    for j in range(i+1):\n",
    "        print(j+1,end=' ')\n",
    "    print()\n",
    "   "
   ]
  },
  {
   "cell_type": "code",
   "execution_count": 43,
   "metadata": {},
   "outputs": [
    {
     "name": "stdout",
     "output_type": "stream",
     "text": [
      "        5 \n",
      "      5 4 \n",
      "    5 4 3 \n",
      "  5 4 3 2 \n",
      "5 4 3 2 1 \n",
      "\n",
      "------------------\n",
      "\n"
     ]
    }
   ],
   "source": [
    "# Rohan's pattern 4   \n",
    "\n",
    "#          5\n",
    "#        4 5\n",
    "#      3 4 5\n",
    "#    2 3 4 5\n",
    "#  1 2 3 4 5\n",
    "           \n",
    "           \n",
    "for i in range(1,6):\n",
    "    for k in range(5-i):\n",
    "        print(' ',end=' ')\n",
    "    num = 5\n",
    "    for j in range(i):\n",
    "        print(num,end=' ')\n",
    "        num = num - 1\n",
    "    print('')\n",
    "    \n"
   ]
  },
  {
   "cell_type": "code",
   "execution_count": 44,
   "metadata": {},
   "outputs": [
    {
     "name": "stdout",
     "output_type": "stream",
     "text": [
      "* * * * * * * \n",
      "  * * * * *   \n",
      "    * * *     \n",
      "      *       \n",
      "\n",
      "------------------\n",
      "\n"
     ]
    }
   ],
   "source": [
    "        \n",
    "# Rohan's pattern 5\n",
    "\n",
    "# * * * * * * *\n",
    "#  * * * * *\n",
    "#    * * *\n",
    "#      *\n",
    "\n",
    "\n",
    "t = 7\n",
    "for i in range(4):\n",
    "    for x in range(i):\n",
    "        print(' ',end=' ')    \n",
    "    for y in range(t):\n",
    "        print('*',end=' ')\n",
    "    for z in range(i):\n",
    "        print(' ',end=' ')\n",
    "    print()\n",
    "    t = t - 2\n",
    "\n"
   ]
  },
  {
   "cell_type": "code",
   "execution_count": 50,
   "metadata": {},
   "outputs": [
    {
     "name": "stdout",
     "output_type": "stream",
     "text": [
      "*           \n",
      "* *         \n",
      "* * *       \n",
      "* * * *     \n",
      "* * * * *   \n",
      "* * * * \n",
      "* * *   \n",
      "* *     \n",
      "*       \n"
     ]
    }
   ],
   "source": [
    "# Rohan's pattern 6\n",
    "\n",
    "#    * \n",
    "#   * * \n",
    "#   * * * \n",
    "#   * * * * \n",
    "#   * * * * *\n",
    "#   * * * *\n",
    "#   * * * \n",
    "#   * * \n",
    "#   *\n",
    "  \n",
    "\n",
    "# Top half of the shape\n",
    "for i in range(5):\n",
    "    for j in range(i+1):\n",
    "        print('*', end=' ')\n",
    "    for k in range(5-i):\n",
    "        print(' ', end=' ')\n",
    "    print()\n",
    "    \n",
    "# Bottom half of the shape\n",
    "for i in range(4):\n",
    "    for j in range(4-i):\n",
    "        print('*', end=' ')\n",
    "    for k in range(i):\n",
    "        print(' ', end=' ')\n",
    "    print()\n",
    "  "
   ]
  },
  {
   "cell_type": "markdown",
   "metadata": {},
   "source": [
    "-------------\n",
    "  "
   ]
  },
  {
   "cell_type": "markdown",
   "metadata": {},
   "source": [
    "**Assignment 2** *Write a program to find length of a string without using len() function.*"
   ]
  },
  {
   "cell_type": "code",
   "execution_count": 2,
   "metadata": {},
   "outputs": [
    {
     "name": "stdout",
     "output_type": "stream",
     "text": [
      "19\n"
     ]
    }
   ],
   "source": [
    "# Rohan's suggested solution: \n",
    "\n",
    "# X = input('Enter any string! :')\n",
    "# length = 0\n",
    "# for i in X:\n",
    "#     length = length + 1\n",
    "# print(length)\n",
    "\n",
    "\n",
    "example = 'The quick brown fox'\n",
    "\n",
    "count = 0\n",
    "for i in example:\n",
    "    count += 1 # NB the += is the same as count = count + 1 like in C.)\n",
    "print(count)\n"
   ]
  },
  {
   "cell_type": "markdown",
   "metadata": {},
   "source": [
    "**Assignment 3** *Write a program to check if 2 strings are anagrams or not.* *(Google, what's an anagram? 'a word, phrase, or name formed by rearranging the letters of another, such as spar, formed from rasp.')*\n",
    "\n",
    "For example, <br/>\n",
    "`tac is anagram of cat`<br/>\n",
    "`taac is not anagram of cat`\n",
    "\n",
    "(Optional)"
   ]
  },
  {
   "cell_type": "code",
   "execution_count": null,
   "metadata": {},
   "outputs": [],
   "source": [
    "# Rohan's suggested solution:\n",
    "\n",
    "\n",
    "# word1 = input('Enter a word1 ! :')\n",
    "# word2 = input('Enter a word to check if it is anagram of word1 :')\n",
    "# \n",
    "# # Method 1\n",
    "# if(sorted(word1)==sorted(word2)):\n",
    "#     print('Anagram')\n",
    "# else:\n",
    "#     print('Sorry!')\n",
    "#     \n",
    "# # Logic is that both the words will have same number of each alphabet\n",
    "# # aab and aba is anagram because it has 2 a and 1 b\n",
    "# # aa and aab is not anagram because aa does not have any b\n",
    "\n",
    "\n",
    "\n",
    "\n",
    "\n",
    "#-----------------------------\n",
    "\n",
    "\n",
    "# User input version:\n",
    "# string1=input(\"enter first string:\")\n",
    "# string2=input(\"enter second string:\")\n",
    "\n",
    "string1=\"otto\"\n",
    "string2=\"otto\"\n",
    "\n",
    "if(string1==string2[::-1]): \n",
    "    \n",
    "# research - word[:: – 1] returns the string in reverse order\n",
    "# https://docs.python.org/2.3/whatsnew/section-slices.html\n",
    "# https://www.w3schools.com/python/python_strings.asp\n",
    "\n",
    "    print(\"it's an anagram\")\n",
    "else:\n",
    "    print(\"it's not\")"
   ]
  },
  {
   "cell_type": "markdown",
   "metadata": {},
   "source": [
    "**Assignment 4** *Write a program to check if 2 strings are palindrome or not.* *Google, what's an palindrome? 'a word, phrase, or sequence that reads the same backwards as forwards, e.g. madam or nurses run.')*\n",
    "\n",
    "For example, <br/>\n",
    "`madam is palindrome.`<br/>\n",
    "`caac is palindrome.`\n",
    "\n",
    "(Optional)"
   ]
  },
  {
   "cell_type": "code",
   "execution_count": null,
   "metadata": {},
   "outputs": [],
   "source": [
    "# Rohan's suggested solution: \n",
    "\n",
    "\n",
    "# word = input('Enter a word to check for palindrome ! :')\n",
    "# \n",
    "# #because word can be treated as list just reverse it or use string function\n",
    "# \n",
    "# if(word==word[::-1]):\n",
    "#     print('Palindrome')\n",
    "# else:\n",
    "#     print('Sorry')\n",
    "#     \n",
    "# '''\n",
    "# Or you can compare the first and last position keep moving towards middle\n",
    "# If mismatch occurs -> not palindrome\n",
    "# else -> print palindrome\n",
    "# \n",
    "# def Palindrome():\n",
    "#     word = input('Enter a word to check for palindrome ! :')\n",
    "#     for i in range(len(word)/2):\n",
    "#         if(word[i] != word[len(word)-1-i]):\n",
    "#             return('Sorry')\n",
    "#         else:\n",
    "#             pass\n",
    "#     return('Palindrome')\n",
    "#    \n",
    "# \n",
    "# '''\n",
    "\n",
    "\n",
    "#---------------------------\n",
    "\n",
    "\n",
    "\n",
    "# just noticed this says 'two strings,' too, oh well!\n",
    "\n",
    "word = \"madam\" # try misspelling this word\n",
    "\n",
    "if(word == word[:: - 1]):\n",
    "    \n",
    "# research - word[:: – 1] returns the string in reverse order\n",
    "# https://docs.python.org/2.3/whatsnew/section-slices.html\n",
    "# https://www.w3schools.com/python/python_strings.asp\n",
    "\n",
    "    print(word + \" is a palindrome\")\n",
    "else:\n",
    "    print(word + \" is not a palindrome\")"
   ]
  },
  {
   "cell_type": "code",
   "execution_count": null,
   "metadata": {},
   "outputs": [],
   "source": [
    "# Rohan's suggested solution: \n",
    "\n",
    "# # Method to reverse string\n",
    "# for i in range(len(word)/2):\n",
    "#     a = word[i]\n",
    "#     word[i] = word[len(word)-1-i]\n",
    "#     word[len(word)-1-i] = a\n",
    "#     \n",
    "#     # Another python way of swapping \n",
    "#     # word[i], word[len(word)-1-i] = word[len(word)-1-i], word[i]\n",
    "\n",
    "#----------------------"
   ]
  },
  {
   "cell_type": "markdown",
   "metadata": {},
   "source": [
    "__Assignment 5__ *Write a program to print the fibonacci sequence till 100.* *Fibonacci sequence - each number ('term') is the sum of the two preceding ones, starting from 0 and 1.*"
   ]
  },
  {
   "cell_type": "code",
   "execution_count": null,
   "metadata": {},
   "outputs": [],
   "source": [
    "# Rohan's suggested solution. \n",
    "\n",
    "# a = 0\n",
    "# b = 1\n",
    "# print(a, end= ' ')\n",
    "# print(b, end= ' ')\n",
    "# c = a+b\n",
    "# while(c<100):\n",
    "#     print(c, end= ' ')\n",
    "#     a = b\n",
    "#     b = c\n",
    "#     c = a+b\n",
    "# \n",
    "\n",
    "\n",
    "#--------------------\n",
    "\n",
    "\n",
    "# User input version: \n",
    "number_of_terms = int(input(\"How many terms? \"))\n",
    "# number_of_terms = 100\n",
    "\n",
    "# 0 and 1, the first two terms\n",
    "first_term, second_term = 0, 1 \n",
    "count = 0 \n",
    "\n",
    "# nifty oneline version of the same two vars on two lines, like here: \n",
    "# first_term = 0 \n",
    "# second_term = 1 \n",
    "\n",
    "\n",
    "# Check the terms for validity\n",
    "if number_of_terms <= 0:\n",
    "   print(\"Must be a positive integer\")\n",
    "\n",
    "elif number_of_terms == 1:\n",
    "   print(\"The Fibonacci sequence is:\")\n",
    "   print(first_term)\n",
    "    \n",
    "else:\n",
    "   print(\"The Fibonacci sequence is:\")\n",
    "\n",
    "   while count < number_of_terms:\n",
    "       print(first_term)\n",
    "       following_terms = first_term + second_term\n",
    "        \n",
    "        \n",
    "       # swap values\n",
    "       first_term = second_term\n",
    "       second_term = following_terms\n",
    "       count += 1"
   ]
  },
  {
   "cell_type": "markdown",
   "metadata": {},
   "source": [
    "**Assignment 6** *Write a program to check whether a number is armstrong number (aka Narcissistic number) or not. For example:*\n",
    "\n",
    "  1\\*1\\*1 + 5\\*5\\*5 + 3\\*3\\*3 = 153 <br/>\n",
    "  1\\*1\\*1\\*1 + 6\\*6\\*6\\*6 + 3\\*3\\*3\\*3 + 4\\*4\\*4\\*4 = 1634\n",
    "  \n",
    "  Sum of each digit in the number raised to the power of total number of digits is equal to number itself."
   ]
  },
  {
   "cell_type": "code",
   "execution_count": null,
   "metadata": {},
   "outputs": [],
   "source": [
    "# Rohan's suggested solution: \n",
    "\n",
    "# number = input('Enter the number :')\n",
    "# original_number = int(number)\n",
    "# new_number = 0\n",
    "# for digit in number:\n",
    "#     new_number = new_number + int(digit)**3\n",
    "# \n",
    "# if(new_number==original_number):\n",
    "#     print('Armstrong number')\n",
    "# else:\n",
    "#     print('Sorry')\n",
    "    \n",
    "\n",
    "\n",
    "#------------\n",
    "\n",
    "# RETURN TO THIS ONE, WORKS BUT FROM INTERWEBS!\n",
    "\n",
    "# User input version\n",
    "num = int(input(\"Enter a number: \"))\n",
    "\n",
    "#num = 1634\n",
    "\n",
    "\n",
    "# Changed num variable to string, \n",
    "# and calculated the length (number of digits)\n",
    "order = len(str(num))\n",
    "\n",
    "# initialize sum\n",
    "sum = 0\n",
    "\n",
    "# find the sum of the cube of each digit\n",
    "temp = num\n",
    "while temp > 0:\n",
    "   digit = temp % 10\n",
    "   sum += digit ** order\n",
    "   temp //= 10\n",
    "\n",
    "# display the result\n",
    "if num == sum:\n",
    "   print(num,\"is an Armstrong number\")\n",
    "else:\n",
    "   print(num,\"is not an Armstrong number\")"
   ]
  },
  {
   "cell_type": "markdown",
   "metadata": {},
   "source": [
    "**Assignment 7** *Write a program to find factorial of a number.*"
   ]
  },
  {
   "cell_type": "code",
   "execution_count": null,
   "metadata": {},
   "outputs": [],
   "source": [
    "# Rohan's suggested solution: \n",
    "\n",
    "# number = int(input('Enter the number :'))\n",
    "# factorial = 1\n",
    "# for i in range(1,number+1):\n",
    "#     factorial = factorial * i\n",
    "# print(factorial)\n",
    "\n",
    "\n",
    "#---------------------\n",
    "\n",
    "\n",
    "\n",
    "\n",
    "\n",
    "\n",
    "# Factorial aka  n! = n * (n-1) * (n-2) * ... 1\n",
    "# Eg factorial of 6 aka 6! is 6*5*4*3*2*1 = 720\n",
    "\n",
    "num = int(input('Give me a number:'))\n",
    "\n",
    "factorial = 1 \n",
    "# without this line, 6 returns not 720, but 518400!\n",
    "\n",
    "# negative, positive or zero?\n",
    "if num < 0:\n",
    "   print(\"Error: factorial must be a positive integer\")\n",
    "elif num == 0:\n",
    "   print(\"Maths extravaganza: The factorial of 0 is 1!\")\n",
    "else:\n",
    "   for i in range(1, num + 1): # need to study this and next line\n",
    "       factorial = factorial*i\n",
    "   print(\"The factorial of\", num, \"is\", factorial)\n"
   ]
  },
  {
   "cell_type": "markdown",
   "metadata": {},
   "source": [
    "**Assignment 8** *Write a program to return the of pair of numbers that equal a given sum k in a list.* For example,\n",
    "\n",
    "**Testcase**<br/>\n",
    "`list1 = [3,8,4,9,2,6,5]`<br/>\n",
    "`k = 11`<br/>\n",
    "**Answer**<br/>\n",
    "`3 8`<br/>\n",
    "`6 5`<br/>\n",
    "`9 2`<br/>\n",
    "\n",
    "**(Optional)**"
   ]
  },
  {
   "cell_type": "code",
   "execution_count": null,
   "metadata": {},
   "outputs": [],
   "source": [
    "# Rohan's suggested solution for Assignment 8:\n",
    "# \n",
    "# list1 = [3,8,4,9,2,6,5]\n",
    "# k = 11\n",
    "# l = len(list1)\n",
    "# for x in range(l-1):\n",
    "#     for y in range(x,l):\n",
    "#         if((list1[x]+list1[y])==k):\n",
    "#             print(list1[x],list1[y])\n",
    "#             \n",
    "# -----------------------"
   ]
  }
 ],
 "metadata": {
  "kernelspec": {
   "display_name": "Python 3",
   "language": "python",
   "name": "python3"
  },
  "language_info": {
   "codemirror_mode": {
    "name": "ipython",
    "version": 3
   },
   "file_extension": ".py",
   "mimetype": "text/x-python",
   "name": "python",
   "nbconvert_exporter": "python",
   "pygments_lexer": "ipython3",
   "version": "3.7.3"
  }
 },
 "nbformat": 4,
 "nbformat_minor": 4
}
