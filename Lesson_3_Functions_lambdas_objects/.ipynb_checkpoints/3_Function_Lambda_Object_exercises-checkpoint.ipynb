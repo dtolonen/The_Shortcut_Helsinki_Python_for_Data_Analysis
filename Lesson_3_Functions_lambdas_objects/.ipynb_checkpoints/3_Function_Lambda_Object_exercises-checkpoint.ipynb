{
 "cells": [
  {
   "cell_type": "markdown",
   "metadata": {},
   "source": [
    "### 3 Function, Lambda, Object - exercises"
   ]
  },
  {
   "cell_type": "markdown",
   "metadata": {
    "colab_type": "text",
    "id": "t71EAYHqwy2I"
   },
   "source": [
    "1 - Define a function max() that takes two numbers as arguments and returns the largest of them. \n",
    "* Use the if-then-else construct available in Python. (It is true that Python has the max() function built in, but writing it yourself is nevertheless a good exercise.)"
   ]
  },
  {
   "cell_type": "code",
   "execution_count": null,
   "metadata": {
    "colab": {},
    "colab_type": "code",
    "id": "PJhtQV3sxQWR"
   },
   "outputs": [],
   "source": [
    "#Son's solution \n",
    "# def my_max(a,b):\n",
    "#   if a > b:\n",
    "#     return a\n",
    "#   elif b > a: \n",
    "#     return b\n",
    "#   else:\n",
    "#     return None\n",
    "#-----------\n",
    "\n",
    "#test\n",
    "print(my_max(3, 5))\n",
    "print(my_max(10, 6))\n",
    "\n",
    "\n",
    "#Your solution goes here\n",
    "\n",
    "# My first half-attempt in class:\n",
    "\n",
    "#number1 = int(input(\"Please give a number: \"))\n",
    "#number2 = int(input(\"Please give another number: \"))\n",
    "#\n",
    "#\n",
    "#def max(number1, number2)\n",
    "#    \n",
    "#\n",
    "#if (number1 > number2)\n",
    "#    \n",
    "#else\n",
    "#\n",
    "#return\n",
    "\n",
    "\n",
    "#online 'conditional expression' version on two lines\n",
    "# from Stackoverflow (see PDF), also uses print lines\n",
    "# at the bottom: \n",
    "\n",
    "#def max(a, b):\n",
    "#    return a if a > b else b\n",
    "\n",
    "#\" Since the function just returns the biggest value, \n",
    "#you might want to print the result yourself, like this\n",
    "#print max(1, 2)\n",
    "#Or if you are using Python 3.x, then print is not a statement, \n",
    "#but a function. So, it has to be called like this\n",
    "#print(max(1, 2))\"\n",
    "\n",
    "# So, would my version below be it as \n",
    "# a normal function with if-else?\n",
    "\n",
    "def max(a,b):\n",
    "    if a > b:\n",
    "        return a\n",
    "    \n",
    "    else:\n",
    "        return b\n",
    "        \n",
    "#test 'driver code'\n",
    "print(max(1, 2))\n",
    "#print(max(10, 6))\n"
   ]
  },
  {
   "cell_type": "markdown",
   "metadata": {
    "colab_type": "text",
    "id": "6DsTmtHdxVPM"
   },
   "source": [
    "2 - Calculate the amount obtained by investing the principal (P) for (N) years at the rate of (R). The following formula is used for the conversion:\n",
    "\n",
    "\n",
    "```\n",
    " A = P * (1 + R) ^ N\n",
    "```\n",
    "\n",
    "(**Investopedia**: \"The principal is a term that has several financial meanings. The most commonly used refers to the original sum of money borrowed in a loan or put into an investment. Similar to the former, it can also refer to the face value of a bond.\")\n",
    "\n",
    "(Toni: \"isn't this very similar to Lecture 1's investment exercise of future value etc.?\")\n"
   ]
  },
  {
   "cell_type": "code",
   "execution_count": null,
   "metadata": {
    "colab": {},
    "colab_type": "code",
    "id": "GQaFNnMkx-E1"
   },
   "outputs": [],
   "source": [
    "#Son's solution \n",
    "# def compound_interest(p, r, n):\n",
    "#     return p * (1 + r) ** n\n",
    "# \n",
    "# principal = 1000\n",
    "# rate = 0.1\n",
    "# years = 2\n",
    "# \n",
    "# interest = compound_interest(principal, rate, years)\n",
    "# \n",
    "# print(interest)\n",
    "#-------------\n",
    "\n",
    "\n",
    "#Your solution goes here\n",
    "\n",
    "\n",
    "\n",
    "P = int(input(\"What is your principal amount?\"))\n",
    "R = 0.02 # just the rate from Lecture 1\n",
    "N = int(input(\"Please enter the years?\")) # number of years for investment\n",
    "\n",
    "A = P * ((1 + R)**N)\n",
    "\n",
    "print(A)\n",
    "#Toni (also got 110): this is possible in addition to using the string {:.2f} thing \n",
    "# in Lecture 1. So, you can use 'round': print(round(A))\n",
    "\n",
    "# Hmm. So, this pretty much follows what I did in the investment ex in Lecture 1,\n",
    "# but the same investopedia.com calculator makes this 100.10 \n",
    "# (using 100 and 5 years and 0.02 rate)..."
   ]
  },
  {
   "cell_type": "markdown",
   "metadata": {
    "colab_type": "text",
    "id": "KAuIfbdtzUC1"
   },
   "source": [
    "3 - Let’s define a list of words: list_words = ['japan','uk', 'australia', 'finland', 'denmark', 'sweden']\n",
    "\n",
    "* Use a map function to print the number of character of each word:\n",
    "\n",
    "\n",
    "\n"
   ]
  },
  {
   "cell_type": "code",
   "execution_count": null,
   "metadata": {
    "colab": {},
    "colab_type": "code",
    "id": "IX46kbzdzlDn"
   },
   "outputs": [],
   "source": [
    "#Son's solution\n",
    "\n",
    "# def num_of_each_word(words) :\n",
    "#   result = list(map(len, words))\n",
    "#   return result \n",
    "# list_words = ['japan', 'uk', 'australia', 'finland', 'denmark', 'sweden']\n",
    "# num_of_each_word(list_words) \n",
    "#---------------\n",
    "\n",
    "\n",
    "\n",
    "\n",
    "\n",
    "#Your solution goes here\n",
    "\n",
    "# list_words = ['japan', 'uk', 'australia' , 'finland', 'denmark', 'sweden']\n",
    "# print(map(len , list_words))\n",
    "# Wrong, and this returned: <map object at 0x10c667358>\n",
    "    \n",
    "# New version, with online help:    \n",
    "# def count(word):\n",
    "#     len(word)\n",
    "    \n",
    "list_words = list(map(len, ['japan', 'uk', 'australia' , 'finland', 'denmark', 'sweden']))\n",
    "print(list_words)\n",
    "\n",
    "# A lot of trial and error as I don't know what I'm doing, \n",
    "#didn't work at first when I had 'count' after list_words = list(map(\n",
    "# And! That function definition is completely unnecessary, as everything works commented out. "
   ]
  },
  {
   "cell_type": "markdown",
   "metadata": {
    "colab_type": "text",
    "id": "HjyczTsSzn9I"
   },
   "source": [
    "4 - A recipe you are reading states how many grams you need for the ingredient. Unfortunately, your store only sells items in ounces. Create a function to convert grams to ounces.\n",
    "ounces = 28.3495231 * grams\n",
    " "
   ]
  },
  {
   "cell_type": "code",
   "execution_count": null,
   "metadata": {
    "colab": {},
    "colab_type": "code",
    "id": "mfM2VTSw0ouc"
   },
   "outputs": [],
   "source": [
    "#Son's solution \n",
    "# def grams_to_ounces(x):\n",
    "# \treturn 28.3495231 * x\n",
    "# \n",
    "# grams = 10\n",
    "# ounces = grams_to_ounces(grams)\n",
    "# print(ounces)\n",
    "#---------------\n",
    "\n",
    "\n",
    "\n",
    "#Your solution goes here\n",
    "\n",
    "def gramsToOunces(): # things that confuse me include, 'why empty (), \n",
    "# need to fill it w/something?' NB Lecture 3's very first bit has \n",
    "# a function with empty (), and the next section's heading is\n",
    "# 'A function can have parameter(s)', with a function that has three parameters.\n",
    "    grams = int(input(\"Please enter weight in grams: \"))\n",
    "    ounces = grams * 0.035274 # not 28.3495231\n",
    "    print(f'{grams} ' + \"gram(s) is \" + f'{ounces} ' + \"ounces.\")\n",
    "gramsToOunces()\n",
    "# print(gramsToOunces) again, this resulted in: <function gramsToOunces at 0x10c57c488>\n",
    "\n",
    "# def ouncesToGrams():\n",
    "#     ounces = int(input(\"Please enter weight in ounces: \"))\n",
    "#     grams = ounces * 28.3495231 # not 0.035274\n",
    "#     print(f'{ounces} ' + \"ounce(s) is \" + f'{grams} ' + \"grams.\")\n",
    "# ouncesToGrams()\n",
    "\n",
    "# these functions seem to be freezing Jupyter so I have to restart the kernel..."
   ]
  },
  {
   "cell_type": "markdown",
   "metadata": {
    "colab_type": "text",
    "id": "aE6n2Cpw3qUk"
   },
   "source": [
    "5 - Given a list of fruits: ['orange', 'banana', 'apple', 'strawberries','cherry']. \n",
    "* Find the solution for expected output: ['ORANGE', 'BANANA', 'APPLE', 'STRAWBERRIES']\n",
    "* Apply upper()\n"
   ]
  },
  {
   "cell_type": "code",
   "execution_count": null,
   "metadata": {
    "colab": {},
    "colab_type": "code",
    "id": "votXqMq1362j"
   },
   "outputs": [],
   "source": [
    "\n",
    "#Son's solution\n",
    "# list_fruits = ['orange', 'banana', 'apple', 'strawberries','cherry']\n",
    "# \n",
    "# #Your solution goes here\n",
    "# result_list = list(map(lambda x: x.upper(), list_fruits))\n",
    "# print(result_list)\n",
    "#-------------\n",
    "\n",
    "\n",
    "\n",
    "\n",
    "list_fruits = ['orange', 'banana', 'apple', 'strawberries','cherry']\n",
    "#print(string.isupper())\n",
    "# print(string.upper())\n",
    "# \n",
    "# #Your solution goes here\n",
    "# \n",
    "# def to_upper_case(list_fruits):\n",
    "#   return str(list_fruits).upper()\n",
    "\n",
    "# RESEARCH THIS - IT WORKS, FROM THE INTERNET\n",
    "#my_list = ['india', 'america', 'china', 'korea']\n",
    "\n",
    "# def capitalize_list(item):\n",
    "#     return item.upper()\n",
    "\n",
    "#print(list(map(capitalize_list, my_list)))\n",
    "\n",
    "def make_uppercase(items_in_list):\n",
    "    return items_in_list.upper() # using upper (function?)\n",
    "\n",
    "print(list(map(make_uppercase, list_fruits)))\n",
    "\n",
    "# print(list) this alone returns: <class 'list'>\n",
    "# print(list(make_uppercase, list_fruits)) this alone returns:error\n"
   ]
  },
  {
   "cell_type": "markdown",
   "metadata": {
    "colab_type": "text",
    "id": "qwcujOeGTlB6"
   },
   "source": [
    "**Bonus Challenge**: Write a program to solve a classic puzzle: We count 35 heads and 94 legs among the chickens and rabbits in a farm. How many rabbits and how many chickens do we have?\n",
    "\n",
    "* Hint: Use a for loop to iterate all possible solutions."
   ]
  },
  {
   "cell_type": "code",
   "execution_count": 1,
   "metadata": {
    "colab": {},
    "colab_type": "code",
    "id": "g8efMPMqTswP"
   },
   "outputs": [
    {
     "name": "stdout",
     "output_type": "stream",
     "text": [
      "(23, 12)\n"
     ]
    }
   ],
   "source": [
    "#Son's solution \n",
    "\n",
    "# def solve(numheads, numlegs):\n",
    "#     #ns = 'No solutions!'\n",
    "#     for i in range(numheads + 1):\n",
    "#         j = numheads - i\n",
    "#         if 2 * i + 4 * j == numlegs:\n",
    "#             return i, j\n",
    "#     return ns,ns\n",
    "# \n",
    "# numheads = 35\n",
    "# numlegs = 94\n",
    "# solutions = solve(numheads, numlegs)\n",
    "# print(solutions)\n",
    "#-----------\n",
    "\n",
    "\n",
    "\n",
    "\n",
    "#Your solution goes here\n",
    "\n",
    "# animals (chickens, rabbits)\n",
    "# \n",
    "# 35 heads\n",
    "# 94 legs \n",
    "# \n",
    "# for i in animals()\n",
    "#     if \n",
    "#     \n",
    "# Answer = number ot chickens and rabbits\n",
    "\n",
    "\n",
    "\n",
    "# Online version that works:\n",
    "\n",
    "def solve(numheads,numlegs):\n",
    " \n",
    "     ns='No solutions!'\n",
    "     for i in range(numheads+1): \n",
    "\n",
    "# \"No animal has NO HEAD, \n",
    "#so you need +1, and programming starts from 0\"\n",
    "\n",
    "         j=numheads-i\n",
    "         if (2*i)+(4*j)==numlegs:\n",
    "             return i,j\n",
    "\n",
    "     return ns,ns\n",
    " \n",
    " \n",
    "numheads=35\n",
    "numlegs=94\n",
    "solutions=solve(numheads,numlegs)\n",
    "print (solutions)\n"
   ]
  },
  {
   "cell_type": "code",
   "execution_count": null,
   "metadata": {},
   "outputs": [],
   "source": []
  },
  {
   "cell_type": "markdown",
   "metadata": {
    "colab_type": "text",
    "id": "uqA5fok2t8Wq"
   },
   "source": [
    "#**Bonus Exercises Lecture 3**\n",
    "**Assignment Submission:**\n",
    "* The submission for this assignment is optional\n",
    "* Don't change the notebook's name. Eg: Extra-Exercise-3.ipynb\n",
    "* Submit your assignment via the link: https://www.bit.ly/python-submit\n",
    " "
   ]
  },
  {
   "cell_type": "markdown",
   "metadata": {
    "colab_type": "text",
    "id": "mvsZHnPXvvR-"
   },
   "source": [
    "1 - Given a two list of ints create a third list such that should contain only *odd* numbers from the first list and *even* numbers from the second list\n",
    "\n",
    "```\n",
    "#Given lists\n",
    "listOne = [10, 20, 23, 11, 17]\n",
    "listTwo = [13, 43, 24, 36, 12]\n",
    "#Expected Output:\n",
    "Merged List is\n",
    "[23, 11, 17, 24, 36, 12]\n",
    "```\n",
    "\n",
    "\n",
    "\n"
   ]
  },
  {
   "cell_type": "code",
   "execution_count": null,
   "metadata": {
    "colab": {},
    "colab_type": "code",
    "id": "cMrlwxYHzEmP"
   },
   "outputs": [],
   "source": [
    "#Son's solution \n",
    "# def mergeList(listOne, listTwo):\n",
    "#   thirdList = []\n",
    "#   for num in listOne:\n",
    "#     if(num % 2 != 0):\n",
    "#       thirdList.append(num)\n",
    "#   for num in listTwo:\n",
    "#     if(num % 2 == 0):\n",
    "#       thirdList.append(num)\n",
    "#   return thirdList\n",
    "#     \n",
    "# print(\"Merged List is\")\n",
    "# listOne = [10, 20, 23, 11, 17]\n",
    "# listTwo = [13, 43, 24, 36, 12]\n",
    "# \n",
    "# print(mergeList(listOne, listTwo))\n",
    "\n",
    "#--------------\n",
    "\n",
    "\n",
    "\n",
    "\n",
    "\n",
    "#Your Solution goes here\n",
    "# Worked on this with Toni, based on his initial code\n",
    "\n",
    "listOne = [10, 20, 23, 11, 17]\n",
    "listTwo = [13, 43, 24, 36, 12]\n",
    "\n",
    "Merged_List_is = []\n",
    "\n",
    "def even_odd_tester(listOne,listTwo):\n",
    "    for j in listOne:\n",
    "        if j % 2 != 0:\n",
    "            Merged_List_is.append(j) # using the function append\n",
    "        else:\n",
    "            pass\n",
    "        \n",
    "    for i in listTwo:\n",
    "        if i % 2 == 0:\n",
    "            Merged_List_is.append(i)\n",
    "        else:\n",
    "            pass\n",
    "        \n",
    "even_odd_tester(listOne,listTwo)\n",
    "print(Merged_List_is)\n"
   ]
  },
  {
   "cell_type": "markdown",
   "metadata": {
    "colab_type": "text",
    "id": "ubA5ZtDHybW4"
   },
   "source": [
    "2 - Given a list of ints, create a function (eg: isFirst_And_Last_Same) return True if first and last number of a list is same\n",
    "\n",
    "```\n",
    "#Given list\n",
    "numList = [2020,2019,2018,2017,2016,2020]\n",
    "```"
   ]
  },
  {
   "cell_type": "code",
   "execution_count": null,
   "metadata": {
    "colab": {},
    "colab_type": "code",
    "id": "MxZNnTsWzIup"
   },
   "outputs": [],
   "source": [
    "#Son's solution:\n",
    "# def isFirst_And_Last_Same(numberList):\n",
    "#   firstElement = numberList[0]\n",
    "#   lastElement =  numberList[-1]\n",
    "#   if(firstElement == lastElement):\n",
    "#     return True\n",
    "#   else:\n",
    "#     return False\n",
    "# numList = [2020,2019,2018,2017,2016,2020]\n",
    "# print(isFirst_And_Last_Same(numList))\n",
    "#---------------\n",
    "\n",
    "\n",
    "\n",
    "\n",
    "#Your solution goes here\n",
    "\n",
    "# - create list of ints - numList = [2020,2019,2018,2017,2016,2020]\n",
    "# - create a function -  isFirst_And_Last_Same\n",
    "# - function must return True if first and last number of list are same\n",
    "\n",
    "def isFirst_And_Last_Same\n",
    "    \n",
    "    return \n",
    "\n"
   ]
  },
  {
   "cell_type": "markdown",
   "metadata": {
    "colab_type": "text",
    "id": "PQzFxu59z1Am"
   },
   "source": [
    "3 - Given a string of odd length greater 7. Create a function (eg: getMiddleThreeChars) return a string made of the middle three chars of a given string\n",
    "\n",
    "For example: \n",
    "* getMiddleThreeChars(\"TheShortcut\") => \"hor\" \n",
    "* getMiddleThreeChars(\"Jasonay\") => \"son\""
   ]
  },
  {
   "cell_type": "code",
   "execution_count": null,
   "metadata": {
    "colab": {},
    "colab_type": "code",
    "id": "W_BVyF-x4oOr"
   },
   "outputs": [],
   "source": [
    "#Son's solution:\n",
    "# def getMiddleThreeChars(sampleStr):\n",
    "#   middleIndex = int(len(sampleStr) /2)\n",
    "#   print(\"Original String is\", sampleStr)\n",
    "#   middleThree = sampleStr[middleIndex-1:middleIndex+2]\n",
    "#   print(\"Middle three chars are\", middleThree)\n",
    "#   \n",
    "# getMiddleThreeChars(\"JhonDipPeta\")\n",
    "# getMiddleThreeChars(\"Jasonay\")\n",
    "#-------------\n",
    "\n",
    "\n",
    "#Your solution goes here"
   ]
  },
  {
   "cell_type": "markdown",
   "metadata": {
    "colab_type": "text",
    "id": "GEpQzpbe65fJ"
   },
   "source": [
    "4 - Define a class named Circle which can be constructed by a radius. The Circle class has a method which can compute the area.\n",
    "\n",
    "* Hint: Use def methodName(self) to define a method"
   ]
  },
  {
   "cell_type": "code",
   "execution_count": null,
   "metadata": {
    "colab": {},
    "colab_type": "code",
    "id": "0RYePOia6-u4"
   },
   "outputs": [],
   "source": [
    "#Son's solution\n",
    "# class Circle():\n",
    "#     def __init__(self,r):\n",
    "#         self.radius = r\n",
    "# \n",
    "#     def area(self):\n",
    "#         return 3.1416*(self.radius**2)\n",
    "# \n",
    "# circle = Circle(5)\n",
    "# print(circle.area())\n",
    "#---------------\n",
    "\n",
    "\n",
    "#Your solution goes here\n"
   ]
  },
  {
   "cell_type": "code",
   "execution_count": null,
   "metadata": {},
   "outputs": [],
   "source": []
  }
 ],
 "metadata": {
  "kernelspec": {
   "display_name": "Python 3",
   "language": "python",
   "name": "python3"
  },
  "language_info": {
   "codemirror_mode": {
    "name": "ipython",
    "version": 3
   },
   "file_extension": ".py",
   "mimetype": "text/x-python",
   "name": "python",
   "nbconvert_exporter": "python",
   "pygments_lexer": "ipython3",
   "version": "3.7.3"
  }
 },
 "nbformat": 4,
 "nbformat_minor": 4
}
