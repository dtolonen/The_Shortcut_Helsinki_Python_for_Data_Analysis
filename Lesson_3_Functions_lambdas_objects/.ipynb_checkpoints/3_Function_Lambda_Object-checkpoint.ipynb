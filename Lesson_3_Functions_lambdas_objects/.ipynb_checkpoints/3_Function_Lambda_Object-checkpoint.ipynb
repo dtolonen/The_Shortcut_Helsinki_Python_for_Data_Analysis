{
 "cells": [
  {
   "cell_type": "markdown",
   "metadata": {},
   "source": [
    "### 3 Function, Lambda, Object - lecture"
   ]
  },
  {
   "cell_type": "markdown",
   "metadata": {
    "colab_type": "text",
    "id": "LYvtBb2KVaiS"
   },
   "source": [
    "Son Huynh & Thao Ho 06.02.2020"
   ]
  },
  {
   "cell_type": "markdown",
   "metadata": {
    "colab_type": "text",
    "id": "VwSE3RJQXf-a"
   },
   "source": [
    "#**Learning Objectives:**\n",
    "* Create a function that takes arguments\n",
    "* Create instances of an object from a custom class"
   ]
  },
  {
   "cell_type": "markdown",
   "metadata": {
    "colab_type": "text",
    "id": "CAcbiCGLVk9q"
   },
   "source": [
    "#**1. Function** \n",
    "Functions are a convenient way to divide our code into useful blocks, providing us with order as well as making the code more readable and reusable.\n",
    "\n",
    "**A function is defined with a def statement**"
   ]
  },
  {
   "cell_type": "code",
   "execution_count": 1,
   "metadata": {
    "colab": {
     "base_uri": "https://localhost:8080/",
     "height": 102
    },
    "colab_type": "code",
    "id": "2Gp634tlXwUY",
    "outputId": "9ea8ac5e-3253-4e0f-b75f-0e7d0b5e9501"
   },
   "outputs": [
    {
     "name": "stdout",
     "output_type": "stream",
     "text": [
      "1\n",
      "2\n",
      "3\n",
      "4\n",
      "5\n"
     ]
    }
   ],
   "source": [
    "def myFunction():\n",
    "    # This function will print out numbers from 1-5\n",
    "    for num in range(5):\n",
    "        print(num+1) # see what this does with just num!\n",
    "        \n",
    "# A function will not run until you call it\n",
    "myFunction() \n",
    "# try what happens if you put anything in brackets:1,5,num etc. \n",
    "# (also try pytting something in the def brackets)\n",
    "\n",
    "# you need to call the function (with parens) \n",
    "# if your want to see what it does, as above\n",
    "\n"
   ]
  },
  {
   "cell_type": "markdown",
   "metadata": {
    "colab_type": "text",
    "id": "2hjUyXjVX6xS"
   },
   "source": [
    "**A function can have parameter(s)**"
   ]
  },
  {
   "cell_type": "code",
   "execution_count": 2,
   "metadata": {
    "colab": {
     "base_uri": "https://localhost:8080/",
     "height": 34
    },
    "colab_type": "code",
    "id": "EJxgIa3JX-8h",
    "outputId": "3dbdd4c4-74f3-4ba3-d478-58ab9959e83f"
   },
   "outputs": [
    {
     "name": "stdout",
     "output_type": "stream",
     "text": [
      "3\n"
     ]
    }
   ],
   "source": [
    "def countLetter(firstString, secondString, letter):\n",
    "    concat = firstString + secondString\n",
    "    count = concat.count(letter)\n",
    "    # letter is the param passed to > variable.function.(param)\n",
    "    \n",
    "    print(count)\n",
    "\n",
    "countLetter('abcQdeQ', 'fgQ', 'Q')\n",
    "\n",
    "# countLetter('abcQdeQ', 'fgQ') # if you try this, gets an error: need 3 params\n",
    "\n",
    "# if yuo passed (1,1,1) error bec. it works UNTIL count = concat.count(letter) \n",
    "#BEC the result would be 2, an integer turned into a str?, \n",
    "#and count is an integer method\n",
    "\n",
    "# countLetter( 'letter' ,'love', 'l') would result in 2\n",
    "\n",
    "# this function was created to count the letter(s) in the first and second string\n",
    "# the result will show you the no. of letters\n",
    "\n",
    "# you don't have to define the function like in C. \n",
    "# RESEARCH - Fabio - can you define functions above and not yet use them(?)\n",
    "\n",
    "# RESEARCH local vs global variables difference. \n",
    "\n"
   ]
  },
  {
   "cell_type": "markdown",
   "metadata": {
    "colab_type": "text",
    "id": "ffocpz-6YH7A"
   },
   "source": [
    "**A function can return something**"
   ]
  },
  {
   "cell_type": "code",
   "execution_count": 3,
   "metadata": {
    "colab": {},
    "colab_type": "code",
    "id": "c39d8fe2YHWP"
   },
   "outputs": [],
   "source": [
    "def maxmin(num_list):\n",
    "    maximum = max(num_list)\n",
    "    minimum = min(num_list) \n",
    "    \n",
    "    return maximum, minimum # need this for it to work\n",
    "\n",
    "maximum, minimum = maxmin([1, 10, 20, 100, -100])"
   ]
  },
  {
   "cell_type": "code",
   "execution_count": 4,
   "metadata": {
    "colab": {
     "base_uri": "https://localhost:8080/",
     "height": 34
    },
    "colab_type": "code",
    "id": "AYHu4usFYOyE",
    "outputId": "96528a55-c293-4583-cf26-6ed7026a1ad4"
   },
   "outputs": [
    {
     "data": {
      "text/plain": [
       "100"
      ]
     },
     "execution_count": 4,
     "metadata": {},
     "output_type": "execute_result"
    }
   ],
   "source": [
    "maximum"
   ]
  },
  {
   "cell_type": "code",
   "execution_count": 5,
   "metadata": {
    "colab": {
     "base_uri": "https://localhost:8080/",
     "height": 34
    },
    "colab_type": "code",
    "id": "KZpLZjnVYQ09",
    "outputId": "6b230f80-cdb7-4afa-e2a1-49da8d5ead07"
   },
   "outputs": [
    {
     "data": {
      "text/plain": [
       "-100"
      ]
     },
     "execution_count": 5,
     "metadata": {},
     "output_type": "execute_result"
    }
   ],
   "source": [
    "minimum"
   ]
  },
  {
   "cell_type": "code",
   "execution_count": 6,
   "metadata": {
    "colab": {
     "base_uri": "https://localhost:8080/",
     "height": 34
    },
    "colab_type": "code",
    "id": "1wMtlKdVYVUM",
    "outputId": "042e75b7-963d-4995-afb3-8efcb7c1da00"
   },
   "outputs": [
    {
     "data": {
      "text/plain": [
       "(50, 1)"
      ]
     },
     "execution_count": 6,
     "metadata": {},
     "output_type": "execute_result"
    }
   ],
   "source": [
    "max_and_min = maxmin([1, 10, 50])\n",
    "\n",
    "max_and_min"
   ]
  },
  {
   "cell_type": "markdown",
   "metadata": {
    "colab_type": "text",
    "id": "gv2D-zlmYe2Y"
   },
   "source": [
    "**Local and global variable:**\n",
    "* Local variable only **exists within a defined function**\n",
    "* Global variable exists and **can be accessed everywhere in the code**"
   ]
  },
  {
   "cell_type": "code",
   "execution_count": 7,
   "metadata": {
    "colab": {
     "base_uri": "https://localhost:8080/",
     "height": 317
    },
    "colab_type": "code",
    "id": "eMGMz9GSYlK5",
    "outputId": "05c84864-ce3d-4116-ac15-955778495f66"
   },
   "outputs": [
    {
     "ename": "UnboundLocalError",
     "evalue": "local variable 'i' referenced before assignment",
     "output_type": "error",
     "traceback": [
      "\u001b[0;31m---------------------------------------------------------------------------\u001b[0m",
      "\u001b[0;31mUnboundLocalError\u001b[0m                         Traceback (most recent call last)",
      "\u001b[0;32m<ipython-input-7-abadfee55c37>\u001b[0m in \u001b[0;36m<module>\u001b[0;34m\u001b[0m\n\u001b[1;32m      3\u001b[0m     \u001b[0mi\u001b[0m \u001b[0;34m=\u001b[0m \u001b[0mi\u001b[0m \u001b[0;34m+\u001b[0m \u001b[0;36m1\u001b[0m \u001b[0;31m#You cannot modify/redefine a global variable inside a function\u001b[0m\u001b[0;34m\u001b[0m\u001b[0;34m\u001b[0m\u001b[0m\n\u001b[1;32m      4\u001b[0m \u001b[0;34m\u001b[0m\u001b[0m\n\u001b[0;32m----> 5\u001b[0;31m \u001b[0mincrement\u001b[0m\u001b[0;34m(\u001b[0m\u001b[0;34m)\u001b[0m\u001b[0;34m\u001b[0m\u001b[0;34m\u001b[0m\u001b[0m\n\u001b[0m",
      "\u001b[0;32m<ipython-input-7-abadfee55c37>\u001b[0m in \u001b[0;36mincrement\u001b[0;34m()\u001b[0m\n\u001b[1;32m      1\u001b[0m \u001b[0mi\u001b[0m \u001b[0;34m=\u001b[0m \u001b[0;36m10\u001b[0m \u001b[0;31m#Global variable\u001b[0m\u001b[0;34m\u001b[0m\u001b[0;34m\u001b[0m\u001b[0m\n\u001b[1;32m      2\u001b[0m \u001b[0;32mdef\u001b[0m \u001b[0mincrement\u001b[0m\u001b[0;34m(\u001b[0m\u001b[0;34m)\u001b[0m\u001b[0;34m:\u001b[0m\u001b[0;34m\u001b[0m\u001b[0;34m\u001b[0m\u001b[0m\n\u001b[0;32m----> 3\u001b[0;31m     \u001b[0mi\u001b[0m \u001b[0;34m=\u001b[0m \u001b[0mi\u001b[0m \u001b[0;34m+\u001b[0m \u001b[0;36m1\u001b[0m \u001b[0;31m#You cannot modify/redefine a global variable inside a function\u001b[0m\u001b[0;34m\u001b[0m\u001b[0;34m\u001b[0m\u001b[0m\n\u001b[0m\u001b[1;32m      4\u001b[0m \u001b[0;34m\u001b[0m\u001b[0m\n\u001b[1;32m      5\u001b[0m \u001b[0mincrement\u001b[0m\u001b[0;34m(\u001b[0m\u001b[0;34m)\u001b[0m\u001b[0;34m\u001b[0m\u001b[0;34m\u001b[0m\u001b[0m\n",
      "\u001b[0;31mUnboundLocalError\u001b[0m: local variable 'i' referenced before assignment"
     ]
    }
   ],
   "source": [
    "i = 10 #Global variable\n",
    "def increment():\n",
    "    i = i + 1 #You cannot modify/redefine a global variable inside a function\n",
    "\n",
    "increment()"
   ]
  },
  {
   "cell_type": "code",
   "execution_count": null,
   "metadata": {
    "colab": {},
    "colab_type": "code",
    "id": "r2DM8ccVYonc"
   },
   "outputs": [],
   "source": [
    "i = 10 #Global variable - this is outside\n",
    "def increment():\n",
    "    #print(i) this would produce an error, as below they don't interfere.\n",
    "    i = 4 #Local variable, this is inside the function\n",
    "increment()\n",
    "    # print(i) what about this one?\n",
    "# so , this doesn't mod the global var outside. The global and local vars\n",
    "# don't interfere with each other. This can also be a security function."
   ]
  },
  {
   "cell_type": "code",
   "execution_count": null,
   "metadata": {
    "colab": {
     "base_uri": "https://localhost:8080/",
     "height": 34
    },
    "colab_type": "code",
    "id": "wVa68vW_YrMJ",
    "outputId": "73d1bd36-eb6d-4875-b7c0-23068a2f1fa5"
   },
   "outputs": [],
   "source": [
    "i #Global variable unchanged"
   ]
  },
  {
   "cell_type": "markdown",
   "metadata": {
    "colab_type": "text",
    "id": "G9WsYmvnYttd"
   },
   "source": [
    "* Exception: You can modify a global mutable data type: list, dictionary, dataframe\n",
    "* **Local variable still has higher priority**"
   ]
  },
  {
   "cell_type": "code",
   "execution_count": null,
   "metadata": {
    "colab": {
     "base_uri": "https://localhost:8080/",
     "height": 34
    },
    "colab_type": "code",
    "id": "X5uZuaHZYzd2",
    "outputId": "232860dc-6646-47f2-b9ee-ccfcc2e29e7c"
   },
   "outputs": [],
   "source": [
    "i = [1, 1, 1]\n",
    "def modify():\n",
    "    i = [2, 2, 2]\n",
    "    i[0] = 5\n",
    "    print(i)\n",
    "\n",
    "modify()\n",
    "\n",
    "# nb 5,2,2 not 2,2,2\n"
   ]
  },
  {
   "cell_type": "code",
   "execution_count": null,
   "metadata": {
    "colab": {
     "base_uri": "https://localhost:8080/",
     "height": 34
    },
    "colab_type": "code",
    "id": "gXO4B7xCY1fV",
    "outputId": "74648956-40ba-4de8-eaf1-4ebc27b1bb78"
   },
   "outputs": [],
   "source": [
    "i # when you want to check the global variable, it's still the same"
   ]
  },
  {
   "cell_type": "markdown",
   "metadata": {
    "colab_type": "text",
    "id": "k-DnQI-3ZAok"
   },
   "source": [
    "**When to use function: a function is suitable when you have a repetitive task that you need to perform several times**"
   ]
  },
  {
   "cell_type": "markdown",
   "metadata": {
    "colab_type": "text",
    "id": "_BB_fI3FrJmY"
   },
   "source": [
    "#**2. Classes/ Object**\n",
    "Python is an Object Oriented Programming(OOP) \n",
    "* Class - A template to create your objects\n",
    "* Object - An instance of a class. Objects get their variables and functions from classes.\n",
    "  * 2.1 Create a class\n",
    "  * 2.2 Create an object\n",
    "\n"
   ]
  },
  {
   "cell_type": "markdown",
   "metadata": {
    "colab_type": "text",
    "id": "SXErdfKXsIkm"
   },
   "source": [
    "##**2.1 Class**\n",
    "A very basic class would look something like this:"
   ]
  },
  {
   "cell_type": "code",
   "execution_count": null,
   "metadata": {
    "colab": {},
    "colab_type": "code",
    "id": "XuN3vDlTsTwl"
   },
   "outputs": [],
   "source": [
    "class MyClass: # use class keyword, then the class name\n",
    "  variable = \"test\"\n",
    "  \n",
    "  def function(self):\n",
    "    print(\"The class is for testing\")\n",
    "\n",
    "  "
   ]
  },
  {
   "cell_type": "markdown",
   "metadata": {
    "colab_type": "text",
    "id": "2pPMWR-RtRc7"
   },
   "source": [
    "##**2.2 Object**\n",
    "\n",
    "Assigning the above class to an object:\n"
   ]
  },
  {
   "cell_type": "code",
   "execution_count": null,
   "metadata": {
    "colab": {},
    "colab_type": "code",
    "id": "r0Ipmjrssw4g"
   },
   "outputs": [],
   "source": [
    "#Now the variable \"myobject\" holds an object of the class \"MyClass\" that contains the variable and \n",
    "#the function defined within the class called \"MyClass\".\n",
    "\n",
    "class MyClass:\n",
    "  variable = \"test\"\n",
    "  \n",
    "  def function(self):\n",
    "    print(\"The class is for testing\")\n",
    "\n",
    "myobject = MyClass() # so, this is outside the class, which itself holds the var+function"
   ]
  },
  {
   "cell_type": "markdown",
   "metadata": {
    "colab_type": "text",
    "id": "9CrrnHiLt_oy"
   },
   "source": [
    "Then, in order to access the variable inside of the newly created object \"myobject\" we would do the following. So for instance the below would output the string \"test\":"
   ]
  },
  {
   "cell_type": "code",
   "execution_count": null,
   "metadata": {
    "colab": {
     "base_uri": "https://localhost:8080/",
     "height": 34
    },
    "colab_type": "code",
    "id": "I3pYybccuUKl",
    "outputId": "a219c3eb-70d9-490c-f8c5-fff7bdaff001"
   },
   "outputs": [],
   "source": [
    "class MyClass:\n",
    "    variable = \"test\"\n",
    "\n",
    "    def function(self):\n",
    "        print(\"This is a message inside the class.\")\n",
    "\n",
    "myobject = MyClass()\n",
    "\n",
    "myobject.variable\n",
    "\n",
    "#print(myobject.variable)"
   ]
  },
  {
   "cell_type": "code",
   "execution_count": null,
   "metadata": {
    "colab": {
     "base_uri": "https://localhost:8080/",
     "height": 51
    },
    "colab_type": "code",
    "id": "Uqvgoi0cBC63",
    "outputId": "d26def78-33f8-4f5a-d55d-b43a0c7bd7b7"
   },
   "outputs": [],
   "source": [
    "#Example\n",
    "\n",
    "class Duck:\n",
    "  def sound(self):\n",
    "    print('Quaaaaack!')\n",
    "  \n",
    "  def walk(self):\n",
    "    print('Walks like a duck.')\n",
    "\n",
    "\n",
    "donald = Duck() #donald is object, Duck is val\n",
    "donald.sound() # these are functions\n",
    "donald.walk()\n"
   ]
  },
  {
   "cell_type": "markdown",
   "metadata": {
    "colab_type": "text",
    "id": "u6qiXo98VowW"
   },
   "source": [
    "#**3. Lambda**"
   ]
  },
  {
   "cell_type": "markdown",
   "metadata": {
    "colab_type": "text",
    "id": "TYleRV15Vwdn"
   },
   "source": [
    "* In Python, **lambda** is used to declare an anonymous function\n",
    "* **Lambda functions work in the same way as regular functions** that are declared by the **def** keyword\n",
    "* Lambda function can take any number of arguments, but it **only contains a single expression**\n",
    "* It **can be used to return function objects**"
   ]
  },
  {
   "cell_type": "markdown",
   "metadata": {
    "colab_type": "text",
    "id": "Ddd4wbWqYW05"
   },
   "source": [
    "##**3.1 Creating a Lambda Function**\n",
    "\n",
    "\n",
    "*   Small, anonymous functions\n",
    "*   Can be passed as arguments where you need a function\n",
    "\n"
   ]
  },
  {
   "cell_type": "markdown",
   "metadata": {
    "colab_type": "text",
    "id": "Coe28RbqYvGp"
   },
   "source": [
    "\n",
    "\n",
    "---\n",
    "\n",
    "\n",
    "lambda arguments(parameters): expression\n",
    "\n",
    "\n",
    "---\n",
    "\n",
    "\n",
    "\n"
   ]
  },
  {
   "cell_type": "code",
   "execution_count": null,
   "metadata": {
    "colab": {
     "base_uri": "https://localhost:8080/",
     "height": 51
    },
    "colab_type": "code",
    "id": "iap0n_JCYT5P",
    "outputId": "d435abe9-547d-42d8-bd25-cfbe3cb1c9e3"
   },
   "outputs": [],
   "source": [
    "#Example: \n",
    "\n",
    "remainder = lambda num: num%2 # the keyword lamda put in here w/param num inside var remainder\n",
    "print(remainder(7))\n",
    "print(remainder(9))"
   ]
  },
  {
   "cell_type": "markdown",
   "metadata": {
    "colab_type": "text",
    "id": "yQ8LMSDwbSz_"
   },
   "source": [
    "In the example above, the expression is included:\n",
    "  * **The keyword**: lambda\n",
    "  * **A bound variable**: num\n",
    "  * **A body**: num%2\n"
   ]
  },
  {
   "cell_type": "markdown",
   "metadata": {
    "colab_type": "text",
    "id": "uUOJTLHOaprg"
   },
   "source": [
    "It is similar to the following:"
   ]
  },
  {
   "cell_type": "code",
   "execution_count": null,
   "metadata": {
    "colab": {
     "base_uri": "https://localhost:8080/",
     "height": 34
    },
    "colab_type": "code",
    "id": "loe4UGdvafya",
    "outputId": "e894ae19-9952-4761-ea00-a5b4430947d2"
   },
   "outputs": [],
   "source": [
    "# If don't use lamda, you can define it like \n",
    "#a normal function and call the fn when you want\n",
    "# but lamda will also prove useful later in creating more fancy things\n",
    "# I recommend using lamda, when you need a (nameless/anonymous?) function \n",
    "# for a short time\n",
    "\n",
    "\n",
    "def remainder(num):\n",
    "  return num%2\n",
    "\n",
    "print(remainder(7))"
   ]
  },
  {
   "cell_type": "markdown",
   "metadata": {
    "colab_type": "text",
    "id": "J9xJRS6ae_z0"
   },
   "source": [
    "Lambda was used when you need a function for a short period time. The power of lambda is used when you need it as an anonymous function inside another function. \n"
   ]
  },
  {
   "cell_type": "code",
   "execution_count": null,
   "metadata": {
    "colab": {
     "base_uri": "https://localhost:8080/",
     "height": 51
    },
    "colab_type": "code",
    "id": "ekUuQXULcVQe",
    "outputId": "d1762185-5669-4c49-c494-187f4c2d852f"
   },
   "outputs": [],
   "source": [
    "#This example is that you have a function definition that takes one argument, and that number will be added \n",
    "#with an unknown number\n",
    "\n",
    "# I put the nameless function inside a function.  A function that returns a function\n",
    "def myfunc(num):\n",
    "  return lambda x: x+ num\n",
    "\n",
    "addtwo = myfunc(2)\n",
    "addthree = myfunc(3)\n",
    "\n",
    "# help(addtwo) tried this to see in the output some kind of help?\n",
    "\n",
    "print(addtwo(10)) # parameters passed to these\n",
    "print(addthree(10))\n"
   ]
  },
  {
   "cell_type": "markdown",
   "metadata": {
    "colab_type": "text",
    "id": "HlNaCstMjQaI"
   },
   "source": [
    "##**3.2 Alternatives to Lambda**\n",
    "Lambda functions can be used together with Python's function like **map()**, **filter()**, etc."
   ]
  },
  {
   "cell_type": "markdown",
   "metadata": {
    "colab_type": "text",
    "id": "LVl7W7mcj5Eh"
   },
   "source": [
    "\n",
    "\n",
    "1.   map( ) : a built-in function that **takes a function object and a list**\n",
    "\n",
    "      * **the syntax**: map(function_object, iterable_1, iterable_2, ...)\n",
    "      * It executes the function_object for each element in the sequence and returns a list of the elements modified by the function object\n",
    "\n",
    "2.   filter( ) : expects two arguments - function_object and an iterable\n",
    "\n",
    "      * filter(function_object, iterable)\n",
    "      * Filter returns only those elements for which the function_object returns true\n",
    "      * different to map in that it can only take one iterable\n",
    "\n",
    "\n",
    "\n"
   ]
  },
  {
   "cell_type": "markdown",
   "metadata": {
    "colab_type": "text",
    "id": "403ZnQ5boIMo"
   },
   "source": [
    "###**3.2.1 map()**"
   ]
  },
  {
   "cell_type": "markdown",
   "metadata": {
    "colab_type": "text",
    "id": "h4nZeZgkgX_u"
   },
   "source": [
    "We have the following simple square function"
   ]
  },
  {
   "cell_type": "code",
   "execution_count": null,
   "metadata": {
    "colab": {},
    "colab_type": "code",
    "id": "S9FdDWbJgShS"
   },
   "outputs": [],
   "source": [
    "def square(x):\n",
    "  return x*x"
   ]
  },
  {
   "cell_type": "markdown",
   "metadata": {
    "colab_type": "text",
    "id": "Hwq1Wq1Qg3Nz"
   },
   "source": [
    "Now, we can call the map function with the list of numbers to get the list of result \n",
    "\n",
    "\n"
   ]
  },
  {
   "cell_type": "code",
   "execution_count": null,
   "metadata": {
    "colab": {
     "base_uri": "https://localhost:8080/",
     "height": 34
    },
    "colab_type": "code",
    "id": "KoDjYmEThISC",
    "outputId": "fb3103a0-46c2-442e-aac7-b234726f2826"
   },
   "outputs": [],
   "source": [
    "number_list = [1, 2, 3, 4, 5]\n",
    "result_list=list(map(square, number_list)) \n",
    "# inside the function you want executed, then the list\n",
    "result_list"
   ]
  },
  {
   "cell_type": "code",
   "execution_count": null,
   "metadata": {
    "colab": {
     "base_uri": "https://localhost:8080/",
     "height": 34
    },
    "colab_type": "code",
    "id": "HqFuNQ2voTf9",
    "outputId": "c9273ac2-9f0b-48c6-8863-cc26498757cc"
   },
   "outputs": [],
   "source": [
    "numbers_list = [3,2,5,7,19,0,4,98,197]\n",
    "\n",
    "mapped_list = list(map(lambda num: num % 2, numbers_list))\n",
    "\n",
    "print(mapped_list)\n",
    "\n",
    "# this works along the same logic as above: numbers in the numbers list"
   ]
  },
  {
   "cell_type": "code",
   "execution_count": null,
   "metadata": {
    "colab": {
     "base_uri": "https://localhost:8080/",
     "height": 51
    },
    "colab_type": "code",
    "id": "NxF0uvsGiBri",
    "outputId": "c705d61b-3891-4288-c8a9-4627d90de5bd"
   },
   "outputs": [],
   "source": [
    "#return the upper case string \n",
    "def to_upper_case(s):\n",
    "  return str(s).upper()\n",
    "\n",
    "# function does: upper case\n",
    "# Rami: where does Python know how to get the upper cases, something built in? \n",
    "# Thao: yes, the function 'upper'\n",
    "\n",
    "#print iterator elements with white space \n",
    "def print_iterator(it):\n",
    "  for x in it:\n",
    "    print(x, end=' ')\n",
    "  print(' ') #for the new line\n",
    "\n",
    "# function does: gives each letter a space\n",
    "\n",
    "#map() with string\n",
    "map_iterator = map(to_upper_case, 'abc') # this is a string, not a list\n",
    "print(type(map_iterator)) \n",
    "\n",
    "# does: to execute the first iterator wih the string abc. \n",
    "\n",
    "print_iterator(map_iterator)\n",
    "\n",
    "\n"
   ]
  },
  {
   "cell_type": "markdown",
   "metadata": {
    "colab_type": "text",
    "id": "QaTou0wlhqwl"
   },
   "source": [
    "**Map with Lambda Expression**"
   ]
  },
  {
   "cell_type": "code",
   "execution_count": null,
   "metadata": {
    "colab": {
     "base_uri": "https://localhost:8080/",
     "height": 34
    },
    "colab_type": "code",
    "id": "L7ZPP3nvh3zP",
    "outputId": "109154b9-ec10-48bb-f318-37d4c746d806"
   },
   "outputs": [],
   "source": [
    "result_list = list(map(lambda x: x*x, [1, 2, 3, 4]))\n",
    "\n",
    "result_list"
   ]
  },
  {
   "cell_type": "markdown",
   "metadata": {
    "colab_type": "text",
    "id": "Ai3f7Hu0j7ZA"
   },
   "source": [
    "## **Challenge 1**\n",
    "In the below example, map executes the multiply2 function for each element in the list [1,2,3,4] and return the list [2,4,6,8]\n"
   ]
  },
  {
   "cell_type": "code",
   "execution_count": null,
   "metadata": {
    "colab": {
     "base_uri": "https://localhost:8080/",
     "height": 34
    },
    "colab_type": "code",
    "id": "vRg84W1okZd5",
    "outputId": "97326314-0c83-43ef-b03a-2dc477d4ad88"
   },
   "outputs": [],
   "source": [
    "def multiply2(x):\n",
    "  return x * 2\n",
    "    \n",
    "double_list=list(map(multiply2, [1, 2, 3, 4])) # Output [2, 4, 6, 8]\n",
    "print(double_list)\n",
    "\n"
   ]
  },
  {
   "cell_type": "markdown",
   "metadata": {
    "colab_type": "text",
    "id": "1RVP-9__lEOY"
   },
   "source": [
    "Let's rewrite the above code using *map*, *lambda* and *list*"
   ]
  },
  {
   "cell_type": "code",
   "execution_count": null,
   "metadata": {},
   "outputs": [],
   "source": [
    "# RETURN TO THIS \n",
    "\n",
    "double_list = list(map(lambda x: x*2, [1, 2, 3, 4]))\n",
    "print(double_list)\n",
    "\n",
    "# this was close to the right one, what's missing - basically, \n",
    "# insert the function object, lambda and inputs(the list) into map.\n",
    "# 'If you took out the x bit, you'd not get the list but only the object'."
   ]
  },
  {
   "cell_type": "markdown",
   "metadata": {
    "colab": {},
    "colab_type": "code",
    "id": "OwJ8y9hJlUIe"
   },
   "source": [
    "double_list=list(map(lamda(x : x*x, [1, 2, 3, 4]))\n",
    "print(double_list)"
   ]
  },
  {
   "cell_type": "markdown",
   "metadata": {
    "colab_type": "text",
    "id": "_yWvt5-LqwBC"
   },
   "source": [
    "**Multiple Iterables to the Map Function**\n",
    "\n"
   ]
  },
  {
   "cell_type": "code",
   "execution_count": null,
   "metadata": {
    "colab": {
     "base_uri": "https://localhost:8080/",
     "height": 34
    },
    "colab_type": "code",
    "id": "wxKwFESNrEE4",
    "outputId": "d1fa76ea-6eb2-4c8c-b772-60803707f710"
   },
   "outputs": [],
   "source": [
    "list_a = [1, 2, 3]\n",
    "list_b = [10, 20, 30]\n",
    "\n",
    "#Using map, lambda and list \n",
    "result_list = list(map(lambda x, y: x + y, list_a, list_b))\n",
    "print(result_list)"
   ]
  },
  {
   "cell_type": "markdown",
   "metadata": {
    "colab_type": "text",
    "id": "4Y3KeD7qoOlL"
   },
   "source": [
    "###**3.2.2 filter()** \n",
    "\n",
    "\n",
    "*   Like the map(), filter() also returns a list of elements\n",
    "*   Unlike the map(), filter() can only have one iterable as input\n",
    "\n"
   ]
  },
  {
   "cell_type": "code",
   "execution_count": null,
   "metadata": {
    "colab": {
     "base_uri": "https://localhost:8080/",
     "height": 34
    },
    "colab_type": "code",
    "id": "-LUN0Wdmo5Cs",
    "outputId": "216131c5-31e5-426b-a5eb-86a6722f5616"
   },
   "outputs": [],
   "source": [
    "numbers_list = [3,2,5,7,19,0,4,98,197]\n",
    "\n",
    "filtered_list = list(filter(lambda num: (num > 5), numbers_list))\n",
    "\n",
    "print(filtered_list)\n"
   ]
  },
  {
   "cell_type": "markdown",
   "metadata": {
    "colab_type": "text",
    "id": "YeQVMkeFr6xK"
   },
   "source": [
    "##**Challenge 2:**\n",
    "Given a list of numbers, find all numbers divisible by 13"
   ]
  },
  {
   "cell_type": "code",
   "execution_count": null,
   "metadata": {
    "colab": {},
    "colab_type": "code",
    "id": "KqM8tCxfsYUA"
   },
   "outputs": [],
   "source": [
    "# REMEMBER NOT TO REINVENT THE WHEEL \n",
    "# ie. look at the previous examples above to help you!\n",
    "\n",
    "\n",
    "# Given list  \n",
    "my_list = [12, 65, 54, 39, 102, 339, 221, 50, 70]\n",
    "\n",
    "filtered_list = list(filter(lambda num: (num%13==0), my_list))\n",
    "\n",
    "print(filtered_list)\n",
    "\n",
    "\n",
    "# Use anonymous function to filter and comparing if divisible or not \n",
    "# Your soluion goes here\n",
    "\n",
    "\n",
    "\n",
    "#printing result. Output should be [65, 39,221]\n",
    "#print(result)"
   ]
  },
  {
   "cell_type": "markdown",
   "metadata": {
    "colab_type": "text",
    "id": "WPoqU__mu4oZ"
   },
   "source": [
    "## **Challenge 3:**\n",
    "We have a class defined for vehicles. Create two new vehicles called car1 and car2. Set car1 to be a red convertible worth 60,000.00 with a name of Fer, and car2 to be a blue van named Jump worth 10,000.00."
   ]
  },
  {
   "cell_type": "code",
   "execution_count": null,
   "metadata": {
    "colab": {},
    "colab_type": "code",
    "id": "CGiF42Z4vCEd"
   },
   "outputs": [],
   "source": [
    "\n",
    "# define the Vehicle class\n",
    "class Vehicle:\n",
    "    name = \"\"\n",
    "    kind = \"car\"\n",
    "    color = \"\"\n",
    "    value = 100.00\n",
    "    def description(self):\n",
    "        desc_str = \"%s is a %s %s worth $%.2f.\" % (self.name, self.color, self.kind, self.value)\n",
    "        # this is Thao's original way to do it\n",
    "        desc_str = \"{}s is a {}s {}s worth {}\".format(self.name, self.color, self.kind, self.value)\n",
    "        # this is Toni's version which works, just replaces % with {}\n",
    "        # RESEARCH Is there a difference in Python, like C, between %i and %d etc.?\n",
    "\n",
    "        return desc_str\n",
    "# your code goes here\n",
    "\n",
    "\n",
    "car1 = Vehicle() # when you assign a class to a var it's not a var, but an object\n",
    "car1.name = 'Fer' # remember the quotes, didn't work without them!\n",
    "car1.color = 'red'\n",
    "car1.kind = 'convertible'\n",
    "car1.value = 60000\n",
    "\n",
    "car2 = Vehicle() \n",
    "car2.name = 'Jump' \n",
    "car2.color = 'blue'\n",
    "car2.kind = 'van'\n",
    "car2.value = 10000\n",
    "\n",
    "\n",
    "# test code\n",
    "print(car1.description()) # works as is, but can I use the inner brackets? \n",
    "print(car2.description())"
   ]
  },
  {
   "cell_type": "markdown",
   "metadata": {
    "colab_type": "text",
    "id": "M_K0TXydtIzI"
   },
   "source": [
    "##**References**\n",
    "* Medium - Lambda, Map and Function in Python: https://medium.com/better-programming/lambda-map-and-filter-in-python-4935f248593\n",
    "* Python Tips: https://book.pythontips.com/en/latest/map_filter.html\n",
    "* Python Tutorial: https://docs.python.org/2.7/tutorial\n"
   ]
  }
 ],
 "metadata": {
  "kernelspec": {
   "display_name": "Python 3",
   "language": "python",
   "name": "python3"
  },
  "language_info": {
   "codemirror_mode": {
    "name": "ipython",
    "version": 3
   },
   "file_extension": ".py",
   "mimetype": "text/x-python",
   "name": "python",
   "nbconvert_exporter": "python",
   "pygments_lexer": "ipython3",
   "version": "3.7.3"
  }
 },
 "nbformat": 4,
 "nbformat_minor": 4
}
